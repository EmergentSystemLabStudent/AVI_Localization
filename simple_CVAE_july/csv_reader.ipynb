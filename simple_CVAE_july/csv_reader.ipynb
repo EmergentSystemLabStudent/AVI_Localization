{
 "cells": [
  {
   "cell_type": "code",
   "execution_count": 29,
   "metadata": {},
   "outputs": [],
   "source": [
    "import csv\n",
    "import matplotlib.pyplot as plt\n",
    "import numpy as np\n",
    "\n",
    "usplus = open(\"./usplus.csv\")\n",
    "f1 = csv.reader(usplus)\n",
    "usplus1 = open(\"./usplus1.csv\")\n",
    "f2 = csv.reader(usplus1)\n",
    "non_linear_plus = open(\"./non_linear_plus.csv\")\n",
    "f3 = csv.reader(non_linear_plus)"
   ]
  },
  {
   "cell_type": "code",
   "execution_count": 30,
   "metadata": {},
   "outputs": [],
   "source": [
    "d3={\"x\":[],\"y\":[],\"yaw\":[]}\n",
    "for i in f3:\n",
    "    d3[\"x\"].append(float(i[0]))\n",
    "    d3[\"y\"].append(float(i[1]))\n",
    "    d3[\"yaw\"].append(float(i[2]))"
   ]
  },
  {
   "cell_type": "code",
   "execution_count": 31,
   "metadata": {},
   "outputs": [
    {
     "data": {
      "image/png": "[encoded data removed]",
      "text/plain": [
       "<Figure size 432x288 with 1 Axes>"
      ]
     },
     "metadata": {
      "needs_background": "light"
     },
     "output_type": "display_data"
    }
   ],
   "source": [
    "left= np.arange(len(d3[\"x\"]))\n",
    "width = 0.3\n",
    "\n",
    "labels=['-π/6','-π/12','0.0','π/12','π/6']\n",
    "\n",
    "plt.bar(left, d3[\"x\"], color='r', width=width, align='center')\n",
    "plt.bar(left+width, d3[\"y\"], color='b', width=width, align='center')\n",
    "plt.yticks(np.arange(0.0,1.0,0.1))\n",
    "plt.xticks(left + width/2,labels)\n",
    "plt.show()"
   ]
  },
  {
   "cell_type": "code",
   "execution_count": 32,
   "metadata": {},
   "outputs": [
    {
     "data": {
      "image/png": "[encoded data removed]",
      "text/plain": [
       "<Figure size 432x288 with 1 Axes>"
      ]
     },
     "metadata": {
      "needs_background": "light"
     },
     "output_type": "display_data"
    }
   ],
   "source": [
    "left= np.arange(len(d3[\"x\"]))\n",
    "width = 0.3\n",
    "\n",
    "labels=['-π/6','-π/12','0.0','π/12','π/6']\n",
    "\n",
    "plt.bar(left+width/2, d3[\"yaw\"],color='y',width=width, align='center')\n",
    "\n",
    "plt.yticks(np.arange(0.0,0.3,0.05))\n",
    "plt.xticks(left + width/2,labels)\n",
    "plt.show()"
   ]
  },
  {
   "cell_type": "code",
   "execution_count": 2,
   "metadata": {},
   "outputs": [
    {
     "name": "stdout",
     "output_type": "stream",
     "text": [
      "['0.2180330051046758', '0.19353730927045337'] ['0.251678963330016', '0.20722167294126667']\n",
      "['0.21684554243329285', '0.19915768886094065'] ['0.2599044609009653', '0.21230860510339622']\n",
      "['0.23319002549680287', '0.2015329050870198'] ['0.2592572121909092', '0.20531372239635667']\n",
      "['0.22075973913970134', '0.20682073284908378'] ['0.2563488969598029', '0.20762912607360787']\n",
      "['0.2197145602774884', '0.20542818304125163'] ['0.26493768838927895', '0.21126625148447722']\n",
      "['0.22290748499263835', '0.20238998015401571'] ['0.27168743120425015', '0.20659895318727528']\n",
      "['0.21784094169081505', '0.1990056754635168'] ['0.26251063589705587', '0.20397842299097133']\n",
      "['0.21677897259229795', '0.21397043026437618'] ['0.2622088378379367', '0.20332262821920927']\n",
      "['0.22673012277579938', '0.20926664321173788'] ['0.27568488790537987', '0.20849367768830498']\n"
     ]
    }
   ],
   "source": [
    "d1={\"x\":[],\"y\":[]}\n",
    "d2={\"x\":[],\"y\":[]}\n",
    "for i,j in zip(f1,f2):\n",
    "    print(i,j)\n",
    "    d1[\"x\"].append(float(i[0]))\n",
    "    d2[\"x\"].append(float(j[0]))\n",
    "    d1[\"y\"].append(float(i[1]))\n",
    "    d2[\"y\"].append(float(j[1]))"
   ]
  },
  {
   "cell_type": "code",
   "execution_count": 6,
   "metadata": {},
   "outputs": [
    {
     "data": {
      "image/png": "[encoded data removed]",
      "text/plain": [
       "<Figure size 432x288 with 1 Axes>"
      ]
     },
     "metadata": {
      "needs_background": "light"
     },
     "output_type": "display_data"
    }
   ],
   "source": [
    "left= np.arange(len(d1[\"x\"]))\n",
    "width = 0.3\n",
    "\n",
    "labels=['-5.0','-5.0','-5.0','0.0','0.0','0.0','5.0','5.0','5.0']\n",
    "\n",
    "plt.bar(left, d1[\"x\"], color='r', width=width, align='center')\n",
    "plt.bar(left+width, d2[\"x\"], color='b', width=width, align='center')\n",
    "plt.yticks(np.arange(0.0,0.6,0.1))\n",
    "plt.xticks(left + width/2,labels)\n",
    "plt.show()"
   ]
  },
  {
   "cell_type": "code",
   "execution_count": 4,
   "metadata": {},
   "outputs": [
    {
     "data": {
      "image/png": "[encoded data removed]",
      "text/plain": [
       "<Figure size 432x288 with 1 Axes>"
      ]
     },
     "metadata": {
      "needs_background": "light"
     },
     "output_type": "display_data"
    }
   ],
   "source": [
    "left= np.arange(len(d1[\"x\"]))\n",
    "width = 0.3\n",
    "\n",
    "labels=['-5.0','0.0','5.0','-5.0','0.0','5.0','-5.0','0.0','5.0']\n",
    "\n",
    "plt.bar(left, d1[\"y\"], color='r', width=width, align='center')\n",
    "plt.bar(left+width, d2[\"y\"], color='b', width=width, align='center')\n",
    "plt.yticks(np.arange(0.0,0.6,0.05))\n",
    "plt.xticks(left + width/2,labels)\n",
    "plt.show()"
   ]
  },
  {
   "cell_type": "code",
   "execution_count": null,
   "metadata": {},
   "outputs": [],
   "source": []
  }
 ],
 "metadata": {
  "kernelspec": {
   "display_name": "Python 3",
   "language": "python",
   "name": "python3"
  },
  "language_info": {
   "codemirror_mode": {
    "name": "ipython",
    "version": 3
   },
   "file_extension": ".py",
   "mimetype": "text/x-python",
   "name": "python",
   "nbconvert_exporter": "python",
   "pygments_lexer": "ipython3",
   "version": "3.6.7"
  }
 },
 "nbformat": 4,
 "nbformat_minor": 2
}
