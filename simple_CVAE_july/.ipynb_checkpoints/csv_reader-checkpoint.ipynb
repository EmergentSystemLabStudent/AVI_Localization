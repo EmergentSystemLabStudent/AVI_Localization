{
 "cells": [
  {
   "cell_type": "code",
   "execution_count": 5,
   "metadata": {},
   "outputs": [],
   "source": [
    "import csv\n",
    "import matplotlib.pyplot as plt\n",
    "import numpy as np\n",
    "\n",
    "usplus = open(\"./usplus.csv\")\n",
    "f1 = csv.reader(usplus)\n",
    "usplus1 = open(\"./usplus1.csv\")\n",
    "f2 = csv.reader(usplus1)"
   ]
  },
  {
   "cell_type": "code",
   "execution_count": 6,
   "metadata": {},
   "outputs": [
    {
     "name": "stdout",
     "output_type": "stream",
     "text": [
      "['0.2180330051046758', '0.19353730927045337'] ['0.26740096901139776', '0.2090517813403']\n",
      "['0.21684554243329285', '0.19915768886094065'] ['0.2650755559324052', '0.20672642836125496']\n",
      "['0.23319002549680287', '0.2015329050870198'] ['0.2686043883787752', '0.20727455121274277']\n",
      "['0.22075973913970134', '0.20682073284908378'] ['0.2600131186193466', '0.20937124556647085']\n",
      "['0.2197145602774884', '0.20542818304125163'] ['0.2622841692296069', '0.2145217554165553']\n",
      "['0.22290748499263835', '0.20238998015401571'] ['0.26151072382031787', '0.20949968601480456']\n",
      "['0.21784094169081505', '0.1990056754635168'] ['0.24895174375723217', '0.2029591938893941']\n",
      "['0.21677897259229795', '0.21397043026437618'] ['0.27501633451208946', '0.2029054625719761']\n",
      "['0.22673012277579938', '0.20926664321173788'] ['0.27158066090203686', '0.21037513999173765']\n"
     ]
    }
   ],
   "source": [
    "d1={\"x\":[],\"y\":[]}\n",
    "d2={\"x\":[],\"y\":[]}\n",
    "for i,j in zip(f1,f2):\n",
    "    print(i,j)\n",
    "    d1[\"x\"].append(float(i[0]))\n",
    "    d2[\"x\"].append(float(j[0]))\n",
    "    d1[\"y\"].append(float(i[1]))\n",
    "    d2[\"y\"].append(float(j[1]))"
   ]
  },
  {
   "cell_type": "code",
   "execution_count": 7,
   "metadata": {},
   "outputs": [
    {
     "data": {
      "image/png": "[encoded data removed]",
      "text/plain": [
       "<Figure size 432x288 with 1 Axes>"
      ]
     },
     "metadata": {
      "needs_background": "light"
     },
     "output_type": "display_data"
    }
   ],
   "source": [
    "left= np.arange(len(d1[\"x\"]))\n",
    "width = 0.3\n",
    "\n",
    "labels=['-5.0','-5.0','-5.0','0.0','0.0','0.0','5.0','5.0','5.0']\n",
    "\n",
    "plt.bar(left, d1[\"x\"], color='r', width=width, align='center')\n",
    "plt.bar(left+width, d2[\"x\"], color='b', width=width, align='center')\n",
    "plt.yticks(np.arange(0.0,0.6,0.1))\n",
    "plt.xticks(left + width/2,labels)\n",
    "plt.show()"
   ]
  },
  {
   "cell_type": "code",
   "execution_count": 8,
   "metadata": {},
   "outputs": [
    {
     "data": {
      "image/png": "[encoded data removed]",
      "text/plain": [
       "<Figure size 432x288 with 1 Axes>"
      ]
     },
     "metadata": {
      "needs_background": "light"
     },
     "output_type": "display_data"
    }
   ],
   "source": [
    "left= np.arange(len(d1[\"x\"]))\n",
    "width = 0.3\n",
    "\n",
    "labels=['-5.0','0.0','5.0','-5.0','0.0','5.0','-5.0','0.0','5.0']\n",
    "\n",
    "plt.bar(left, d1[\"y\"], color='r', width=width, align='center')\n",
    "plt.bar(left+width, d2[\"y\"], color='b', width=width, align='center')\n",
    "plt.yticks(np.arange(0.0,0.6,0.1))\n",
    "plt.xticks(left + width/2,labels)\n",
    "plt.show()"
   ]
  },
  {
   "cell_type": "code",
   "execution_count": null,
   "metadata": {},
   "outputs": [],
   "source": []
  }
 ],
 "metadata": {
  "kernelspec": {
   "display_name": "Python 3",
   "language": "python",
   "name": "python3"
  },
  "language_info": {
   "codemirror_mode": {
    "name": "ipython",
    "version": 3
   },
   "file_extension": ".py",
   "mimetype": "text/x-python",
   "name": "python",
   "nbconvert_exporter": "python",
   "pygments_lexer": "ipython3",
   "version": "3.6.7"
  }
 },
 "nbformat": 4,
 "nbformat_minor": 2
}
