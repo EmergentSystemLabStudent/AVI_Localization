{
 "cells": [
  {
   "cell_type": "markdown",
   "metadata": {
    "colab_type": "text",
    "id": "j67_JrYGWZUo"
   },
   "source": [
    "# Conditional variational autoencoder (using the VAE class)"
   ]
  },
  {
   "cell_type": "markdown",
   "metadata": {
    "colab_type": "text",
    "id": "xLUiwGU7T1vi"
   },
   "source": [
    "# SETUP"
   ]
  },
  {
   "cell_type": "code",
   "execution_count": 1,
   "metadata": {
    "colab": {
     "base_uri": "https://localhost:8080/",
     "height": 0
    },
    "colab_type": "code",
    "executionInfo": {
     "elapsed": 5767,
     "status": "ok",
     "timestamp": 1547791444171,
     "user": {
      "displayName": "福井隆士",
      "photoUrl": "",
      "userId": "02045005220596599994"
     },
     "user_tz": -540
    },
    "id": "TBHblcMRZKn9",
    "outputId": "81caa651-61e1-463e-9aad-1d86ca27448e"
   },
   "outputs": [
    {
     "name": "stdout",
     "output_type": "stream",
     "text": [
      "Python 3.6.7\n"
     ]
    }
   ],
   "source": [
    "!python --version\n"
   ]
  },
  {
   "cell_type": "code",
   "execution_count": 2,
   "metadata": {
    "colab": {
     "base_uri": "https://localhost:8080/",
     "height": 0
    },
    "colab_type": "code",
    "executionInfo": {
     "elapsed": 5737,
     "status": "ok",
     "timestamp": 1547791444173,
     "user": {
      "displayName": "福井隆士",
      "photoUrl": "",
      "userId": "02045005220596599994"
     },
     "user_tz": -540
    },
    "id": "45bRD1cpWfHf",
    "outputId": "e41bc0c8-fdf4-43e1-c5c9-c223678976f9"
   },
   "outputs": [
    {
     "name": "stderr",
     "output_type": "stream",
     "text": [
      "fatal: destination path 'pixyz' already exists and is not an empty directory.\n"
     ]
    }
   ],
   "source": [
    "%%bash\n",
    "git clone https://github.com/masa-su/pixyz.git"
   ]
  },
  {
   "cell_type": "code",
   "execution_count": 3,
   "metadata": {
    "colab": {
     "base_uri": "https://localhost:8080/",
     "height": 0
    },
    "colab_type": "code",
    "executionInfo": {
     "elapsed": 11479,
     "status": "ok",
     "timestamp": 1547791449935,
     "user": {
      "displayName": "福井隆士",
      "photoUrl": "",
      "userId": "02045005220596599994"
     },
     "user_tz": -540
    },
    "id": "A4rDmVwWccb7",
    "outputId": "1a3f07e2-908b-4c18-b6e6-602471771e7c"
   },
   "outputs": [
    {
     "name": "stdout",
     "output_type": "stream",
     "text": [
      "\r",
      "0% [Working]\r",
      "            \r",
      "Hit:1 http://ppa.launchpad.net/graphics-drivers/ppa/ubuntu bionic InRelease\n",
      "\r",
      "0% [Waiting for headers] [Waiting for headers] [Connected to developer.download\r",
      "                                                                               \r",
      "Hit:2 http://archive.ubuntu.com/ubuntu bionic InRelease\n",
      "\r",
      "                                                                               \r",
      "Hit:3 http://security.ubuntu.com/ubuntu bionic-security InRelease\n",
      "\r",
      "0% [Waiting for headers] [Connected to developer.download.nvidia.com (192.229.2\r",
      "                                                                               \r",
      "Hit:4 http://archive.ubuntu.com/ubuntu bionic-updates InRelease\n",
      "\r",
      "0% [Waiting for headers] [Connected to developer.download.nvidia.com (192.229.2\r",
      "0% [1 InRelease gpgv 21.3 kB] [Waiting for headers] [Connected to developer.dow\r",
      "                                                                               \r",
      "Hit:5 http://archive.ubuntu.com/ubuntu bionic-backports InRelease\n",
      "\r",
      "                                                                               \r",
      "0% [1 InRelease gpgv 21.3 kB] [Waiting for headers]\r",
      "                                                   \r",
      "Ign:6 https://developer.download.nvidia.com/compute/cuda/repos/ubuntu1710/x86_64  InRelease\n",
      "\r",
      "0% [1 InRelease gpgv 21.3 kB] [Waiting for headers]\r",
      "                                                   \r",
      "0% [Waiting for headers]\r",
      "0% [2 InRelease gpgv 242 kB] [Waiting for headers]\r",
      "                                                  \r",
      "0% [Waiting for headers]\r",
      "0% [3 InRelease gpgv 83.2 kB] [Waiting for headers]\r",
      "                                                   \r",
      "0% [Waiting for headers]\r",
      "0% [4 InRelease gpgv 88.7 kB] [Waiting for headers]\r",
      "                                                   \r",
      "0% [Waiting for headers]\r",
      "0% [5 InRelease gpgv 74.6 kB] [Waiting for headers]\r",
      "                                                   \r",
      "Ign:7 https://developer.download.nvidia.com/compute/machine-learning/repos/ubuntu1604/x86_64  InRelease\n",
      "\r",
      "                                                   \r",
      "0% [5 InRelease gpgv 74.6 kB]\r",
      "                             \r",
      "0% [Waiting for headers]\r",
      "                        \r",
      "Hit:8 https://developer.download.nvidia.com/compute/cuda/repos/ubuntu1710/x86_64  Release\n",
      "Hit:9 https://developer.download.nvidia.com/compute/machine-learning/repos/ubuntu1604/x86_64  Release\n",
      "Reading package lists... Done\n",
      "Reading package lists... Done\n",
      "Building dependency tree       \n",
      "Reading state information... Done\n",
      "ffmpeg is already the newest version (7:3.4.4-0ubuntu0.18.04.1).\n",
      "0 upgraded, 0 newly installed, 0 to remove and 62 not upgraded.\n"
     ]
    }
   ],
   "source": [
    "!apt-get update && apt-get install ffmpeg"
   ]
  },
  {
   "cell_type": "code",
   "execution_count": 4,
   "metadata": {
    "colab": {
     "base_uri": "https://localhost:8080/",
     "height": 0
    },
    "colab_type": "code",
    "executionInfo": {
     "elapsed": 28706,
     "status": "ok",
     "timestamp": 1547791467180,
     "user": {
      "displayName": "福井隆士",
      "photoUrl": "",
      "userId": "02045005220596599994"
     },
     "user_tz": -540
    },
    "id": "nmZwgIqWWhCL",
    "outputId": "8c268674-3720-4a93-cfe7-0e592978325a"
   },
   "outputs": [
    {
     "name": "stdout",
     "output_type": "stream",
     "text": [
      "Requirement already satisfied: tensorboardX in /usr/local/lib/python3.6/dist-packages (1.6)\n",
      "Requirement already satisfied: six in /usr/local/lib/python3.6/dist-packages (from tensorboardX) (1.11.0)\n",
      "Requirement already satisfied: numpy in /usr/local/lib/python3.6/dist-packages (from tensorboardX) (1.14.6)\n",
      "Requirement already satisfied: protobuf>=3.2.0 in /usr/local/lib/python3.6/dist-packages (from tensorboardX) (3.6.1)\n",
      "Requirement already satisfied: setuptools in /usr/local/lib/python3.6/dist-packages (from protobuf>=3.2.0->tensorboardX) (40.6.3)\n",
      "Obtaining file:///content/pixyz\n",
      "\u001b[33mDEPRECATION: Dependency Links processing has been deprecated and will be removed in a future release. A possible replacement is PEP 508 URL dependencies. You can find discussion regarding this at https://github.com/pypa/pip/issues/4187.\u001b[0m\n",
      "Requirement already satisfied: torch in /usr/local/lib/python3.6/dist-packages (from pixyz==0.0.2) (0.4.1)\n",
      "Requirement already satisfied: torchvision in /usr/local/lib/python3.6/dist-packages (from pixyz==0.0.2) (0.2.1)\n",
      "Requirement already satisfied: tqdm in /usr/local/lib/python3.6/dist-packages (from pixyz==0.0.2) (4.28.1)\n",
      "Requirement already satisfied: pillow>=4.1.1 in /usr/local/lib/python3.6/dist-packages (from torchvision->pixyz==0.0.2) (5.4.1)\n",
      "Requirement already satisfied: six in /usr/local/lib/python3.6/dist-packages (from torchvision->pixyz==0.0.2) (1.11.0)\n",
      "Requirement already satisfied: numpy in /usr/local/lib/python3.6/dist-packages (from torchvision->pixyz==0.0.2) (1.14.6)\n",
      "Installing collected packages: pixyz\n",
      "  Found existing installation: pixyz 0.0.2\n",
      "    Can't uninstall 'pixyz'. No files were found to uninstall.\n",
      "  Running setup.py develop for pixyz\n",
      "Successfully installed pixyz\n"
     ]
    },
    {
     "data": {
      "text/plain": [
       "True"
      ]
     },
     "execution_count": 4,
     "metadata": {
      "tags": []
     },
     "output_type": "execute_result"
    }
   ],
   "source": [
    "# http://pytorch.org/\n",
    "from os.path import exists\n",
    "from wheel.pep425tags import get_abbr_impl, get_impl_ver, get_abi_tag\n",
    "platform = '{}{}-{}'.format(get_abbr_impl(), get_impl_ver(), get_abi_tag())\n",
    "cuda_output = !ldconfig -p|grep cudart.so|sed -e 's/.*\\.\\([0-9]*\\)\\.\\([0-9]*\\)$/cu\\1\\2/'\n",
    "accelerator = cuda_output[0] if exists('/dev/nvidia0') else 'cpu'\n",
    "\n",
    "!pip install -q http://download.pytorch.org/whl/{accelerator}/torch-0.4.1-{platform}-linux_x86_64.whl torchvision\n",
    "import torch\n",
    "!pip install tensorboardX\n",
    "!pip install -e pixyz --process-dependency-links\n",
    "torch.cuda.is_available()"
   ]
  },
  {
   "cell_type": "markdown",
   "metadata": {
    "colab_type": "text",
    "id": "1jSHxt1MT9_O"
   },
   "source": [
    "# CVAE"
   ]
  },
  {
   "cell_type": "markdown",
   "metadata": {
    "colab_type": "text",
    "id": "Z0Xp3qiUULlT"
   },
   "source": [
    "generative process\n",
    "\n",
    "2dimention data\n",
    "\n",
    "c=f(ut,s(t-1))\n",
    "\n",
    "st~p(st|ut, s(t-1))=N(c , sigma)\n",
    "\n",
    "ot~p(ot|st)=N(st,sigma)\n",
    "\n",
    "それぞれの分散共分散行列には対角行列を使用（制御がめんどそうだから"
   ]
  },
  {
   "cell_type": "code",
   "execution_count": 68,
   "metadata": {
    "colab": {},
    "colab_type": "code",
    "id": "HTEX8JBTWZU0"
   },
   "outputs": [],
   "source": [
    "from __future__ import print_function\n",
    "import torch\n",
    "import torch.utils.data\n",
    "from torch import nn, optim\n",
    "from torch.nn import functional as F\n",
    "from torchvision import datasets, transforms\n",
    "from torchvision.utils import save_image\n",
    "from tensorboardX import SummaryWriter\n",
    "import numpy as np\n",
    "\n",
    "from tqdm import tqdm\n",
    "\n",
    "batch_size = 128\n",
    "epochs =400#10\n",
    "seed = 1\n",
    "torch.manual_seed(seed)\n",
    "\n",
    "if torch.cuda.is_available():\n",
    "    device = \"cuda\"\n",
    "else:\n",
    "    device = \"cpu\""
   ]
  },
  {
   "cell_type": "code",
   "execution_count": 69,
   "metadata": {
    "colab": {},
    "colab_type": "code",
    "id": "0NnqgDqeWZVG"
   },
   "outputs": [],
   "source": [
    "root = '../data'\n",
    "transform = transforms.Compose([transforms.ToTensor(),\n",
    "                                transforms.Lambda(lambd=lambda o: o.view(-1))])\n",
    "kwargs = {'batch_size': batch_size, 'num_workers': 1, 'pin_memory': True}\n",
    "\n",
    "# train_loader = torch.utils.data.DataLoader(\n",
    "#     datasets.MNIST(root=root, train=True, transform=transform, download=True),\n",
    "#     shuffle=True, **kwargs)\n",
    "# test_loader = torch.utils.data.DataLoader(\n",
    "#     datasets.MNIST(root=root, train=False, transform=transform),\n",
    "#     shuffle=False, **kwargs)"
   ]
  },
  {
   "cell_type": "code",
   "execution_count": 70,
   "metadata": {
    "colab": {},
    "colab_type": "code",
    "id": "WhrtlAchWZVV"
   },
   "outputs": [],
   "source": [
    "from pixyz.distributions import Normal, Bernoulli\n",
    "from pixyz.losses import KullbackLeibler\n",
    "from pixyz.models import VAE"
   ]
  },
  {
   "cell_type": "code",
   "execution_count": 71,
   "metadata": {
    "colab": {},
    "colab_type": "code",
    "id": "Q421y_YjKWLO"
   },
   "outputs": [],
   "source": [
    "#function for generate data\n",
    "import torch.distributions as dist\n",
    "\n",
    "def origin_datagenerator(sample_num,dsigma,axis):\n",
    "  ca_axis=[-3,-2]\n",
    "  cb_axis=[3,3]\n",
    "  cc_axis=[7,5]\n",
    "  \n",
    "  data_cso={}\n",
    "  \n",
    "  ones=torch.ones(int(sample_num/3))\n",
    "  \n",
    "  sample_ca = torch.stack([ones*axis[0][0],ones*axis[0][1]],1)\n",
    "  sample_cb = torch.stack([ones*axis[1][0],ones*axis[1][1]],1)\n",
    "  sample_cc = torch.stack([ones*axis[2][0],ones*axis[2][1]],1)\n",
    "  data_cso.update({\"c\":torch.cat([sample_ca,sample_cb,sample_cc],dim=0)})\n",
    "  data_cso.update({\"s\":dist.Normal(data_cso[\"c\"],dsigma).sample()})\n",
    "  data_cso.update({\"o\":dist.Normal(data_cso[\"s\"],dsigma).sample()})\n",
    "#   data_cso.update([ (\"c\",torch.cat([sample_ca,sample_cb,sample_cc],dim=0)), (\"s\",dist.Normal(data_cso[\"c\"],dsigma).sample()) ])\n",
    "  \n",
    "  return data_cso\n",
    "  \n",
    "#\n",
    "def unique_datagenerator(sample_num,dsigma,u_fragx,u_fragy):\n",
    "    data_cso={}\n",
    "    \n",
    "    #st-1\n",
    "    sample_sx=torch.rand(sample_num)*200-100#-100~100の範囲で一様分布#一旦0~100\n",
    "    sample_sy=torch.rand(sample_num)*200-100\n",
    "    st1=torch.cat([sample_sx.view(sample_num,1),sample_sy.view(sample_num,1)],dim=1)\n",
    "    print(st1)\n",
    "    \n",
    "    if u_fragx == 0.0 and u_fragy ==0.0:\n",
    "        #ut\n",
    "        sample_ux=torch.rand(sample_num)*20-10#移動距離は-10~10\n",
    "        sample_uy=torch.rand(sample_num)*20-10\n",
    "        ut=torch.cat([sample_ux.view(sample_num,1),sample_uy.view(sample_num,1)],dim=1)\n",
    "        print(ut)\n",
    "    else:\n",
    "        sample_ux=torch.ones(sample_num)*u_fragx#移動距離は-10~10\n",
    "        sample_uy=torch.ones(sample_num)*u_fragy\n",
    "        ut=torch.cat([sample_ux.view(sample_num,1),sample_uy.view(sample_num,1)],dim=1)\n",
    "        print(ut)\n",
    "        \n",
    "    #その他\n",
    "    sample_c=st1+ut\n",
    "\n",
    "    print(sample_c)\n",
    "    data_cso.update({\"st1\":st1})#t-1時刻の位置\n",
    "    data_cso.update({\"u\":ut})#制御\n",
    "    data_cso.update({\"c\":sample_c})#動作モデルを通したs(分散なし)\n",
    "    data_cso.update({\"s\":dist.Normal(data_cso[\"c\"],dsigma).sample()})#真の位置(分散を通している)\n",
    "    data_cso.update({\"o\":dist.Normal(data_cso[\"s\"],dsigma).sample()})#計測値（stと同じ位置だが，分散が載っている\n",
    "\n",
    "    return data_cso"
   ]
  },
  {
   "cell_type": "code",
   "execution_count": 72,
   "metadata": {
    "colab": {
     "base_uri": "https://localhost:8080/",
     "height": 366
    },
    "colab_type": "code",
    "executionInfo": {
     "elapsed": 28664,
     "status": "ok",
     "timestamp": 1547791467210,
     "user": {
      "displayName": "福井隆士",
      "photoUrl": "",
      "userId": "02045005220596599994"
     },
     "user_tz": -540
    },
    "id": "sC_pQ8AzIEqr",
    "outputId": "13a5b5f3-d3bc-4679-e360-a1a460788470"
   },
   "outputs": [
    {
     "name": "stdout",
     "output_type": "stream",
     "text": [
      "tensor([[ 51.5263,  31.3168],\n",
      "        [-44.1378,  -3.1747],\n",
      "        [-19.3861,  75.2899],\n",
      "        ...,\n",
      "        [ 77.6884,  60.9761],\n",
      "        [ 45.9967, -10.7347],\n",
      "        [-63.1686, -80.5281]])\n",
      "tensor([[-7.3585,  7.8155],\n",
      "        [-2.0600, -6.5741],\n",
      "        [-6.2988,  4.2397],\n",
      "        ...,\n",
      "        [ 4.5941, -4.9911],\n",
      "        [-6.0039,  7.9783],\n",
      "        [ 3.4886,  8.7453]])\n",
      "tensor([[ 44.1679,  39.1323],\n",
      "        [-46.1978,  -9.7489],\n",
      "        [-25.6849,  79.5296],\n",
      "        ...,\n",
      "        [ 82.2825,  55.9850],\n",
      "        [ 39.9928,  -2.7564],\n",
      "        [-59.6800, -71.7828]])\n",
      "tensor([[-99.2595,  87.1309],\n",
      "        [ 86.3463,  -6.9568],\n",
      "        [ 16.7784, -45.5382],\n",
      "        ...,\n",
      "        [  5.3470,  66.8863],\n",
      "        [ 73.4186,  90.8019],\n",
      "        [ -2.0553,  95.7045]])\n",
      "tensor([[-2.0936, -6.2989],\n",
      "        [ 1.2211,  5.2460],\n",
      "        [-9.2955,  6.4088],\n",
      "        ...,\n",
      "        [ 3.0505,  9.0703],\n",
      "        [-0.9756, -5.0563],\n",
      "        [ 8.5588,  6.9065]])\n",
      "tensor([[-101.3532,   80.8320],\n",
      "        [  87.5674,   -1.7108],\n",
      "        [   7.4828,  -39.1294],\n",
      "        ...,\n",
      "        [   8.3975,   75.9566],\n",
      "        [  72.4430,   85.7456],\n",
      "        [   6.5035,  102.6110]])\n",
      "{'st1': tensor([[ 51.5263,  31.3168],\n",
      "        [-44.1378,  -3.1747],\n",
      "        [-19.3861,  75.2899],\n",
      "        ...,\n",
      "        [ 77.6884,  60.9761],\n",
      "        [ 45.9967, -10.7347],\n",
      "        [-63.1686, -80.5281]]), 'u': tensor([[-7.3585,  7.8155],\n",
      "        [-2.0600, -6.5741],\n",
      "        [-6.2988,  4.2397],\n",
      "        ...,\n",
      "        [ 4.5941, -4.9911],\n",
      "        [-6.0039,  7.9783],\n",
      "        [ 3.4886,  8.7453]]), 'c': tensor([[ 44.1679,  39.1323],\n",
      "        [-46.1978,  -9.7489],\n",
      "        [-25.6849,  79.5296],\n",
      "        ...,\n",
      "        [ 82.2825,  55.9850],\n",
      "        [ 39.9928,  -2.7564],\n",
      "        [-59.6800, -71.7828]]), 's': tensor([[ 44.3351,  39.6779],\n",
      "        [-46.8988,  -9.0248],\n",
      "        [-25.1248,  79.8501],\n",
      "        ...,\n",
      "        [ 82.5608,  55.8681],\n",
      "        [ 39.8189,  -2.4190],\n",
      "        [-59.6150, -71.6200]]), 'o': tensor([[ 43.8480,  40.8549],\n",
      "        [-46.4412,  -8.9277],\n",
      "        [-25.8043,  79.1790],\n",
      "        ...,\n",
      "        [ 81.9810,  55.6995],\n",
      "        [ 39.6209,  -1.9286],\n",
      "        [-60.7531, -71.8500]])}\n"
     ]
    }
   ],
   "source": [
    "sample_num=3000\n",
    "ssigma=torch.Tensor([0.5,0.5]*sample_num).view(sample_num,2)#状態遷移時の分散\n",
    "osigma=torch.Tensor([0.5,0.5]*sample_num).view(sample_num,2)#計測情報の分散\n",
    "\n",
    "axis=[[-3,-2],[3,3],[7,5]]#originalの場合の点の指定\n",
    "\n",
    "max_data=100.0\n",
    "min_data=-100.0\n",
    "\n",
    "data=unique_datagenerator(sample_num,ssigma,0.0,0.0)\n",
    "test_data=unique_datagenerator(sample_num,ssigma,0.0,0.0)\n",
    "\n",
    "print(data)\n",
    "\n",
    "train = torch.utils.data.TensorDataset(data[\"o\"], data[\"c\"])\n",
    "train_loader = torch.utils.data.DataLoader(train, shuffle=False,**kwargs)\n",
    "test = torch.utils.data.TensorDataset(test_data[\"o\"], test_data[\"c\"])\n",
    "test_loader = torch.utils.data.DataLoader(test, shuffle=False,**kwargs)"
   ]
  },
  {
   "cell_type": "code",
   "execution_count": 73,
   "metadata": {
    "colab": {},
    "colab_type": "code",
    "id": "Iq38NAYsWZVf"
   },
   "outputs": [],
   "source": [
    "o_dim = 2\n",
    "c_dim = 2\n",
    "s_dim = 2\n",
    "\n",
    "\n",
    "# inference model q(z|x,y)\n",
    "class Inference(Normal):\n",
    "    def __init__(self):\n",
    "        super(Inference, self).__init__(cond_var=[\"o\",\"c\"], var=[\"s\"], name=\"q\")\n",
    "\n",
    "        self.fc1 = nn.Linear(o_dim+c_dim, 4)\n",
    "        self.fc2 = nn.Linear(4, 4)\n",
    "        self.fc31 = nn.Linear(4, s_dim)\n",
    "        self.fc32 = nn.Linear(4, s_dim)\n",
    "\n",
    "    def forward(self, o, c):\n",
    "        h = F.relu(self.fc1( torch.cat([o,c],1) ))\n",
    "        h = F.relu(self.fc2(h))        \n",
    "        return {\"loc\": self.fc31(h), \"scale\": F.softplus(self.fc32(h))}\n",
    "\n",
    "    \n",
    "# generative model p(x|z,y)    \n",
    "class Generator(Bernoulli):\n",
    "    def __init__(self):\n",
    "        super(Generator, self).__init__(cond_var=[\"s\"], var=[\"o\"], name=\"p\")\n",
    "\n",
    "        self.fc1 = nn.Linear(s_dim, 4)\n",
    "        self.fc2 = nn.Linear(4, 4)\n",
    "        self.fc3 = nn.Linear(4, o_dim)\n",
    "\n",
    "    def forward(self, s):\n",
    "#         print(s)\n",
    "#         print(s.shape)\n",
    "        h = F.relu(self.fc1(s))\n",
    "        h = F.relu(self.fc2(h))\n",
    "        return {\"probs\": torch.sigmoid(self.fc3(h))}\n",
    "    \n",
    "class Generator2(Normal):\n",
    "    def __init__(self):\n",
    "        super().__init__(cond_var=[\"s\"], var=[\"o\"], name=\"p\")\n",
    "\n",
    "        self.fc1 = nn.Linear(s_dim, 4)\n",
    "        self.fc2 = nn.Linear(4, 4)\n",
    "        self.fc3 = nn.Linear(4, o_dim)\n",
    "\n",
    "    def forward(self, s):\n",
    "#         print(s)\n",
    "#         print(s.shape)\n",
    "        h = F.relu(self.fc1(s))\n",
    "        h = F.relu(self.fc2(h))\n",
    "        return {\"loc\": self.fc3(h),\"scale\":0.3}\n",
    "\n",
    "#     def forward(self, s, c):\n",
    "#         print(s)\n",
    "#         print(c.view(1))\n",
    "#         c=c.view(1)\n",
    "#         print(s.shape)\n",
    "#         print(c.shape)\n",
    "#         print(s.size())\n",
    "#         print(c.size())\n",
    "#         sc=[]\n",
    "#         sc.append(s)\n",
    "#         sc.append(c)\n",
    "#         aa=self.fc1(torch.stack(sc, 0))\n",
    "#         h = F.relu(aa)\n",
    "#         h = F.relu(self.fc2(h))\n",
    "#         return {\"probs\": torch.sigmoid(self.fc3(h))}\n",
    "\n",
    "      \n",
    "    \n",
    "\n",
    "# prior = Normal(loc=loc, scale=scale, cond_var=[\"c\"],var=[\"s\"], dim=s_dim, name=\"p_prior\")"
   ]
  },
  {
   "cell_type": "code",
   "execution_count": 74,
   "metadata": {
    "colab": {
     "base_uri": "https://localhost:8080/",
     "height": 90
    },
    "colab_type": "code",
    "executionInfo": {
     "elapsed": 28973,
     "status": "ok",
     "timestamp": 1547791467547,
     "user": {
      "displayName": "福井隆士",
      "photoUrl": "",
      "userId": "02045005220596599994"
     },
     "user_tz": -540
    },
    "id": "d8rqB8MMxOZV",
    "outputId": "f2a8f70f-541f-42cb-a348-49d85894de68"
   },
   "outputs": [
    {
     "name": "stdout",
     "output_type": "stream",
     "text": [
      "Distribution:\n",
      "  p_prior(s|c) (Normal)\n",
      "Network architecture:\n",
      "  prior_set()\n"
     ]
    }
   ],
   "source": [
    "# prior model p(z|c)\n",
    "class prior_set(Normal):\n",
    "    def forward(self, c):\n",
    "        return{\"loc\":c, \"scale\":torch.tensor([0.5,0.5]).to(device)}\n",
    "      \n",
    "prior = prior_set(cond_var=[\"c\"],var=[\"s\"], dim=s_dim, name=\"p_prior\")\n",
    "print(prior)"
   ]
  },
  {
   "cell_type": "code",
   "execution_count": 75,
   "metadata": {
    "colab": {
     "base_uri": "https://localhost:8080/",
     "height": 329
    },
    "colab_type": "code",
    "executionInfo": {
     "elapsed": 31275,
     "status": "ok",
     "timestamp": 1547791469862,
     "user": {
      "displayName": "福井隆士",
      "photoUrl": "",
      "userId": "02045005220596599994"
     },
     "user_tz": -540
    },
    "id": "fcaT6KZRWZVo",
    "outputId": "b4126802-51ba-4a7d-d873-ca748843d536"
   },
   "outputs": [
    {
     "name": "stdout",
     "output_type": "stream",
     "text": [
      "Distribution:\n",
      "  p(o|s) (Normal)\n",
      "Network architecture:\n",
      "  Generator2(\n",
      "    (fc1): Linear(in_features=2, out_features=4, bias=True)\n",
      "    (fc2): Linear(in_features=4, out_features=4, bias=True)\n",
      "    (fc3): Linear(in_features=4, out_features=2, bias=True)\n",
      "  )\n",
      "Distribution:\n",
      "  q(s|o,c) (Normal)\n",
      "Network architecture:\n",
      "  Inference(\n",
      "    (fc1): Linear(in_features=4, out_features=4, bias=True)\n",
      "    (fc2): Linear(in_features=4, out_features=4, bias=True)\n",
      "    (fc31): Linear(in_features=4, out_features=2, bias=True)\n",
      "    (fc32): Linear(in_features=4, out_features=2, bias=True)\n",
      "  )\n"
     ]
    }
   ],
   "source": [
    "p = Generator2()\n",
    "q = Inference()\n",
    "\n",
    "p.to(device)\n",
    "q.to(device)\n",
    "\n",
    "print(p)\n",
    "print(q)"
   ]
  },
  {
   "cell_type": "code",
   "execution_count": 76,
   "metadata": {
    "colab": {
     "base_uri": "https://localhost:8080/",
     "height": 35
    },
    "colab_type": "code",
    "executionInfo": {
     "elapsed": 31265,
     "status": "ok",
     "timestamp": 1547791469864,
     "user": {
      "displayName": "福井隆士",
      "photoUrl": "",
      "userId": "02045005220596599994"
     },
     "user_tz": -540
    },
    "id": "bLY4sjykWZV0",
    "outputId": "ee2b400e-b31f-4b31-cdc2-4240715c62b4"
   },
   "outputs": [
    {
     "name": "stdout",
     "output_type": "stream",
     "text": [
      "KL[q(s|o,c)||p_prior(s|c)]\n"
     ]
    }
   ],
   "source": [
    "kl = KullbackLeibler(q, prior)\n",
    "print(kl)"
   ]
  },
  {
   "cell_type": "code",
   "execution_count": 77,
   "metadata": {
    "colab": {
     "base_uri": "https://localhost:8080/",
     "height": 256
    },
    "colab_type": "code",
    "executionInfo": {
     "elapsed": 31249,
     "status": "ok",
     "timestamp": 1547791469866,
     "user": {
      "displayName": "福井隆士",
      "photoUrl": "",
      "userId": "02045005220596599994"
     },
     "user_tz": -540
    },
    "id": "6287Mah5WZWE",
    "outputId": "8a5fe330-1811-4711-ac28-43a34b39f328"
   },
   "outputs": [
    {
     "name": "stdout",
     "output_type": "stream",
     "text": [
      "Distributions (for training): \n",
      "  q(s|o,c), p(o|s) \n",
      "Loss function: \n",
      "  mean(-E_q(s|o,c)[log p(o|s)] + KL[q(s|o,c)||p_prior(s|c)]) \n",
      "Optimizer: \n",
      "  Adam (\n",
      "  Parameter Group 0\n",
      "      amsgrad: False\n",
      "      betas: (0.9, 0.999)\n",
      "      eps: 1e-08\n",
      "      lr: 0.001\n",
      "      weight_decay: 0\n",
      "  )\n"
     ]
    }
   ],
   "source": [
    "model = VAE(q, p, regularizer=kl, optimizer=optim.Adam, optimizer_params={\"lr\":1e-3})\n",
    "print(model)"
   ]
  },
  {
   "cell_type": "code",
   "execution_count": 78,
   "metadata": {
    "colab": {},
    "colab_type": "code",
    "id": "xK-CrDtnWZWO"
   },
   "outputs": [],
   "source": [
    "def train(epoch):\n",
    "    train_loss = 0\n",
    "    for o,c in tqdm(train_loader):\n",
    "        o = o.to(device)\n",
    "        c = c.to(device)\n",
    "#         print(o.size())\n",
    "#         print(c.size())\n",
    "#         print(o)\n",
    "        loss = model.train({\"o\": o, \"c\": c})\n",
    "        train_loss += loss\n",
    "        \n",
    "#     print(kl.gauss_gauss_kl(, scale1, loc2, scale2, dim=None))\n",
    "    train_loss = train_loss * train_loader.batch_size / len(data[\"c\"])\n",
    "    print('Epoch: {} Train loss: {:.4f}'.format(epoch, train_loss))\n",
    "    return train_loss"
   ]
  },
  {
   "cell_type": "code",
   "execution_count": 79,
   "metadata": {
    "colab": {},
    "colab_type": "code",
    "id": "NtsbwstlAs4s"
   },
   "outputs": [],
   "source": [
    "# print(train_loader.batch_size)\n",
    "# print(len(train_loader))\n",
    "# print(dc)"
   ]
  },
  {
   "cell_type": "code",
   "execution_count": 80,
   "metadata": {
    "colab": {},
    "colab_type": "code",
    "id": "j953elFiWZWf"
   },
   "outputs": [],
   "source": [
    "def test(epoch):\n",
    "    test_loss = 0\n",
    "    for o, c in test_loader:\n",
    "        o = o.to(device)\n",
    "        c = c.to(device)\n",
    "        loss = model.test({\"o\": o, \"c\": c})\n",
    "        test_loss += loss\n",
    "        \n",
    "\n",
    "    test_loss = test_loss * test_loader.batch_size / len(test_data[\"c\"])\n",
    "    print('Test loss: {:.4f}'.format(test_loss))\n",
    "    return test_loss"
   ]
  },
  {
   "cell_type": "code",
   "execution_count": 81,
   "metadata": {
    "colab": {},
    "colab_type": "code",
    "id": "p6gFB8sQEfWQ"
   },
   "outputs": [],
   "source": [
    "# model.test({\"o\":do[0].unsqueeze(0).to(device),\"c\":dc[0].unsqueeze(0).to(device)})\n",
    "# q.sample(\"o\":do[0],\"c\":dc[0], return_all=False)"
   ]
  },
  {
   "cell_type": "code",
   "execution_count": 82,
   "metadata": {
    "colab": {},
    "colab_type": "code",
    "id": "-otzcm_eWZWs"
   },
   "outputs": [],
   "source": [
    "def plot_reconstrunction(o, c):\n",
    "    with torch.no_grad():\n",
    "        s = q.sample({\"o\": o, \"c\": c}, return_all=False)\n",
    "        s.update({\"c\": c})\n",
    "        recon_batch = p.sample_mean(s).view(-1, 1, 28, 28)\n",
    "    \n",
    "        recon = torch.cat([o.view(-1, 1, 28, 28), recon_batch]).cpu()\n",
    "        return recon\n",
    "    \n",
    "def plot_image_from_latent(s, c):\n",
    "    with torch.no_grad():\n",
    "        sample = p.sample_mean({\"s\": s, \"c\": c}).view(-1, 1, 28, 28).cpu()\n",
    "        return sample\n",
    "    \n",
    "def plot_reconstrunction_changing_y(o, c):\n",
    "    c_change = torch.eye(10)[range(7)].to(device)\n",
    "    batch_dummy = torch.ones(o.size(0))[:, None].to(device)    \n",
    "    recon_all = []\n",
    "    \n",
    "    with torch.no_grad():\n",
    "        for _c in c_change:\n",
    "            s = q.sample({\"o\": o, \"c\": c}, return_all=False)\n",
    "            s.update({\"c\": batch_dummy * _c[None,:]})\n",
    "            recon_batch = p.sample_mean(s).view(-1, 1, 28, 28)\n",
    "            recon_all.append(recon_batch)\n",
    "    \n",
    "        recon_changing_c = torch.cat(recon_all)\n",
    "        recon_changing_c = torch.cat([o.view(-1, 1, 28, 28), recon_changing_c]).cpu()\n",
    "        return recon_changing_c"
   ]
  },
  {
   "cell_type": "code",
   "execution_count": 83,
   "metadata": {
    "colab": {},
    "colab_type": "code",
    "id": "s6s9BnZPTCWQ"
   },
   "outputs": [],
   "source": [
    "#prepare for plot\n",
    "import matplotlib.animation as animation\n",
    "import matplotlib.pyplot as plt\n",
    "from matplotlib import rc\n",
    "from IPython.display import HTML\n",
    "history = {\"train_loss\":[],\"test_loss\":[]}\n",
    "\n",
    "ims=[]#animation variable\n",
    "grid_inter=50.0"
   ]
  },
  {
   "cell_type": "code",
   "execution_count": null,
   "metadata": {
    "colab": {
     "base_uri": "https://localhost:8080/",
     "height": 305
    },
    "colab_type": "code",
    "executionInfo": {
     "elapsed": 727,
     "status": "error",
     "timestamp": 1547797941993,
     "user": {
      "displayName": "福井隆士",
      "photoUrl": "",
      "userId": "02045005220596599994"
     },
     "user_tz": -540
    },
    "id": "eJZK7Qvsj-Ta",
    "outputId": "77b0dc79-519c-4255-f43e-ab5c612eeb1e"
   },
   "outputs": [],
   "source": []
  },
  {
   "cell_type": "code",
   "execution_count": 85,
   "metadata": {
    "colab": {
     "base_uri": "https://localhost:8080/",
     "height": 20422
    },
    "colab_type": "code",
    "executionInfo": {
     "elapsed": 85747,
     "status": "ok",
     "timestamp": 1547791524465,
     "user": {
      "displayName": "福井隆士",
      "photoUrl": "",
      "userId": "02045005220596599994"
     },
     "user_tz": -540
    },
    "id": "sT9V4ciZWZW3",
    "outputId": "1a619673-402c-4774-ec43-77db2db547c4"
   },
   "outputs": [
    {
     "name": "stderr",
     "output_type": "stream",
     "text": [
      "100%|██████████| 24/24 [00:00<00:00, 59.83it/s]"
     ]
    },
    {
     "name": "stdout",
     "output_type": "stream",
     "text": [
      "Epoch: 1 Train loss: 51727.5781\n"
     ]
    },
    {
     "name": "stderr",
     "output_type": "stream",
     "text": [
      "\n"
     ]
    },
    {
     "name": "stdout",
     "output_type": "stream",
     "text": [
      "Test loss: 51113.8828\n"
     ]
    },
    {
     "ename": "ValueError",
     "evalue": "Unrecognized marker style '・'",
     "output_type": "error",
     "traceback": [
      "\u001b[0;31m---------------------------------------------------------------------------\u001b[0m",
      "\u001b[0;31mValueError\u001b[0m                                Traceback (most recent call last)",
      "\u001b[0;32m~/anaconda3/envs/pixyz/lib/python3.6/site-packages/matplotlib/markers.py\u001b[0m in \u001b[0;36mset_marker\u001b[0;34m(self, marker)\u001b[0m\n\u001b[1;32m    310\u001b[0m             \u001b[0;32mtry\u001b[0m\u001b[0;34m:\u001b[0m\u001b[0;34m\u001b[0m\u001b[0;34m\u001b[0m\u001b[0m\n\u001b[0;32m--> 311\u001b[0;31m                 \u001b[0mPath\u001b[0m\u001b[0;34m(\u001b[0m\u001b[0mmarker\u001b[0m\u001b[0;34m)\u001b[0m\u001b[0;34m\u001b[0m\u001b[0;34m\u001b[0m\u001b[0m\n\u001b[0m\u001b[1;32m    312\u001b[0m                 \u001b[0mself\u001b[0m\u001b[0;34m.\u001b[0m\u001b[0m_marker_function\u001b[0m \u001b[0;34m=\u001b[0m \u001b[0mself\u001b[0m\u001b[0;34m.\u001b[0m\u001b[0m_set_vertices\u001b[0m\u001b[0;34m\u001b[0m\u001b[0;34m\u001b[0m\u001b[0m\n",
      "\u001b[0;32m~/anaconda3/envs/pixyz/lib/python3.6/site-packages/matplotlib/path.py\u001b[0m in \u001b[0;36m__init__\u001b[0;34m(self, vertices, codes, _interpolation_steps, closed, readonly)\u001b[0m\n\u001b[1;32m    126\u001b[0m         \"\"\"\n\u001b[0;32m--> 127\u001b[0;31m         \u001b[0mvertices\u001b[0m \u001b[0;34m=\u001b[0m \u001b[0m_to_unmasked_float_array\u001b[0m\u001b[0;34m(\u001b[0m\u001b[0mvertices\u001b[0m\u001b[0;34m)\u001b[0m\u001b[0;34m\u001b[0m\u001b[0;34m\u001b[0m\u001b[0m\n\u001b[0m\u001b[1;32m    128\u001b[0m         \u001b[0;32mif\u001b[0m \u001b[0mvertices\u001b[0m\u001b[0;34m.\u001b[0m\u001b[0mndim\u001b[0m \u001b[0;34m!=\u001b[0m \u001b[0;36m2\u001b[0m \u001b[0;32mor\u001b[0m \u001b[0mvertices\u001b[0m\u001b[0;34m.\u001b[0m\u001b[0mshape\u001b[0m\u001b[0;34m[\u001b[0m\u001b[0;36m1\u001b[0m\u001b[0;34m]\u001b[0m \u001b[0;34m!=\u001b[0m \u001b[0;36m2\u001b[0m\u001b[0;34m:\u001b[0m\u001b[0;34m\u001b[0m\u001b[0;34m\u001b[0m\u001b[0m\n",
      "\u001b[0;32m~/anaconda3/envs/pixyz/lib/python3.6/site-packages/matplotlib/cbook/__init__.py\u001b[0m in \u001b[0;36m_to_unmasked_float_array\u001b[0;34m(x)\u001b[0m\n\u001b[1;32m   1364\u001b[0m     \u001b[0;32melse\u001b[0m\u001b[0;34m:\u001b[0m\u001b[0;34m\u001b[0m\u001b[0;34m\u001b[0m\u001b[0m\n\u001b[0;32m-> 1365\u001b[0;31m         \u001b[0;32mreturn\u001b[0m \u001b[0mnp\u001b[0m\u001b[0;34m.\u001b[0m\u001b[0masarray\u001b[0m\u001b[0;34m(\u001b[0m\u001b[0mx\u001b[0m\u001b[0;34m,\u001b[0m \u001b[0mfloat\u001b[0m\u001b[0;34m)\u001b[0m\u001b[0;34m\u001b[0m\u001b[0;34m\u001b[0m\u001b[0m\n\u001b[0m\u001b[1;32m   1366\u001b[0m \u001b[0;34m\u001b[0m\u001b[0m\n",
      "\u001b[0;32m~/anaconda3/envs/pixyz/lib/python3.6/site-packages/numpy/core/numeric.py\u001b[0m in \u001b[0;36masarray\u001b[0;34m(a, dtype, order)\u001b[0m\n\u001b[1;32m    500\u001b[0m     \"\"\"\n\u001b[0;32m--> 501\u001b[0;31m     \u001b[0;32mreturn\u001b[0m \u001b[0marray\u001b[0m\u001b[0;34m(\u001b[0m\u001b[0ma\u001b[0m\u001b[0;34m,\u001b[0m \u001b[0mdtype\u001b[0m\u001b[0;34m,\u001b[0m \u001b[0mcopy\u001b[0m\u001b[0;34m=\u001b[0m\u001b[0;32mFalse\u001b[0m\u001b[0;34m,\u001b[0m \u001b[0morder\u001b[0m\u001b[0;34m=\u001b[0m\u001b[0morder\u001b[0m\u001b[0;34m)\u001b[0m\u001b[0;34m\u001b[0m\u001b[0;34m\u001b[0m\u001b[0m\n\u001b[0m\u001b[1;32m    502\u001b[0m \u001b[0;34m\u001b[0m\u001b[0m\n",
      "\u001b[0;31mValueError\u001b[0m: could not convert string to float: '・'",
      "\nDuring handling of the above exception, another exception occurred:\n",
      "\u001b[0;31mValueError\u001b[0m                                Traceback (most recent call last)",
      "\u001b[0;32m<ipython-input-85-b54f14c96ac5>\u001b[0m in \u001b[0;36m<module>\u001b[0;34m\u001b[0m\n\u001b[1;32m     28\u001b[0m     \u001b[0m_s\u001b[0m \u001b[0;34m=\u001b[0m \u001b[0mq\u001b[0m\u001b[0;34m.\u001b[0m\u001b[0msample\u001b[0m\u001b[0;34m(\u001b[0m\u001b[0;34m{\u001b[0m\u001b[0;34m\"o\"\u001b[0m\u001b[0;34m:\u001b[0m \u001b[0mdata\u001b[0m\u001b[0;34m[\u001b[0m\u001b[0;34m\"o\"\u001b[0m\u001b[0;34m]\u001b[0m\u001b[0;34m.\u001b[0m\u001b[0mto\u001b[0m\u001b[0;34m(\u001b[0m\u001b[0mdevice\u001b[0m\u001b[0;34m)\u001b[0m\u001b[0;34m,\u001b[0m \u001b[0;34m\"c\"\u001b[0m\u001b[0;34m:\u001b[0m \u001b[0mdata\u001b[0m\u001b[0;34m[\u001b[0m\u001b[0;34m\"c\"\u001b[0m\u001b[0;34m]\u001b[0m\u001b[0;34m.\u001b[0m\u001b[0mto\u001b[0m\u001b[0;34m(\u001b[0m\u001b[0mdevice\u001b[0m\u001b[0;34m)\u001b[0m\u001b[0;34m}\u001b[0m\u001b[0;34m,\u001b[0m \u001b[0mreturn_all\u001b[0m\u001b[0;34m=\u001b[0m\u001b[0;32mFalse\u001b[0m\u001b[0;34m)\u001b[0m\u001b[0;34m\u001b[0m\u001b[0;34m\u001b[0m\u001b[0m\n\u001b[1;32m     29\u001b[0m     \u001b[0mplt\u001b[0m\u001b[0;34m.\u001b[0m\u001b[0msubplot\u001b[0m\u001b[0;34m(\u001b[0m\u001b[0;36m1\u001b[0m\u001b[0;34m,\u001b[0m \u001b[0;36m2\u001b[0m\u001b[0;34m,\u001b[0m \u001b[0;36m1\u001b[0m\u001b[0;34m)\u001b[0m\u001b[0;34m\u001b[0m\u001b[0;34m\u001b[0m\u001b[0m\n\u001b[0;32m---> 30\u001b[0;31m     \u001b[0mtru\u001b[0m \u001b[0;34m=\u001b[0m \u001b[0mplt\u001b[0m\u001b[0;34m.\u001b[0m\u001b[0mscatter\u001b[0m\u001b[0;34m(\u001b[0m\u001b[0mdata\u001b[0m\u001b[0;34m[\u001b[0m\u001b[0;34m\"s\"\u001b[0m\u001b[0;34m]\u001b[0m\u001b[0;34m[\u001b[0m\u001b[0;34m:\u001b[0m\u001b[0;34m,\u001b[0m\u001b[0;36m0\u001b[0m\u001b[0;34m]\u001b[0m\u001b[0;34m,\u001b[0m\u001b[0m_s\u001b[0m\u001b[0;34m[\u001b[0m\u001b[0;34m\"s\"\u001b[0m\u001b[0;34m]\u001b[0m\u001b[0;34m[\u001b[0m\u001b[0;34m:\u001b[0m\u001b[0;34m,\u001b[0m\u001b[0;36m0\u001b[0m\u001b[0;34m]\u001b[0m\u001b[0;34m,\u001b[0m\u001b[0mcolor\u001b[0m\u001b[0;34m=\u001b[0m\u001b[0;34m'black'\u001b[0m\u001b[0;34m,\u001b[0m\u001b[0mmarker\u001b[0m\u001b[0;34m=\u001b[0m\u001b[0;34m'・'\u001b[0m\u001b[0;34m,\u001b[0m\u001b[0medgecolors\u001b[0m\u001b[0;34m=\u001b[0m\u001b[0;34m\"black\"\u001b[0m\u001b[0;34m)\u001b[0m\u001b[0;34m\u001b[0m\u001b[0;34m\u001b[0m\u001b[0m\n\u001b[0m\u001b[1;32m     31\u001b[0m     \u001b[0mplt\u001b[0m\u001b[0;34m.\u001b[0m\u001b[0mxticks\u001b[0m\u001b[0;34m(\u001b[0m\u001b[0mnp\u001b[0m\u001b[0;34m.\u001b[0m\u001b[0marange\u001b[0m\u001b[0;34m(\u001b[0m\u001b[0mmin_data\u001b[0m\u001b[0;34m,\u001b[0m\u001b[0mmax_data\u001b[0m\u001b[0;34m+\u001b[0m\u001b[0mgrid_inter\u001b[0m\u001b[0;34m,\u001b[0m\u001b[0mgrid_inter\u001b[0m\u001b[0;34m)\u001b[0m\u001b[0;34m)\u001b[0m\u001b[0;34m\u001b[0m\u001b[0;34m\u001b[0m\u001b[0m\n\u001b[1;32m     32\u001b[0m     \u001b[0mplt\u001b[0m\u001b[0;34m.\u001b[0m\u001b[0myticks\u001b[0m\u001b[0;34m(\u001b[0m\u001b[0mnp\u001b[0m\u001b[0;34m.\u001b[0m\u001b[0marange\u001b[0m\u001b[0;34m(\u001b[0m\u001b[0mmin_data\u001b[0m\u001b[0;34m,\u001b[0m\u001b[0mmax_data\u001b[0m\u001b[0;34m+\u001b[0m\u001b[0mgrid_inter\u001b[0m\u001b[0;34m,\u001b[0m\u001b[0mgrid_inter\u001b[0m\u001b[0;34m)\u001b[0m\u001b[0;34m)\u001b[0m\u001b[0;34m\u001b[0m\u001b[0;34m\u001b[0m\u001b[0m\n",
      "\u001b[0;32m~/anaconda3/envs/pixyz/lib/python3.6/site-packages/matplotlib/pyplot.py\u001b[0m in \u001b[0;36mscatter\u001b[0;34m(x, y, s, c, marker, cmap, norm, vmin, vmax, alpha, linewidths, verts, edgecolors, data, **kwargs)\u001b[0m\n\u001b[1;32m   2862\u001b[0m         \u001b[0mvmin\u001b[0m\u001b[0;34m=\u001b[0m\u001b[0mvmin\u001b[0m\u001b[0;34m,\u001b[0m \u001b[0mvmax\u001b[0m\u001b[0;34m=\u001b[0m\u001b[0mvmax\u001b[0m\u001b[0;34m,\u001b[0m \u001b[0malpha\u001b[0m\u001b[0;34m=\u001b[0m\u001b[0malpha\u001b[0m\u001b[0;34m,\u001b[0m \u001b[0mlinewidths\u001b[0m\u001b[0;34m=\u001b[0m\u001b[0mlinewidths\u001b[0m\u001b[0;34m,\u001b[0m\u001b[0;34m\u001b[0m\u001b[0;34m\u001b[0m\u001b[0m\n\u001b[1;32m   2863\u001b[0m         verts=verts, edgecolors=edgecolors, **({\"data\": data} if data\n\u001b[0;32m-> 2864\u001b[0;31m         is not None else {}), **kwargs)\n\u001b[0m\u001b[1;32m   2865\u001b[0m     \u001b[0msci\u001b[0m\u001b[0;34m(\u001b[0m\u001b[0m__ret\u001b[0m\u001b[0;34m)\u001b[0m\u001b[0;34m\u001b[0m\u001b[0;34m\u001b[0m\u001b[0m\n\u001b[1;32m   2866\u001b[0m     \u001b[0;32mreturn\u001b[0m \u001b[0m__ret\u001b[0m\u001b[0;34m\u001b[0m\u001b[0;34m\u001b[0m\u001b[0m\n",
      "\u001b[0;32m~/anaconda3/envs/pixyz/lib/python3.6/site-packages/matplotlib/__init__.py\u001b[0m in \u001b[0;36minner\u001b[0;34m(ax, data, *args, **kwargs)\u001b[0m\n\u001b[1;32m   1808\u001b[0m                         \u001b[0;34m\"the Matplotlib list!)\"\u001b[0m \u001b[0;34m%\u001b[0m \u001b[0;34m(\u001b[0m\u001b[0mlabel_namer\u001b[0m\u001b[0;34m,\u001b[0m \u001b[0mfunc\u001b[0m\u001b[0;34m.\u001b[0m\u001b[0m__name__\u001b[0m\u001b[0;34m)\u001b[0m\u001b[0;34m,\u001b[0m\u001b[0;34m\u001b[0m\u001b[0;34m\u001b[0m\u001b[0m\n\u001b[1;32m   1809\u001b[0m                         RuntimeWarning, stacklevel=2)\n\u001b[0;32m-> 1810\u001b[0;31m             \u001b[0;32mreturn\u001b[0m \u001b[0mfunc\u001b[0m\u001b[0;34m(\u001b[0m\u001b[0max\u001b[0m\u001b[0;34m,\u001b[0m \u001b[0;34m*\u001b[0m\u001b[0margs\u001b[0m\u001b[0;34m,\u001b[0m \u001b[0;34m**\u001b[0m\u001b[0mkwargs\u001b[0m\u001b[0;34m)\u001b[0m\u001b[0;34m\u001b[0m\u001b[0;34m\u001b[0m\u001b[0m\n\u001b[0m\u001b[1;32m   1811\u001b[0m \u001b[0;34m\u001b[0m\u001b[0m\n\u001b[1;32m   1812\u001b[0m         inner.__doc__ = _add_data_doc(inner.__doc__,\n",
      "\u001b[0;32m~/anaconda3/envs/pixyz/lib/python3.6/site-packages/matplotlib/axes/_axes.py\u001b[0m in \u001b[0;36mscatter\u001b[0;34m(self, x, y, s, c, marker, cmap, norm, vmin, vmax, alpha, linewidths, verts, edgecolors, **kwargs)\u001b[0m\n\u001b[1;32m   4278\u001b[0m             \u001b[0mmarker_obj\u001b[0m \u001b[0;34m=\u001b[0m \u001b[0mmarker\u001b[0m\u001b[0;34m\u001b[0m\u001b[0;34m\u001b[0m\u001b[0m\n\u001b[1;32m   4279\u001b[0m         \u001b[0;32melse\u001b[0m\u001b[0;34m:\u001b[0m\u001b[0;34m\u001b[0m\u001b[0;34m\u001b[0m\u001b[0m\n\u001b[0;32m-> 4280\u001b[0;31m             \u001b[0mmarker_obj\u001b[0m \u001b[0;34m=\u001b[0m \u001b[0mmmarkers\u001b[0m\u001b[0;34m.\u001b[0m\u001b[0mMarkerStyle\u001b[0m\u001b[0;34m(\u001b[0m\u001b[0mmarker\u001b[0m\u001b[0;34m)\u001b[0m\u001b[0;34m\u001b[0m\u001b[0;34m\u001b[0m\u001b[0m\n\u001b[0m\u001b[1;32m   4281\u001b[0m \u001b[0;34m\u001b[0m\u001b[0m\n\u001b[1;32m   4282\u001b[0m         path = marker_obj.get_path().transformed(\n",
      "\u001b[0;32m~/anaconda3/envs/pixyz/lib/python3.6/site-packages/matplotlib/markers.py\u001b[0m in \u001b[0;36m__init__\u001b[0;34m(self, marker, fillstyle)\u001b[0m\n\u001b[1;32m    243\u001b[0m         \u001b[0mself\u001b[0m\u001b[0;34m.\u001b[0m\u001b[0m_marker_function\u001b[0m \u001b[0;34m=\u001b[0m \u001b[0;32mNone\u001b[0m\u001b[0;34m\u001b[0m\u001b[0;34m\u001b[0m\u001b[0m\n\u001b[1;32m    244\u001b[0m         \u001b[0mself\u001b[0m\u001b[0;34m.\u001b[0m\u001b[0mset_fillstyle\u001b[0m\u001b[0;34m(\u001b[0m\u001b[0mfillstyle\u001b[0m\u001b[0;34m)\u001b[0m\u001b[0;34m\u001b[0m\u001b[0;34m\u001b[0m\u001b[0m\n\u001b[0;32m--> 245\u001b[0;31m         \u001b[0mself\u001b[0m\u001b[0;34m.\u001b[0m\u001b[0mset_marker\u001b[0m\u001b[0;34m(\u001b[0m\u001b[0mmarker\u001b[0m\u001b[0;34m)\u001b[0m\u001b[0;34m\u001b[0m\u001b[0;34m\u001b[0m\u001b[0m\n\u001b[0m\u001b[1;32m    246\u001b[0m \u001b[0;34m\u001b[0m\u001b[0m\n\u001b[1;32m    247\u001b[0m     \u001b[0;32mdef\u001b[0m \u001b[0m_recache\u001b[0m\u001b[0;34m(\u001b[0m\u001b[0mself\u001b[0m\u001b[0;34m)\u001b[0m\u001b[0;34m:\u001b[0m\u001b[0;34m\u001b[0m\u001b[0;34m\u001b[0m\u001b[0m\n",
      "\u001b[0;32m~/anaconda3/envs/pixyz/lib/python3.6/site-packages/matplotlib/markers.py\u001b[0m in \u001b[0;36mset_marker\u001b[0;34m(self, marker)\u001b[0m\n\u001b[1;32m    313\u001b[0m             \u001b[0;32mexcept\u001b[0m \u001b[0mValueError\u001b[0m\u001b[0;34m:\u001b[0m\u001b[0;34m\u001b[0m\u001b[0;34m\u001b[0m\u001b[0m\n\u001b[1;32m    314\u001b[0m                 raise ValueError('Unrecognized marker style {!r}'\n\u001b[0;32m--> 315\u001b[0;31m                                  .format(marker))\n\u001b[0m\u001b[1;32m    316\u001b[0m \u001b[0;34m\u001b[0m\u001b[0m\n\u001b[1;32m    317\u001b[0m         \u001b[0mself\u001b[0m\u001b[0;34m.\u001b[0m\u001b[0m_marker\u001b[0m \u001b[0;34m=\u001b[0m \u001b[0mmarker\u001b[0m\u001b[0;34m\u001b[0m\u001b[0;34m\u001b[0m\u001b[0m\n",
      "\u001b[0;31mValueError\u001b[0m: Unrecognized marker style '・'"
     ]
    },
    {
     "data": {
      "image/png": "[encoded data removed]",
      "text/plain": [
       "<Figure size 432x288 with 1 Axes>"
      ]
     },
     "metadata": {
      "needs_background": "light"
     },
     "output_type": "display_data"
    }
   ],
   "source": [
    "writer = SummaryWriter()\n",
    "\n",
    "plot_number = 1\n",
    "\n",
    "s_sample = 0.5 * torch.randn(64, s_dim).to(device)\n",
    "c_sample = torch.eye(10)[[plot_number]*64].to(device)\n",
    "\n",
    "# _o, _c = iter(test_loader).next()\n",
    "# _o = _o.to(device)\n",
    "# _c = torch.eye(10)[_c].to(device)\n",
    "\n",
    "\n",
    "for epoch in range(1, epochs + 1):\n",
    "    train_loss = train(epoch)\n",
    "    test_loss = test(epoch)\n",
    "    \n",
    "#     recon = plot_reconstrunction(_o[:8], _c[:8])\n",
    "#     sample = plot_image_from_latent(s_sample, c_sample)\n",
    "#     recon_changing_c = plot_reconstrunction_changing_c(_o[:8], _c[:8])\n",
    "\n",
    "    writer.add_scalar('train_loss', train_loss.item(), epoch)\n",
    "    writer.add_scalar('test_loss', test_loss.item(), epoch)\n",
    "    \n",
    "    #for plot\n",
    "    history[\"train_loss\"].append(train_loss.item())\n",
    "    history[\"test_loss\"].append(test_loss.item())\n",
    "\n",
    "    _s = q.sample({\"o\": data[\"o\"].to(device), \"c\": data[\"c\"].to(device)}, return_all=False)\n",
    "    ax = plt.subplot(1, 2, 1)\n",
    "    tru = plt.scatter(data[\"s\"][:,0],_s[\"s\"][:,0],color='black',marker='o',edgecolors=\"black\")\n",
    "    plt.xticks(np.arange(min_data,max_data+grid_inter,grid_inter))\n",
    "    plt.yticks(np.arange(min_data,max_data+grid_inter,grid_inter))\n",
    "    ax.set_xlim([min_data,max_data])\n",
    "    ax.set_ylim([min_data,max_data])\n",
    "    #plt.ylabel('$s$', fontsize=16)\n",
    "    plt.xlabel('$X$', fontsize=16)\n",
    "    \n",
    "    ay = plt.subplot(1, 2, 2)\n",
    "    sam = plt.scatter(data[\"s\"][:,1],_s[\"s\"][:,1],color='black',marker='o',edgecolors=\"black\")\n",
    "    plt.xticks(np.arange(min_data,max_data+grid_inter,grid_inter))\n",
    "    plt.yticks(np.arange(min_data,max_data+grid_inter,grid_inter))\n",
    "    ay.set_xlim([min_data,max_data])\n",
    "    ay.set_ylim([min_data,max_data])\n",
    "    plt.xlabel('$Y$', fontsize=16)\n",
    "    ims.append([tru]+[sam])\n",
    "    \n",
    "    x = np.linspace(0,100,1)  # xの値域(0, 1, 2, 3)\n",
    "    y = x               # 直線の式\n",
    "    plt.plot(x,y,\"r-\")      # 直線を引く\n",
    "    plt.show()\n",
    "    \n",
    "\n",
    "#     writer.add_image('Image_from_latent', sample, epoch)\n",
    "#     writer.add_image('Image_reconstrunction', recon, epoch)\n",
    "#     writer.add_image('Image_reconstrunction_change_c', recon_changing_c, epoch)\n",
    "    \n",
    "writer.close()"
   ]
  },
  {
   "cell_type": "code",
   "execution_count": null,
   "metadata": {
    "colab": {},
    "colab_type": "code",
    "id": "hGz-7pxkS7XH"
   },
   "outputs": [],
   "source": [
    "# #animation\n",
    "# def iinit():    \n",
    "#     return (ims[0])\n",
    "# # animation function: this is called sequentially\n",
    "# def animate(i):\n",
    "#   return (ims[i])\n",
    "\n",
    "# #plot gif\n",
    "# fig = plt.figure()\n",
    "# plt.legend(['True','Result'], loc='upper left', fontsize=16)\n",
    "# ani = animation.ArtistAnimation(fig, ims)\n",
    "# anim = animation.FuncAnimation(fig, animate, init_func=iinit, frames=epochs, interval=100, blit=True)\n",
    "# plt.rcParams['animation.ffmpeg_path'] = '/usr/bin/ffmpeg' # For google colab\n",
    "# HTML(ani.to_html5_video())\n",
    "# rc('animation', html='jshtml')\n",
    "# anim"
   ]
  },
  {
   "cell_type": "code",
   "execution_count": null,
   "metadata": {
    "colab": {
     "base_uri": "https://localhost:8080/",
     "height": 730
    },
    "colab_type": "code",
    "executionInfo": {
     "elapsed": 86142,
     "status": "ok",
     "timestamp": 1547791524880,
     "user": {
      "displayName": "福井隆士",
      "photoUrl": "",
      "userId": "02045005220596599994"
     },
     "user_tz": -540
    },
    "id": "QHs1D1ECgB92",
    "outputId": "b3bdb091-7e95-4fbc-d17f-a10f5d88e634"
   },
   "outputs": [],
   "source": [
    "#plot loss    \n",
    "plt.ylabel('$loss$', fontsize=16)\n",
    "plt.xlabel('$epoch$', fontsize=16)\n",
    "plt.title(\"train_loss\")\n",
    "plt.plot(range(epochs), history[\"train_loss\"])\n",
    "plt.show()\n",
    "plt.title(\"test_loss\")\n",
    "plt.plot(range(epochs), history[\"test_loss\"])\n",
    "plt.show()"
   ]
  },
  {
   "cell_type": "code",
   "execution_count": null,
   "metadata": {},
   "outputs": [],
   "source": [
    "#u_tでの挙動をみるためのテスト\n",
    "data=unique_datagenerator(sample_num,ssigma,5.0,-5.0)\n",
    "_s = q.sample({\"o\": data[\"o\"].to(device), \"c\": data[\"c\"].to(device)}, return_all=False)\n",
    "_o= p.sample({\"s\": _s[\"s\"].to(device)}, return_all=False)"
   ]
  },
  {
   "cell_type": "code",
   "execution_count": null,
   "metadata": {},
   "outputs": [],
   "source": [
    "#u_tでの挙動を見るためのテストの描画\n",
    "plt.subplot(1, 2, 1)\n",
    "tru = plt.scatter(data[\"s\"][:,0],_s[\"s\"][:,0],color='blue',marker='o',edgecolors=\"blue\")\n",
    "plt.xticks(np.arange(min_data,max_data,grid_inter))\n",
    "plt.yticks(np.arange(min_data,max_data,grid_inter))\n",
    "plt.ylabel('$st　from　q$', fontsize=16)\n",
    "plt.xlabel('$true　s_{tx}$', fontsize=16)\n",
    "\n",
    "plt.subplot(1, 2, 2)\n",
    "sam = plt.scatter(data[\"s\"][:,1],_s[\"s\"][:,1],color='red',marker='x',edgecolors=\"red\")\n",
    "plt.xticks(np.arange(min_data,max_data,grid_inter))\n",
    "plt.yticks(np.arange(min_data,max_data,grid_inter))\n",
    "plt.xlabel('$true　s_{ty}$', fontsize=16)\n",
    "ims.append([tru]+[sam])\n",
    "plt.grid(which='minor',color='black',linestyle='-')\n",
    "plt.show()"
   ]
  },
  {
   "cell_type": "code",
   "execution_count": null,
   "metadata": {},
   "outputs": [],
   "source": [
    "import csv\n",
    "test_sample_num = 3000\n",
    "test_sigma=torch.Tensor([0.5,0.5]*test_sample_num).view(test_sample_num,2)\n",
    "\n",
    "with open('usplus1.csv','w') as f:\n",
    "    for x in [-5.0,0.0,5.0]:\n",
    "        for y in [-5.0,0.0,5.0]:\n",
    "            data=unique_datagenerator(test_sample_num,test_sigma,x,y)\n",
    "            _s = q.sample({\"o\": data[\"o\"].to(device), \"c\": data[\"c\"].to(device),\"st1\":data[\"st1\"].to(device),\"u\":data[\"u\"]}, return_all=False)\n",
    "            lossx=0\n",
    "            lossy=0\n",
    "            _ss=_s[\"s\"]\n",
    "            for i in range(0,test_sample_num-1,1):\n",
    "                lossx+=np.square(data[\"s\"][i][0].numpy()-_ss[i][0].numpy())\n",
    "                lossy+=np.square(data[\"s\"][i][1].numpy()-_ss[i][1].numpy())\n",
    "            print(lossx/test_sample_num)\n",
    "            print(lossy/test_sample_num)\n",
    "            writer = csv.writer(f, lineterminator='\\n')\n",
    "            writer.writerows([[ lossx/test_sample_num, lossy/test_sample_num ]])\n",
    "            \n",
    "            "
   ]
  },
  {
   "cell_type": "code",
   "execution_count": null,
   "metadata": {},
   "outputs": [],
   "source": [
    "print(data[\"s\"][:,0])\n",
    "print(_ss[:,0])"
   ]
  },
  {
   "cell_type": "code",
   "execution_count": null,
   "metadata": {
    "colab": {
     "base_uri": "https://localhost:8080/",
     "height": 767
    },
    "colab_type": "code",
    "executionInfo": {
     "elapsed": 86526,
     "status": "ok",
     "timestamp": 1547791525283,
     "user": {
      "displayName": "福井隆士",
      "photoUrl": "",
      "userId": "02045005220596599994"
     },
     "user_tz": -540
    },
    "id": "U2oM95XP89nJ",
    "outputId": "db2e3393-5684-43bb-cff0-33b87d4049e9"
   },
   "outputs": [],
   "source": [
    "print(_s)\n",
    "print(_o[\"o\"])\n",
    "print(data[\"s\"])\n",
    "\n",
    "# plt.scatter(sample_o[:,0],sample_o[:,1],color='blue',marker='o',edgecolors=\"blue\")\n",
    "plt.scatter(data[\"o\"][:,0],data[\"o\"][:,1],color='blue',marker='x',edgecolors=\"red\")\n",
    "plt.scatter(_o[\"o\"][:,0],_o[\"o\"][:,1],color='red',marker='x',edgecolors=\"red\")\n",
    "plt.xlabel('$sx$', fontsize=16)\n",
    "plt.ylabel('$sy$', fontsize=16)\n",
    "plt.title(\"Simulated dataset\")\n",
    "plt.show()"
   ]
  },
  {
   "cell_type": "code",
   "execution_count": null,
   "metadata": {
    "colab": {
     "base_uri": "https://localhost:8080/",
     "height": 35
    },
    "colab_type": "code",
    "executionInfo": {
     "elapsed": 86912,
     "status": "ok",
     "timestamp": 1547791525680,
     "user": {
      "displayName": "福井隆士",
      "photoUrl": "",
      "userId": "02045005220596599994"
     },
     "user_tz": -540
    },
    "id": "o7HCeyaGVyEY",
    "outputId": "fecc47c8-3008-4811-c747-1cc3a879cf10"
   },
   "outputs": [],
   "source": [
    "loss=0\n",
    "_ss=_s[\"s\"]\n",
    "for i in range(0,sample_num-1,1):\n",
    "    loss+=np.abs(data[\"s\"][i].numpy()-_ss[i])\n",
    "print(loss/sample_num)"
   ]
  },
  {
   "cell_type": "code",
   "execution_count": null,
   "metadata": {
    "colab": {
     "base_uri": "https://localhost:8080/",
     "height": 711
    },
    "colab_type": "code",
    "executionInfo": {
     "elapsed": 87925,
     "status": "ok",
     "timestamp": 1547791526706,
     "user": {
      "displayName": "福井隆士",
      "photoUrl": "",
      "userId": "02045005220596599994"
     },
     "user_tz": -540
    },
    "id": "V4CaNuf06i1P",
    "outputId": "6a5c7e1e-ed1c-4bb9-d6ae-831ecc60adc5"
   },
   "outputs": [],
   "source": [
    "max_data=10#max_data\n",
    "min_data=-4#min_data\n",
    "grid_inter=1\n",
    "\n",
    "plot_data=test_data\n",
    "\n",
    "_s = q.sample({\"o\": plot_data[\"o\"].to(device), \"c\": plot_data[\"c\"].to(device)}, return_all=False)\n",
    "\n",
    "#show sample points\n",
    "plt.scatter(plot_data[\"s\"][:,0],plot_data[\"s\"][:,1],color='blue',marker='o',edgecolors=\"blue\")\n",
    "plt.scatter(_s[\"s\"][:,0],_s[\"s\"][:,1],color='red',marker='x',edgecolors=\"red\")\n",
    "plt.xlabel('$sx$', fontsize=16)\n",
    "plt.ylabel('$sy$', fontsize=16)\n",
    "plt.title(\"Simulated dataset\")\n",
    "plt.show()\n",
    "\n",
    "plt.subplot(1, 2, 1)\n",
    "plt.scatter(plot_data[\"s\"][:,0],plot_data[\"s\"][:,1],color='blue',marker='o',edgecolors=\"blue\")\n",
    "plt.xticks(np.arange(min_data-1,max_data+1,grid_inter))\n",
    "plt.subplot(1,2,2)\n",
    "plt.scatter(_s[\"s\"][:,0],_s[\"s\"][:,1],color='red',marker='x',edgecolors=\"red\")\n",
    "plt.xticks(np.arange(min_data-1,max_data+1,grid_inter))\n",
    "plt.show()\n"
   ]
  }
 ],
 "metadata": {
  "accelerator": "GPU",
  "colab": {
   "collapsed_sections": [
    "xLUiwGU7T1vi"
   ],
   "name": "cvae_2dim_localization.ipynb",
   "provenance": [],
   "version": "0.3.2"
  },
  "kernelspec": {
   "display_name": "Python 3",
   "language": "python",
   "name": "python3"
  },
  "language_info": {
   "codemirror_mode": {
    "name": "ipython",
    "version": 3
   },
   "file_extension": ".py",
   "mimetype": "text/x-python",
   "name": "python",
   "nbconvert_exporter": "python",
   "pygments_lexer": "ipython3",
   "version": "3.6.7"
  }
 },
 "nbformat": 4,
 "nbformat_minor": 1
}
