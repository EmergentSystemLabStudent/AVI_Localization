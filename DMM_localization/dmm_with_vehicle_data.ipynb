{
 "cells": [
  {
   "cell_type": "markdown",
   "metadata": {},
   "source": [
    "# Deep Markov Model"
   ]
  },
  {
   "cell_type": "code",
   "execution_count": 346,
   "metadata": {},
   "outputs": [],
   "source": [
    "from tqdm import tqdm\n",
    "\n",
    "import torch\n",
    "from torch import optim\n",
    "import torch.nn as nn\n",
    "import torch.nn.functional as F\n",
    "from torchvision import transforms, datasets\n",
    "from tensorboardX import SummaryWriter\n",
    "import numpy as np\n",
    "import torch.optim as optim"
   ]
  },
  {
   "cell_type": "code",
   "execution_count": 347,
   "metadata": {},
   "outputs": [
    {
     "data": {
      "text/plain": [
       "<torch._C.Generator at 0x2b7555ae1490>"
      ]
     },
     "execution_count": 347,
     "metadata": {},
     "output_type": "execute_result"
    }
   ],
   "source": [
    "batch_size = 128#128\n",
    "epochs = 100\n",
    "seed = 1\n",
    "torch.manual_seed(seed)"
   ]
  },
  {
   "cell_type": "code",
   "execution_count": 348,
   "metadata": {},
   "outputs": [],
   "source": [
    "if torch.cuda.is_available():\n",
    "    device = \"cuda\"\n",
    "else:\n",
    "    device = \"cpu\""
   ]
  },
  {
   "cell_type": "code",
   "execution_count": 349,
   "metadata": {},
   "outputs": [],
   "source": [
    "#計測モデルとか\n",
    "def get_ot(st,lmap,max_range):\n",
    "    dis = torch.sqrt((st[:,0]-lmap[0])**2+(st[:,1]-lmap[1])**2)\n",
    "    angle = torch.atan2((lmap[1]-st[:,1]),(lmap[0]-st[:,0]))-st[:,2]\n",
    "    return torch.stack([dis,torch.sin(angle),torch.cos(angle)],1)\n",
    "    \n",
    "def get_all_ot(st,lmap,max_range):\n",
    "    measure = get_ot(st,lmap[0],max_range)\n",
    "    for l in range(1,len(lmap)):\n",
    "        measure = torch.cat([measure, get_ot(st,lmap[l],max_range)],1)\n",
    "    return torch.tensor(measure)"
   ]
  },
  {
   "cell_type": "code",
   "execution_count": 350,
   "metadata": {},
   "outputs": [],
   "source": [
    "landmark_num = 10\n",
    "start_pos = [2.0,4.0,0.0,0.0]#x0,y0,yaw0"
   ]
  },
  {
   "cell_type": "code",
   "execution_count": null,
   "metadata": {},
   "outputs": [],
   "source": []
  },
  {
   "cell_type": "code",
   "execution_count": 351,
   "metadata": {},
   "outputs": [],
   "source": [
    "landmark_dim = 2\n",
    "ot_dim = 3#[dis,rad_sin,rad_cos]\n",
    "x_dim = landmark_num*ot_dim\n",
    "h_dim = 32 #32\n",
    "hidden_dim = 32 #32\n",
    "z_dim = 4\n",
    "u_dim = 3\n",
    "t_max = 66"
   ]
  },
  {
   "cell_type": "code",
   "execution_count": 352,
   "metadata": {},
   "outputs": [],
   "source": [
    "def normalize(data, *args):\n",
    "    if len(args) == 0:\n",
    "        max_data = torch.max(abs(data))\n",
    "        data=data/max_data\n",
    "    else :\n",
    "        max_data=torch.max(abs(torch.tensor(args)))\n",
    "        data=data/max_data\n",
    "    return data\n",
    "\n",
    "def ot_normal(ot,range_ot):\n",
    "    ot=ot.view(len(ot),landmark_num,ot_dim)\n",
    "    ot[:,:,0]=normalize(ot[:,:,0],range_ot[0][0],range_ot[0][1])\n",
    "#     ot[:,:,1]=normalize(ot[:,:,1],range_ot[1][0],range_ot[1][1])#もともと-1:1\n",
    "    ot = ot.view(len(ot),landmark_num*ot_dim)\n",
    "    return ot\n",
    "\n",
    "# def inv_ot_normal(ot,range_ot):\n",
    "#     ot=ot.view(len(ot),10,2)\n",
    "#     ot[:,:,0]=ot[:,:,0]*torch.max(range_ot[0][0],range_ot[0][1])\n",
    "#     ot[:,:,1]=ot[:,:,1]*torch.max(range_ot[1][0],range_ot[1][1])\n",
    "#     ot = ot.view(len(ot),20)\n",
    "#     return ot"
   ]
  },
  {
   "cell_type": "code",
   "execution_count": 353,
   "metadata": {},
   "outputs": [
    {
     "name": "stdout",
     "output_type": "stream",
     "text": [
      "torch.Size([66, 30])\n",
      "torch.Size([66, 30])\n",
      "torch.Size([1000, 66, 30])\n"
     ]
    }
   ],
   "source": [
    "#データの読み込み\n",
    "transform = transforms.Compose([transforms.ToTensor()])\n",
    "kwargs = {'batch_size': batch_size, 'num_workers': 1, 'pin_memory': True}\n",
    "\n",
    "range_ot=torch.tensor([[0.0,150.0],[-np.pi*2,np.pi*2]])#otの[v,r]の最大と最小\n",
    "\n",
    "#data loader #とりあえず1時系列分を分身させて食わせてる\n",
    "#[time,s_x,s_y,s_yaw,uv,ur,ot[1],,,,ot[N]]\n",
    "data = np.loadtxt('vehicle_motion_data.csv', delimiter=',')\n",
    "data = torch.tensor([data],dtype=torch.float32)\n",
    "st = data[0,:,1:(1+z_dim)]\n",
    "ut = data[0,:,(1+z_dim):(1+z_dim+u_dim)]\n",
    "ot = data[0,:,(1+z_dim+u_dim):(1+z_dim+u_dim+x_dim)]\n",
    "t_max=len(ot)\n",
    "print(ot.size())\n",
    "ot=ot_normal(ot,range_ot)\n",
    "\n",
    "print(ot.size())\n",
    "st=st.repeat(1000,1,1)\n",
    "ut=ut.repeat(1000,1,1)\n",
    "ot=ot.repeat(1000,1,1)\n",
    "print(ot.size())\n",
    "\n",
    "\n",
    "landmark = np.loadtxt('landmark_data.csv',delimiter=',')\n",
    "\n",
    "train = torch.utils.data.TensorDataset(ot)\n",
    "train_loader = torch.utils.data.DataLoader(train, shuffle=False,**kwargs)\n",
    "test = torch.utils.data.TensorDataset(ot)\n",
    "test_loader = torch.utils.data.DataLoader(test, shuffle=False,**kwargs)"
   ]
  },
  {
   "cell_type": "code",
   "execution_count": 354,
   "metadata": {},
   "outputs": [],
   "source": [
    "from pixyz.models import Model\n",
    "from pixyz.losses import KullbackLeibler, CrossEntropy, IterativeLoss, StochasticReconstructionLoss\n",
    "from pixyz.distributions import Bernoulli, Normal, Deterministic\n",
    "from pixyz.utils import print_latex"
   ]
  },
  {
   "cell_type": "code",
   "execution_count": 355,
   "metadata": {},
   "outputs": [],
   "source": [
    "class RNN(Deterministic):\n",
    "    def __init__(self):\n",
    "        super(RNN, self).__init__(cond_var=[\"x\"], var=[\"h\"],name=\"q\")\n",
    "        self.rnn = nn.GRU(x_dim, h_dim, bidirectional=True)\n",
    "#         self.h0 = torch.zeros(2, batch_size, self.rnn.hidden_size).to(device)\n",
    "        self.h0 = nn.Parameter(torch.zeros(2, 1, self.rnn.hidden_size))\n",
    "        self.hidden_size = self.rnn.hidden_size\n",
    "\n",
    "        \n",
    "    def forward(self, x):\n",
    "#         if(x.size(1)!=128):\n",
    "#             x=x.repeat(66,1,1)\n",
    "#         print(\"xsize\",str(x.size()))\n",
    "        h0 = self.h0.expand(2, x.size(1), self.rnn.hidden_size).contiguous()\n",
    "#         print(self.rnn(x,h0))\n",
    "        h, _ = self.rnn(x, h0)\n",
    "#         print(\"hsize\",str(h.size()))\n",
    "        return {\"h\": h}"
   ]
  },
  {
   "cell_type": "code",
   "execution_count": 356,
   "metadata": {},
   "outputs": [],
   "source": [
    "# class Phi_x(nn.Module):\n",
    "#     def __init__(self):\n",
    "#         super(Phi_x, self).__init__()\n",
    "#         self.fc0 = nn.Linear(x_dim, h_dim)\n",
    "#     def forward(self, x):\n",
    "#         return F.relu(self.fc0(x))\n",
    "\n",
    "# f_phi_x = Phi_x().to(device)\n",
    "\n",
    "# class RNN(Deterministic):\n",
    "#     def __init__(self):\n",
    "#         super(RNN, self).__init__(cond_var=[\"x\",\"h_prev\"], var=[\"h\"],name=\"q\")\n",
    "#         self.gru1 = nn.GRUCell(h_dim, h_dim).to(device)\n",
    "#         self.hidden_size = h_dim\n",
    "#         self.f_phi_x = f_phi_x\n",
    "        \n",
    "        \n",
    "#     def forward(self, x, h_prev):\n",
    "#         print(x.size(),h_prev.size())\n",
    "#         h = self.gru1(self.f_phi_x(x), h_prev)\n",
    "#         return {\"h\": h}"
   ]
  },
  {
   "cell_type": "code",
   "execution_count": 357,
   "metadata": {},
   "outputs": [],
   "source": [
    "# class Generator(Bernoulli):\n",
    "#     def __init__(self):\n",
    "#         super(Generator, self).__init__(cond_var=[\"z\"], var=[\"x\"])\n",
    "#         self.fc1 = nn.Linear(z_dim, hidden_dim)\n",
    "#         self.fc2 = nn.Linear(hidden_dim, x_dim)\n",
    "    \n",
    "#     def forward(self, z):\n",
    "# #         print(z.size()) #[128,3]\n",
    "#         h = F.relu(self.fc1(z))\n",
    "#         return {\"probs\": torch.sigmoid(self.fc2(h))}\n",
    "class Generator(Normal):\n",
    "    def __init__(self):\n",
    "        super(Generator, self).__init__(cond_var=[\"z\"], var=[\"x\"])\n",
    "    \n",
    "    def forward(self, z):#計測モデルそのまま\n",
    "#         print(\"z.size\",str(z.size()))\n",
    "        zl=torch.cat([z[:,0:2],torch.atan2(z[:,2:3],z[:,3:4])],dim=1)\n",
    "        ot=get_all_ot(zl,landmark,[1000,1000])\n",
    "        ot=ot_normal(ot,range_ot) #データを正規化しなおしてる\n",
    "        return {\"loc\": ot,\"scale\":torch.tensor(0.1).to(device)}"
   ]
  },
  {
   "cell_type": "code",
   "execution_count": 358,
   "metadata": {},
   "outputs": [],
   "source": [
    "class Inference(Normal):\n",
    "    def __init__(self):\n",
    "        super(Inference, self).__init__(cond_var=[\"h\", \"z_prev\"], var=[\"z\"], name=\"q\")\n",
    "        self.fc1 = nn.Linear(z_dim, h_dim*2)\n",
    "        self.fc21 = nn.Linear(h_dim*2, z_dim)\n",
    "        self.fc22 = nn.Linear(h_dim*2, z_dim)\n",
    "        \n",
    "    def forward(self, h, z_prev):\n",
    "#         print(\"h.size\",str(h.size()))\n",
    "        h_z = torch.tanh(self.fc1(z_prev))\n",
    "        h = 0.5 * (h + h_z)\n",
    "        return {\"loc\": self.fc21(h), \"scale\": F.softplus(self.fc22(h))}"
   ]
  },
  {
   "cell_type": "code",
   "execution_count": 359,
   "metadata": {},
   "outputs": [],
   "source": [
    "class Prior(Normal):#通常ここには動作モデルをいれる\n",
    "    def __init__(self):\n",
    "        super(Prior, self).__init__(cond_var=[\"z_prev\"], var=[\"z\"],name=\"p\")\n",
    "        self.fc1 = nn.Linear(z_dim, hidden_dim)\n",
    "        self.fc21 = nn.Linear(hidden_dim, z_dim)\n",
    "        self.fc22 = nn.Linear(hidden_dim, z_dim)\n",
    "        \n",
    "    def forward(self, z_prev):\n",
    "        h = F.relu(self.fc1(z_prev))\n",
    "        return {\"loc\": self.fc21(h), \"scale\": F.softplus(self.fc22(h))}"
   ]
  },
  {
   "cell_type": "code",
   "execution_count": 360,
   "metadata": {},
   "outputs": [],
   "source": [
    "prior = Prior().to(device)\n",
    "encoder = Inference().to(device)\n",
    "decoder = Generator().to(device)\n",
    "rnn = RNN().to(device)"
   ]
  },
  {
   "cell_type": "code",
   "execution_count": 361,
   "metadata": {
    "scrolled": true
   },
   "outputs": [
    {
     "name": "stdout",
     "output_type": "stream",
     "text": [
      "Distribution:\n",
      "  p(z|z_{prev})\n",
      "Network architecture:\n",
      "  Prior(\n",
      "    name=p, distribution_name=Normal,\n",
      "    var=['z'], cond_var=['z_prev'], input_var=['z_prev'], features_shape=torch.Size([])\n",
      "    (fc1): Linear(in_features=4, out_features=32, bias=True)\n",
      "    (fc21): Linear(in_features=32, out_features=4, bias=True)\n",
      "    (fc22): Linear(in_features=32, out_features=4, bias=True)\n",
      "  )\n",
      "********************************************************************************\n",
      "Distribution:\n",
      "  q(z|h,z_{prev})\n",
      "Network architecture:\n",
      "  Inference(\n",
      "    name=q, distribution_name=Normal,\n",
      "    var=['z'], cond_var=['h', 'z_prev'], input_var=['h', 'z_prev'], features_shape=torch.Size([])\n",
      "    (fc1): Linear(in_features=4, out_features=64, bias=True)\n",
      "    (fc21): Linear(in_features=64, out_features=4, bias=True)\n",
      "    (fc22): Linear(in_features=64, out_features=4, bias=True)\n",
      "  )\n",
      "********************************************************************************\n",
      "Distribution:\n",
      "  p(x|z)\n",
      "Network architecture:\n",
      "  Generator(\n",
      "    name=p, distribution_name=Normal,\n",
      "    var=['x'], cond_var=['z'], input_var=['z'], features_shape=torch.Size([])\n",
      "  )\n",
      "********************************************************************************\n",
      "Distribution:\n",
      "  q(h|x)\n",
      "Network architecture:\n",
      "  RNN(\n",
      "    name=q, distribution_name=Deterministic,\n",
      "    var=['h'], cond_var=['x'], input_var=['x'], features_shape=torch.Size([])\n",
      "    (rnn): GRU(30, 32, bidirectional=True)\n",
      "  )\n"
     ]
    }
   ],
   "source": [
    "print(prior)\n",
    "print(\"*\"*80)\n",
    "print(encoder)\n",
    "print(\"*\"*80)\n",
    "print(decoder)\n",
    "print(\"*\"*80)\n",
    "print(rnn)"
   ]
  },
  {
   "cell_type": "code",
   "execution_count": 362,
   "metadata": {
    "scrolled": true
   },
   "outputs": [
    {
     "name": "stdout",
     "output_type": "stream",
     "text": [
      "Distribution:\n",
      "  p(x,z|z_{prev}) = p(x|z)p(z|z_{prev})\n",
      "Network architecture:\n",
      "  Prior(\n",
      "    name=p, distribution_name=Normal,\n",
      "    var=['z'], cond_var=['z_prev'], input_var=['z_prev'], features_shape=torch.Size([])\n",
      "    (fc1): Linear(in_features=4, out_features=32, bias=True)\n",
      "    (fc21): Linear(in_features=32, out_features=4, bias=True)\n",
      "    (fc22): Linear(in_features=32, out_features=4, bias=True)\n",
      "  )\n",
      "  Generator(\n",
      "    name=p, distribution_name=Normal,\n",
      "    var=['x'], cond_var=['z'], input_var=['z'], features_shape=torch.Size([])\n",
      "  )\n",
      "Distribution:\n",
      "  p(z,h|z_{prev},x) = q(z|h,z_{prev})q(h|x)\n",
      "Network architecture:\n",
      "  RNN(\n",
      "    name=q, distribution_name=Deterministic,\n",
      "    var=['h'], cond_var=['x'], input_var=['x'], features_shape=torch.Size([])\n",
      "    (rnn): GRU(30, 32, bidirectional=True)\n",
      "  )\n",
      "  Inference(\n",
      "    name=q, distribution_name=Normal,\n",
      "    var=['z'], cond_var=['h', 'z_prev'], input_var=['h', 'z_prev'], features_shape=torch.Size([])\n",
      "    (fc1): Linear(in_features=4, out_features=64, bias=True)\n",
      "    (fc21): Linear(in_features=64, out_features=4, bias=True)\n",
      "    (fc22): Linear(in_features=64, out_features=4, bias=True)\n",
      "  )\n"
     ]
    },
    {
     "data": {
      "text/latex": [
       "$\\displaystyle p(z,h|z_{prev},x) = q(z|h,z_{prev})q(h|x)$"
      ],
      "text/plain": [
       "<IPython.core.display.Math object>"
      ]
     },
     "execution_count": 362,
     "metadata": {},
     "output_type": "execute_result"
    }
   ],
   "source": [
    "generate_from_prior = prior * decoder\n",
    "full_encoder = rnn*encoder\n",
    "full_decoder = encoder*decoder\n",
    "print(generate_from_prior)\n",
    "print_latex(generate_from_prior)\n",
    "print(full_encoder)\n",
    "print_latex(full_encoder)"
   ]
  },
  {
   "cell_type": "code",
   "execution_count": 363,
   "metadata": {},
   "outputs": [],
   "source": [
    "# from pixyz.losses.losses import SetLoss\n",
    "# class StochasticReconstructionLoss(SetLoss):\n",
    "\n",
    "#     def __init__(self, encoder, decoder, input_var=None):\n",
    "\n",
    "#         if input_var is None:\n",
    "#             input_var = encoder.input_var\n",
    "\n",
    "#         if not(set(decoder.var) <= set(input_var)):\n",
    "#             raise ValueError(\"Variable {} (in the `{}` class) is not included\"\n",
    "#                              \" in `input_var` of the `{}` class.\".format(decoder.var,\n",
    "#                                                                          decoder.__class__.__name__,\n",
    "#                                                                          encoder.__class__.__name__))\n",
    "\n",
    "#         print(input_var)\n",
    "#         loss = -decoder.log_prob().expectation(encoder,input_var)\n",
    "#         super().__init__(loss)\n"
   ]
  },
  {
   "cell_type": "code",
   "execution_count": 364,
   "metadata": {},
   "outputs": [
    {
     "data": {
      "text/latex": [
       "$\\displaystyle D_{KL} \\left[q(z|h,z_{prev})||p(z|z_{prev}) \\right] - \\mathbb{E}_{q(z|h,z_{prev})} \\left[\\log p(x|z) \\right]$"
      ],
      "text/plain": [
       "<IPython.core.display.Math object>"
      ]
     },
     "execution_count": 364,
     "metadata": {},
     "output_type": "execute_result"
    }
   ],
   "source": [
    "step_loss = CrossEntropy(encoder,decoder) + KullbackLeibler(encoder, prior)\n",
    "# step_loss =  KullbackLeibler(encoder, prior)+StochasticReconstructionLoss(full_encoder,decoder)\n",
    "# step_loss = step_loss.mean()\n",
    "_loss = IterativeLoss(step_loss, max_iter=t_max, \n",
    "                      series_var=[\"h\",\"x\"], update_value={\"z\": \"z_prev\"})\n",
    "# _loss2 = IterativeLoss(step_loss2, max_iter=t_max, \n",
    "#                       series_var=[\"h\",\"x\"], update_value={\"z\": \"z_prev\",\"h\":\"h_prev\"})\n",
    "# loss=_loss\n",
    "loss = _loss.expectation(rnn).mean()\n",
    "\n",
    "print_latex(step_loss)"
   ]
  },
  {
   "cell_type": "code",
   "execution_count": 365,
   "metadata": {},
   "outputs": [
    {
     "name": "stdout",
     "output_type": "stream",
     "text": [
      "<bound method DistributionBase.get_log_prob of Generator(\n",
      "  name=p, distribution_name=Normal,\n",
      "  var=['x'], cond_var=['z'], input_var=['z'], features_shape=torch.Size([])\n",
      ")>\n"
     ]
    }
   ],
   "source": [
    "print(decoder.get_log_prob)"
   ]
  },
  {
   "cell_type": "code",
   "execution_count": 366,
   "metadata": {},
   "outputs": [
    {
     "name": "stdout",
     "output_type": "stream",
     "text": [
      "['z_prev', 'x']\n"
     ]
    }
   ],
   "source": [
    "print(full_encoder.input_var)"
   ]
  },
  {
   "cell_type": "code",
   "execution_count": 367,
   "metadata": {},
   "outputs": [
    {
     "data": {
      "text/latex": [
       "$\\displaystyle \\sum_{t=1}^{66} \\left(D_{KL} \\left[q(z|h,z_{prev})||p(z|z_{prev}) \\right] - \\mathbb{E}_{q(z|h,z_{prev})} \\left[\\log p(x|z) \\right]\\right)$"
      ],
      "text/plain": [
       "<IPython.core.display.Math object>"
      ]
     },
     "execution_count": 367,
     "metadata": {},
     "output_type": "execute_result"
    }
   ],
   "source": [
    "print_latex(_loss)"
   ]
  },
  {
   "cell_type": "code",
   "execution_count": 368,
   "metadata": {},
   "outputs": [
    {
     "data": {
      "text/latex": [
       "$\\displaystyle mean \\left(\\mathbb{E}_{q(h|x)} \\left[\\sum_{t=1}^{66} \\left(D_{KL} \\left[q(z|h,z_{prev})||p(z|z_{prev}) \\right] - \\mathbb{E}_{q(z|h,z_{prev})} \\left[\\log p(x|z) \\right]\\right) \\right] \\right)$"
      ],
      "text/plain": [
       "<IPython.core.display.Math object>"
      ]
     },
     "execution_count": 368,
     "metadata": {},
     "output_type": "execute_result"
    }
   ],
   "source": [
    "print_latex(loss)"
   ]
  },
  {
   "cell_type": "code",
   "execution_count": 369,
   "metadata": {},
   "outputs": [],
   "source": [
    "dmm = Model(loss, distributions=[rnn,encoder, decoder, prior], \n",
    "            optimizer=optim.RMSprop, optimizer_params={\"lr\": 5e-4}, clip_grad_value=10)"
   ]
  },
  {
   "cell_type": "code",
   "execution_count": 370,
   "metadata": {},
   "outputs": [
    {
     "name": "stdout",
     "output_type": "stream",
     "text": [
      "Distributions (for training): \n",
      "  q(h|x), q(z|h,z_{prev}), p(x|z), p(z|z_{prev}) \n",
      "Loss function: \n",
      "  mean \\left(\\mathbb{E}_{q(h|x)} \\left[\\sum_{t=1}^{66} \\left(D_{KL} \\left[q(z|h,z_{prev})||p(z|z_{prev}) \\right] - \\mathbb{E}_{q(z|h,z_{prev})} \\left[\\log p(x|z) \\right]\\right) \\right] \\right) \n",
      "Optimizer: \n",
      "  RMSprop (\n",
      "  Parameter Group 0\n",
      "      alpha: 0.99\n",
      "      centered: False\n",
      "      eps: 1e-08\n",
      "      lr: 0.0005\n",
      "      momentum: 0\n",
      "      weight_decay: 0\n",
      "  )\n"
     ]
    },
    {
     "data": {
      "text/latex": [
       "$\\displaystyle mean \\left(\\mathbb{E}_{q(h|x)} \\left[\\sum_{t=1}^{66} \\left(D_{KL} \\left[q(z|h,z_{prev})||p(z|z_{prev}) \\right] - \\mathbb{E}_{q(z|h,z_{prev})} \\left[\\log p(x|z) \\right]\\right) \\right] \\right)$"
      ],
      "text/plain": [
       "<IPython.core.display.Math object>"
      ]
     },
     "execution_count": 370,
     "metadata": {},
     "output_type": "execute_result"
    }
   ],
   "source": [
    "print(dmm)\n",
    "print_latex(dmm)"
   ]
  },
  {
   "cell_type": "code",
   "execution_count": 371,
   "metadata": {},
   "outputs": [],
   "source": [
    "def data_loop(epoch, loader, model, device, train_mode=False):\n",
    "    mean_loss = 0\n",
    "    for idx,[data] in enumerate(tqdm(loader)):#batch_idx, (data, _) in enumerate(tqdm(loader)):\n",
    "        data = data.to(device)\n",
    "        batch_size = data.size()[0]\n",
    "        x = data.transpose(0, 1) #多分転置してるだけ\n",
    "        z_prev = torch.tensor(start_pos)\n",
    "        z_prev = z_prev.repeat(batch_size, 1).to(device)\n",
    "#         h_prev = torch.zeros(batch_size, h_dim).to(device)\n",
    "#         print(z_prev.size())\n",
    "        if train_mode:\n",
    "            mean_loss += model.train({'x': x, 'z_prev': z_prev}).item() * batch_size\n",
    "        else:\n",
    "            mean_loss += model.test({'x': x, 'z_prev': z_prev}).item() * batch_size\n",
    "    mean_loss /= len(loader.dataset)\n",
    "    if train_mode:\n",
    "        print('Epoch: {} Train loss: {:.4f}'.format(epoch, mean_loss))\n",
    "    else:\n",
    "        print('Test loss: {:.4f}'.format(mean_loss))\n",
    "    return mean_loss"
   ]
  },
  {
   "cell_type": "code",
   "execution_count": 372,
   "metadata": {},
   "outputs": [],
   "source": [
    "def plot_image_from_latent(batch_size):\n",
    "    x = []\n",
    "    z_prev = torch.zeros(batch_size, z_dim).to(device)\n",
    "    for step in range(t_max):\n",
    "        samples = generate_from_prior.sample({'z_prev': z_prev})\n",
    "        x_t = decoder.sample_mean({\"z\": samples[\"z\"]})\n",
    "        z_prev = samples[\"z\"]\n",
    "        x.append(x_t[None, :])\n",
    "    x = torch.cat(x, dim=0).transpose(0, 1)\n",
    "    return x"
   ]
  },
  {
   "cell_type": "code",
   "execution_count": null,
   "metadata": {},
   "outputs": [],
   "source": []
  },
  {
   "cell_type": "code",
   "execution_count": 373,
   "metadata": {
    "scrolled": true
   },
   "outputs": [
    {
     "name": "stderr",
     "output_type": "stream",
     "text": [
      "\n",
      "  0%|          | 0/8 [00:00<?, ?it/s]\u001b[A/home/fukku/anaconda3/envs/pixyz/lib/python3.7/site-packages/ipykernel_launcher.py:11: UserWarning: To copy construct from a tensor, it is recommended to use sourceTensor.clone().detach() or sourceTensor.clone().detach().requires_grad_(True), rather than torch.tensor(sourceTensor).\n",
      "  # This is added back by InteractiveShellApp.init_path()\n",
      "\n",
      " 12%|█▎        | 1/8 [00:00<00:03,  1.81it/s]\u001b[A\n",
      " 25%|██▌       | 2/8 [00:01<00:03,  1.89it/s]\u001b[A\n",
      " 38%|███▊      | 3/8 [00:01<00:02,  1.96it/s]\u001b[A\n",
      " 50%|█████     | 4/8 [00:01<00:01,  2.01it/s]\u001b[A\n",
      " 62%|██████▎   | 5/8 [00:02<00:01,  2.04it/s]\u001b[A\n",
      " 75%|███████▌  | 6/8 [00:02<00:00,  2.07it/s]\u001b[A\n",
      " 88%|████████▊ | 7/8 [00:03<00:00,  2.13it/s]\u001b[A\n",
      "100%|██████████| 8/8 [00:03<00:00,  2.19it/s]\u001b[A\n",
      "  0%|          | 0/8 [00:00<?, ?it/s]\u001b[A"
     ]
    },
    {
     "name": "stdout",
     "output_type": "stream",
     "text": [
      "Epoch: 1 Train loss: 68511.3236\n"
     ]
    },
    {
     "name": "stderr",
     "output_type": "stream",
     "text": [
      "\n",
      " 12%|█▎        | 1/8 [00:00<00:02,  2.40it/s]\u001b[A\n",
      " 25%|██▌       | 2/8 [00:00<00:02,  2.51it/s]\u001b[A\n",
      " 38%|███▊      | 3/8 [00:01<00:01,  2.60it/s]\u001b[A\n",
      " 50%|█████     | 4/8 [00:01<00:01,  2.67it/s]\u001b[A\n",
      " 62%|██████▎   | 5/8 [00:01<00:01,  2.71it/s]\u001b[A\n",
      " 75%|███████▌  | 6/8 [00:02<00:00,  2.75it/s]\u001b[A\n",
      " 88%|████████▊ | 7/8 [00:02<00:00,  2.87it/s]\u001b[A\n",
      "100%|██████████| 8/8 [00:02<00:00,  2.95it/s]\u001b[A"
     ]
    },
    {
     "name": "stdout",
     "output_type": "stream",
     "text": [
      "Test loss: 69384.6621\n"
     ]
    },
    {
     "name": "stderr",
     "output_type": "stream",
     "text": [
      "\n",
      "  0%|          | 0/8 [00:00<?, ?it/s]\u001b[A\n",
      " 12%|█▎        | 1/8 [00:00<00:03,  1.88it/s]\u001b[A\n",
      " 25%|██▌       | 2/8 [00:01<00:03,  1.94it/s]\u001b[A\n",
      " 38%|███▊      | 3/8 [00:01<00:02,  2.01it/s]\u001b[A\n",
      " 50%|█████     | 4/8 [00:01<00:01,  2.02it/s]\u001b[A\n",
      " 62%|██████▎   | 5/8 [00:02<00:01,  2.07it/s]\u001b[A\n",
      " 75%|███████▌  | 6/8 [00:02<00:00,  2.09it/s]\u001b[A\n",
      " 88%|████████▊ | 7/8 [00:03<00:00,  2.14it/s]\u001b[A\n",
      "100%|██████████| 8/8 [00:03<00:00,  2.18it/s]\u001b[A\n",
      "  0%|          | 0/8 [00:00<?, ?it/s]\u001b[A"
     ]
    },
    {
     "name": "stdout",
     "output_type": "stream",
     "text": [
      "Epoch: 2 Train loss: 68951.9513\n"
     ]
    },
    {
     "name": "stderr",
     "output_type": "stream",
     "text": [
      "\n",
      " 12%|█▎        | 1/8 [00:00<00:02,  2.35it/s]\u001b[A\n",
      " 25%|██▌       | 2/8 [00:00<00:02,  2.48it/s]\u001b[A\n",
      " 38%|███▊      | 3/8 [00:01<00:01,  2.57it/s]\u001b[A\n",
      " 50%|█████     | 4/8 [00:01<00:01,  2.65it/s]\u001b[A\n",
      " 62%|██████▎   | 5/8 [00:01<00:01,  2.70it/s]\u001b[A\n",
      " 75%|███████▌  | 6/8 [00:02<00:00,  2.75it/s]\u001b[A\n",
      " 88%|████████▊ | 7/8 [00:02<00:00,  2.86it/s]\u001b[A\n",
      "100%|██████████| 8/8 [00:02<00:00,  2.94it/s]\u001b[A"
     ]
    },
    {
     "name": "stdout",
     "output_type": "stream",
     "text": [
      "Test loss: 68945.4844\n"
     ]
    },
    {
     "name": "stderr",
     "output_type": "stream",
     "text": [
      "\n",
      "  0%|          | 0/8 [00:00<?, ?it/s]\u001b[A\n",
      " 12%|█▎        | 1/8 [00:00<00:03,  1.88it/s]\u001b[A\n",
      " 25%|██▌       | 2/8 [00:01<00:03,  1.94it/s]\u001b[A\n",
      " 38%|███▊      | 3/8 [00:01<00:02,  1.99it/s]\u001b[A\n",
      " 50%|█████     | 4/8 [00:01<00:01,  2.03it/s]\u001b[A\n",
      " 62%|██████▎   | 5/8 [00:02<00:01,  2.05it/s]\u001b[A\n",
      " 75%|███████▌  | 6/8 [00:02<00:00,  2.07it/s]\u001b[A\n",
      " 88%|████████▊ | 7/8 [00:03<00:00,  2.13it/s]\u001b[A\n",
      "100%|██████████| 8/8 [00:03<00:00,  2.18it/s]\u001b[A\n",
      "  0%|          | 0/8 [00:00<?, ?it/s]\u001b[A"
     ]
    },
    {
     "name": "stdout",
     "output_type": "stream",
     "text": [
      "Epoch: 3 Train loss: 69078.0961\n"
     ]
    },
    {
     "name": "stderr",
     "output_type": "stream",
     "text": [
      "\n",
      " 12%|█▎        | 1/8 [00:00<00:02,  2.35it/s]\u001b[A\n",
      " 25%|██▌       | 2/8 [00:00<00:02,  2.48it/s]\u001b[A\n",
      " 38%|███▊      | 3/8 [00:01<00:01,  2.57it/s]\u001b[A\n",
      " 50%|█████     | 4/8 [00:01<00:01,  2.65it/s]\u001b[A\n",
      " 62%|██████▎   | 5/8 [00:01<00:01,  2.70it/s]\u001b[A\n",
      " 75%|███████▌  | 6/8 [00:02<00:00,  2.74it/s]\u001b[A\n",
      " 88%|████████▊ | 7/8 [00:02<00:00,  2.85it/s]\u001b[A\n",
      "100%|██████████| 8/8 [00:02<00:00,  2.93it/s]\u001b[A"
     ]
    },
    {
     "name": "stdout",
     "output_type": "stream",
     "text": [
      "Test loss: 69059.5301\n"
     ]
    },
    {
     "name": "stderr",
     "output_type": "stream",
     "text": [
      "\n",
      "  0%|          | 0/8 [00:00<?, ?it/s]\u001b[A\n",
      " 12%|█▎        | 1/8 [00:00<00:03,  1.87it/s]\u001b[A\n",
      " 25%|██▌       | 2/8 [00:01<00:03,  1.93it/s]\u001b[A\n",
      " 38%|███▊      | 3/8 [00:01<00:02,  1.98it/s]\u001b[A\n",
      " 50%|█████     | 4/8 [00:01<00:01,  2.02it/s]\u001b[A\n",
      " 62%|██████▎   | 5/8 [00:02<00:01,  2.05it/s]\u001b[A\n",
      " 75%|███████▌  | 6/8 [00:02<00:00,  2.07it/s]\u001b[A\n",
      " 88%|████████▊ | 7/8 [00:03<00:00,  2.13it/s]\u001b[A\n",
      "100%|██████████| 8/8 [00:03<00:00,  2.18it/s]\u001b[A\n",
      "  0%|          | 0/8 [00:00<?, ?it/s]\u001b[A"
     ]
    },
    {
     "name": "stdout",
     "output_type": "stream",
     "text": [
      "Epoch: 4 Train loss: 68812.9876\n"
     ]
    },
    {
     "name": "stderr",
     "output_type": "stream",
     "text": [
      "\n",
      " 12%|█▎        | 1/8 [00:00<00:02,  2.38it/s]\u001b[A\n",
      " 25%|██▌       | 2/8 [00:00<00:02,  2.53it/s]\u001b[A\n",
      " 38%|███▊      | 3/8 [00:01<00:01,  2.61it/s]\u001b[A\n",
      " 50%|█████     | 4/8 [00:01<00:01,  2.67it/s]\u001b[A\n",
      " 62%|██████▎   | 5/8 [00:01<00:01,  2.77it/s]\u001b[A\n",
      " 75%|███████▌  | 6/8 [00:02<00:00,  2.82it/s]\u001b[A\n",
      " 88%|████████▊ | 7/8 [00:02<00:00,  2.91it/s]\u001b[A\n",
      "100%|██████████| 8/8 [00:02<00:00,  2.98it/s]\u001b[A"
     ]
    },
    {
     "name": "stdout",
     "output_type": "stream",
     "text": [
      "Test loss: 68812.2601\n"
     ]
    },
    {
     "name": "stderr",
     "output_type": "stream",
     "text": [
      "\n",
      "  0%|          | 0/8 [00:00<?, ?it/s]\u001b[A\n",
      " 12%|█▎        | 1/8 [00:00<00:03,  1.88it/s]\u001b[A\n",
      " 25%|██▌       | 2/8 [00:01<00:03,  1.95it/s]\u001b[A\n",
      " 38%|███▊      | 3/8 [00:01<00:02,  1.99it/s]\u001b[A\n",
      " 50%|█████     | 4/8 [00:01<00:01,  2.02it/s]\u001b[A\n",
      " 62%|██████▎   | 5/8 [00:02<00:01,  2.05it/s]\u001b[A\n",
      " 75%|███████▌  | 6/8 [00:02<00:00,  2.07it/s]\u001b[A\n",
      " 88%|████████▊ | 7/8 [00:03<00:00,  2.13it/s]\u001b[A\n",
      "100%|██████████| 8/8 [00:03<00:00,  2.17it/s]\u001b[A\n",
      "  0%|          | 0/8 [00:00<?, ?it/s]\u001b[A"
     ]
    },
    {
     "name": "stdout",
     "output_type": "stream",
     "text": [
      "Epoch: 5 Train loss: 68885.7502\n"
     ]
    },
    {
     "name": "stderr",
     "output_type": "stream",
     "text": [
      "\n",
      " 12%|█▎        | 1/8 [00:00<00:03,  2.27it/s]\u001b[A\n",
      " 25%|██▌       | 2/8 [00:00<00:02,  2.41it/s]\u001b[A\n",
      " 38%|███▊      | 3/8 [00:01<00:01,  2.55it/s]\u001b[A\n",
      " 50%|█████     | 4/8 [00:01<00:01,  2.63it/s]\u001b[A\n",
      " 62%|██████▎   | 5/8 [00:01<00:01,  2.68it/s]\u001b[A\n",
      " 75%|███████▌  | 6/8 [00:02<00:00,  2.73it/s]\u001b[A\n",
      " 88%|████████▊ | 7/8 [00:02<00:00,  2.83it/s]\u001b[A\n",
      "100%|██████████| 8/8 [00:02<00:00,  2.92it/s]\u001b[A"
     ]
    },
    {
     "name": "stdout",
     "output_type": "stream",
     "text": [
      "Test loss: 68966.1060\n"
     ]
    },
    {
     "name": "stderr",
     "output_type": "stream",
     "text": [
      "\n",
      "  0%|          | 0/8 [00:00<?, ?it/s]\u001b[A\n",
      " 12%|█▎        | 1/8 [00:00<00:03,  1.86it/s]\u001b[A\n",
      " 25%|██▌       | 2/8 [00:01<00:03,  1.93it/s]\u001b[A\n",
      " 38%|███▊      | 3/8 [00:01<00:02,  1.98it/s]\u001b[A\n",
      " 50%|█████     | 4/8 [00:01<00:01,  2.01it/s]\u001b[A\n",
      " 62%|██████▎   | 5/8 [00:02<00:01,  2.04it/s]\u001b[A\n",
      " 75%|███████▌  | 6/8 [00:02<00:00,  2.06it/s]\u001b[A\n",
      " 88%|████████▊ | 7/8 [00:03<00:00,  2.12it/s]\u001b[A\n",
      "100%|██████████| 8/8 [00:03<00:00,  2.17it/s]\u001b[A\n",
      "  0%|          | 0/8 [00:00<?, ?it/s]\u001b[A"
     ]
    },
    {
     "name": "stdout",
     "output_type": "stream",
     "text": [
      "Epoch: 6 Train loss: 69094.4307\n"
     ]
    },
    {
     "name": "stderr",
     "output_type": "stream",
     "text": [
      "\n",
      " 12%|█▎        | 1/8 [00:00<00:02,  2.38it/s]\u001b[A\n",
      " 25%|██▌       | 2/8 [00:00<00:02,  2.49it/s]\u001b[A\n",
      " 38%|███▊      | 3/8 [00:01<00:01,  2.58it/s]\u001b[A\n",
      " 50%|█████     | 4/8 [00:01<00:01,  2.63it/s]\u001b[A\n",
      " 62%|██████▎   | 5/8 [00:01<00:01,  2.69it/s]\u001b[A\n",
      " 75%|███████▌  | 6/8 [00:02<00:00,  2.73it/s]\u001b[A\n",
      " 88%|████████▊ | 7/8 [00:02<00:00,  2.84it/s]\u001b[A\n",
      "100%|██████████| 8/8 [00:02<00:00,  2.92it/s]\u001b[A"
     ]
    },
    {
     "name": "stdout",
     "output_type": "stream",
     "text": [
      "Test loss: 68693.4155\n"
     ]
    },
    {
     "name": "stderr",
     "output_type": "stream",
     "text": [
      "\n",
      "  0%|          | 0/8 [00:00<?, ?it/s]\u001b[A\n",
      " 12%|█▎        | 1/8 [00:00<00:03,  1.87it/s]\u001b[A\n",
      " 25%|██▌       | 2/8 [00:01<00:03,  1.93it/s]\u001b[A\n",
      " 38%|███▊      | 3/8 [00:01<00:02,  1.98it/s]\u001b[A\n",
      " 50%|█████     | 4/8 [00:01<00:01,  2.01it/s]\u001b[A\n",
      " 62%|██████▎   | 5/8 [00:02<00:01,  2.04it/s]\u001b[A\n",
      " 75%|███████▌  | 6/8 [00:02<00:00,  2.06it/s]\u001b[A\n",
      " 88%|████████▊ | 7/8 [00:03<00:00,  2.12it/s]\u001b[A\n",
      "100%|██████████| 8/8 [00:03<00:00,  2.17it/s]\u001b[A\n",
      "  0%|          | 0/8 [00:00<?, ?it/s]\u001b[A"
     ]
    },
    {
     "name": "stdout",
     "output_type": "stream",
     "text": [
      "Epoch: 7 Train loss: 68876.6856\n"
     ]
    },
    {
     "name": "stderr",
     "output_type": "stream",
     "text": [
      "\n",
      " 12%|█▎        | 1/8 [00:00<00:02,  2.38it/s]\u001b[A\n",
      " 25%|██▌       | 2/8 [00:00<00:02,  2.50it/s]\u001b[A\n",
      " 38%|███▊      | 3/8 [00:01<00:01,  2.59it/s]\u001b[A\n",
      " 50%|█████     | 4/8 [00:01<00:01,  2.66it/s]\u001b[A\n",
      " 62%|██████▎   | 5/8 [00:01<00:01,  2.70it/s]\u001b[A\n",
      " 75%|███████▌  | 6/8 [00:02<00:00,  2.74it/s]\u001b[A\n",
      " 88%|████████▊ | 7/8 [00:02<00:00,  2.85it/s]\u001b[A\n",
      "100%|██████████| 8/8 [00:02<00:00,  2.92it/s]\u001b[A"
     ]
    },
    {
     "name": "stdout",
     "output_type": "stream",
     "text": [
      "Test loss: 68819.4376\n"
     ]
    },
    {
     "name": "stderr",
     "output_type": "stream",
     "text": [
      "\n",
      "  0%|          | 0/8 [00:00<?, ?it/s]\u001b[A\n",
      " 12%|█▎        | 1/8 [00:00<00:03,  1.86it/s]\u001b[A\n",
      " 25%|██▌       | 2/8 [00:01<00:03,  1.92it/s]\u001b[A\n",
      " 38%|███▊      | 3/8 [00:01<00:02,  1.97it/s]\u001b[A\n",
      " 50%|█████     | 4/8 [00:01<00:01,  2.01it/s]\u001b[A\n",
      " 62%|██████▎   | 5/8 [00:02<00:01,  2.04it/s]\u001b[A\n",
      " 75%|███████▌  | 6/8 [00:02<00:00,  2.06it/s]\u001b[A\n",
      " 88%|████████▊ | 7/8 [00:03<00:00,  2.13it/s]\u001b[A\n",
      "100%|██████████| 8/8 [00:03<00:00,  2.17it/s]\u001b[A\n",
      "  0%|          | 0/8 [00:00<?, ?it/s]\u001b[A"
     ]
    },
    {
     "name": "stdout",
     "output_type": "stream",
     "text": [
      "Epoch: 8 Train loss: 68915.1344\n"
     ]
    },
    {
     "name": "stderr",
     "output_type": "stream",
     "text": [
      "\n",
      " 12%|█▎        | 1/8 [00:00<00:02,  2.40it/s]\u001b[A\n",
      " 25%|██▌       | 2/8 [00:00<00:02,  2.51it/s]\u001b[A\n",
      " 38%|███▊      | 3/8 [00:01<00:01,  2.60it/s]\u001b[A\n",
      " 50%|█████     | 4/8 [00:01<00:01,  2.63it/s]\u001b[A\n",
      " 62%|██████▎   | 5/8 [00:01<00:01,  2.68it/s]\u001b[A\n",
      " 75%|███████▌  | 6/8 [00:02<00:00,  2.73it/s]\u001b[A\n",
      " 88%|████████▊ | 7/8 [00:02<00:00,  2.83it/s]\u001b[A\n",
      "100%|██████████| 8/8 [00:02<00:00,  2.92it/s]\u001b[A"
     ]
    },
    {
     "name": "stdout",
     "output_type": "stream",
     "text": [
      "Test loss: 68790.0681\n"
     ]
    },
    {
     "name": "stderr",
     "output_type": "stream",
     "text": [
      "\n",
      "  0%|          | 0/8 [00:00<?, ?it/s]\u001b[A\n",
      " 12%|█▎        | 1/8 [00:00<00:03,  1.86it/s]\u001b[A\n",
      " 25%|██▌       | 2/8 [00:01<00:03,  1.90it/s]\u001b[A\n",
      " 38%|███▊      | 3/8 [00:01<00:02,  1.97it/s]\u001b[A\n",
      " 50%|█████     | 4/8 [00:01<00:02,  1.99it/s]\u001b[A\n",
      " 62%|██████▎   | 5/8 [00:02<00:01,  2.02it/s]\u001b[A\n",
      " 75%|███████▌  | 6/8 [00:02<00:00,  2.05it/s]\u001b[A\n",
      " 88%|████████▊ | 7/8 [00:03<00:00,  2.10it/s]\u001b[A\n",
      "100%|██████████| 8/8 [00:03<00:00,  2.15it/s]\u001b[A\n",
      "  0%|          | 0/8 [00:00<?, ?it/s]\u001b[A"
     ]
    },
    {
     "name": "stdout",
     "output_type": "stream",
     "text": [
      "Epoch: 9 Train loss: 68768.5361\n"
     ]
    },
    {
     "name": "stderr",
     "output_type": "stream",
     "text": [
      "\n",
      " 12%|█▎        | 1/8 [00:00<00:02,  2.41it/s]\u001b[A\n",
      " 25%|██▌       | 2/8 [00:00<00:02,  2.47it/s]\u001b[A\n",
      " 38%|███▊      | 3/8 [00:01<00:01,  2.57it/s]\u001b[A\n",
      " 50%|█████     | 4/8 [00:01<00:01,  2.64it/s]\u001b[A\n",
      " 62%|██████▎   | 5/8 [00:01<00:01,  2.69it/s]\u001b[A\n",
      " 75%|███████▌  | 6/8 [00:02<00:00,  2.72it/s]\u001b[A\n",
      " 88%|████████▊ | 7/8 [00:02<00:00,  2.84it/s]\u001b[A\n",
      "100%|██████████| 8/8 [00:02<00:00,  2.92it/s]\u001b[A"
     ]
    },
    {
     "name": "stdout",
     "output_type": "stream",
     "text": [
      "Test loss: 68859.4982\n"
     ]
    },
    {
     "name": "stderr",
     "output_type": "stream",
     "text": [
      "\n",
      "  0%|          | 0/8 [00:00<?, ?it/s]\u001b[A\n",
      " 12%|█▎        | 1/8 [00:00<00:04,  1.73it/s]\u001b[A\n",
      " 25%|██▌       | 2/8 [00:01<00:03,  1.83it/s]\u001b[A\n",
      " 38%|███▊      | 3/8 [00:01<00:02,  1.90it/s]\u001b[A\n",
      " 50%|█████     | 4/8 [00:02<00:02,  1.96it/s]\u001b[A\n",
      " 62%|██████▎   | 5/8 [00:02<00:01,  2.00it/s]\u001b[A\n",
      " 75%|███████▌  | 6/8 [00:02<00:00,  2.03it/s]\u001b[A\n",
      " 88%|████████▊ | 7/8 [00:03<00:00,  2.11it/s]\u001b[A\n",
      "100%|██████████| 8/8 [00:03<00:00,  2.16it/s]\u001b[A\n",
      "  0%|          | 0/8 [00:00<?, ?it/s]\u001b[A"
     ]
    },
    {
     "name": "stdout",
     "output_type": "stream",
     "text": [
      "Epoch: 10 Train loss: 68746.0690\n"
     ]
    },
    {
     "name": "stderr",
     "output_type": "stream",
     "text": [
      "\n",
      " 12%|█▎        | 1/8 [00:00<00:02,  2.37it/s]\u001b[A\n",
      " 25%|██▌       | 2/8 [00:00<00:02,  2.48it/s]\u001b[A\n",
      " 38%|███▊      | 3/8 [00:01<00:01,  2.58it/s]\u001b[A\n",
      " 50%|█████     | 4/8 [00:01<00:01,  2.64it/s]\u001b[A\n",
      " 62%|██████▎   | 5/8 [00:01<00:01,  2.70it/s]\u001b[A\n",
      " 75%|███████▌  | 6/8 [00:02<00:00,  2.73it/s]\u001b[A\n",
      " 88%|████████▊ | 7/8 [00:02<00:00,  2.84it/s]\u001b[A\n",
      "100%|██████████| 8/8 [00:02<00:00,  2.92it/s]\u001b[A"
     ]
    },
    {
     "name": "stdout",
     "output_type": "stream",
     "text": [
      "Test loss: 68761.5382\n"
     ]
    },
    {
     "name": "stderr",
     "output_type": "stream",
     "text": [
      "\n",
      "  0%|          | 0/8 [00:00<?, ?it/s]\u001b[A\n",
      " 12%|█▎        | 1/8 [00:00<00:03,  1.90it/s]\u001b[A\n",
      " 25%|██▌       | 2/8 [00:00<00:03,  1.97it/s]\u001b[A\n",
      " 38%|███▊      | 3/8 [00:01<00:02,  2.02it/s]\u001b[A\n",
      " 50%|█████     | 4/8 [00:01<00:01,  2.06it/s]\u001b[A\n",
      " 62%|██████▎   | 5/8 [00:02<00:01,  2.09it/s]\u001b[A\n",
      " 75%|███████▌  | 6/8 [00:02<00:00,  2.11it/s]\u001b[A\n",
      " 88%|████████▊ | 7/8 [00:03<00:00,  2.18it/s]\u001b[A\n",
      "100%|██████████| 8/8 [00:03<00:00,  2.23it/s]\u001b[A\n",
      "  0%|          | 0/8 [00:00<?, ?it/s]\u001b[A"
     ]
    },
    {
     "name": "stdout",
     "output_type": "stream",
     "text": [
      "Epoch: 11 Train loss: 68725.9226\n"
     ]
    },
    {
     "name": "stderr",
     "output_type": "stream",
     "text": [
      "\n",
      " 12%|█▎        | 1/8 [00:00<00:02,  2.38it/s]\u001b[A\n",
      " 25%|██▌       | 2/8 [00:00<00:02,  2.50it/s]\u001b[A\n",
      " 38%|███▊      | 3/8 [00:01<00:01,  2.58it/s]\u001b[A\n",
      " 50%|█████     | 4/8 [00:01<00:01,  2.66it/s]\u001b[A\n",
      " 62%|██████▎   | 5/8 [00:01<00:01,  2.71it/s]\u001b[A\n",
      " 75%|███████▌  | 6/8 [00:02<00:00,  2.75it/s]\u001b[A\n",
      " 88%|████████▊ | 7/8 [00:02<00:00,  2.86it/s]\u001b[A\n",
      "100%|██████████| 8/8 [00:02<00:00,  2.94it/s]\u001b[A"
     ]
    },
    {
     "name": "stdout",
     "output_type": "stream",
     "text": [
      "Test loss: 68704.3836\n"
     ]
    },
    {
     "name": "stderr",
     "output_type": "stream",
     "text": [
      "\n",
      "  0%|          | 0/8 [00:00<?, ?it/s]\u001b[A\n",
      " 12%|█▎        | 1/8 [00:00<00:03,  1.87it/s]\u001b[A\n",
      " 25%|██▌       | 2/8 [00:01<00:03,  1.93it/s]\u001b[A\n",
      " 38%|███▊      | 3/8 [00:01<00:02,  1.98it/s]\u001b[A\n",
      " 50%|█████     | 4/8 [00:01<00:01,  2.02it/s]\u001b[A\n",
      " 62%|██████▎   | 5/8 [00:02<00:01,  2.05it/s]\u001b[A\n",
      " 75%|███████▌  | 6/8 [00:02<00:00,  2.07it/s]\u001b[A\n",
      " 88%|████████▊ | 7/8 [00:03<00:00,  2.13it/s]\u001b[A\n",
      "100%|██████████| 8/8 [00:03<00:00,  2.18it/s]\u001b[A\n",
      "  0%|          | 0/8 [00:00<?, ?it/s]\u001b[A"
     ]
    },
    {
     "name": "stdout",
     "output_type": "stream",
     "text": [
      "Epoch: 12 Train loss: 68520.3405\n"
     ]
    },
    {
     "name": "stderr",
     "output_type": "stream",
     "text": [
      "\n",
      " 12%|█▎        | 1/8 [00:00<00:02,  2.36it/s]\u001b[A\n",
      " 25%|██▌       | 2/8 [00:00<00:02,  2.49it/s]\u001b[A\n",
      " 38%|███▊      | 3/8 [00:01<00:01,  2.58it/s]\u001b[A\n",
      " 50%|█████     | 4/8 [00:01<00:01,  2.65it/s]\u001b[A\n",
      " 62%|██████▎   | 5/8 [00:01<00:01,  2.71it/s]\u001b[A\n",
      " 75%|███████▌  | 6/8 [00:02<00:00,  2.74it/s]\u001b[A\n",
      " 88%|████████▊ | 7/8 [00:02<00:00,  2.84it/s]\u001b[A\n",
      "100%|██████████| 8/8 [00:02<00:00,  2.92it/s]\u001b[A"
     ]
    },
    {
     "name": "stdout",
     "output_type": "stream",
     "text": [
      "Test loss: 68681.9114\n"
     ]
    },
    {
     "name": "stderr",
     "output_type": "stream",
     "text": [
      "\n",
      "  0%|          | 0/8 [00:00<?, ?it/s]\u001b[A\n",
      " 12%|█▎        | 1/8 [00:00<00:03,  1.88it/s]\u001b[A\n",
      " 25%|██▌       | 2/8 [00:01<00:03,  1.94it/s]\u001b[A\n",
      " 38%|███▊      | 3/8 [00:01<00:02,  1.99it/s]\u001b[A\n",
      " 50%|█████     | 4/8 [00:01<00:01,  2.03it/s]\u001b[A\n",
      " 62%|██████▎   | 5/8 [00:02<00:01,  2.05it/s]\u001b[A\n",
      " 75%|███████▌  | 6/8 [00:02<00:00,  2.08it/s]\u001b[A\n",
      " 88%|████████▊ | 7/8 [00:03<00:00,  2.16it/s]\u001b[A\n",
      "100%|██████████| 8/8 [00:03<00:00,  2.21it/s]\u001b[A\n",
      "  0%|          | 0/8 [00:00<?, ?it/s]\u001b[A"
     ]
    },
    {
     "name": "stdout",
     "output_type": "stream",
     "text": [
      "Epoch: 13 Train loss: 68806.8782\n"
     ]
    },
    {
     "name": "stderr",
     "output_type": "stream",
     "text": [
      "\n",
      " 12%|█▎        | 1/8 [00:00<00:02,  2.35it/s]\u001b[A\n",
      " 25%|██▌       | 2/8 [00:00<00:02,  2.48it/s]\u001b[A\n",
      " 38%|███▊      | 3/8 [00:01<00:01,  2.58it/s]\u001b[A\n",
      " 50%|█████     | 4/8 [00:01<00:01,  2.65it/s]\u001b[A\n",
      " 62%|██████▎   | 5/8 [00:01<00:01,  2.71it/s]\u001b[A\n",
      " 75%|███████▌  | 6/8 [00:02<00:00,  2.75it/s]\u001b[A\n",
      " 88%|████████▊ | 7/8 [00:02<00:00,  2.86it/s]\u001b[A\n",
      "100%|██████████| 8/8 [00:02<00:00,  2.94it/s]\u001b[A"
     ]
    },
    {
     "name": "stdout",
     "output_type": "stream",
     "text": [
      "Test loss: 68666.8940\n"
     ]
    },
    {
     "name": "stderr",
     "output_type": "stream",
     "text": [
      "\n",
      "  0%|          | 0/8 [00:00<?, ?it/s]\u001b[A\n",
      " 12%|█▎        | 1/8 [00:00<00:03,  1.87it/s]\u001b[A\n",
      " 25%|██▌       | 2/8 [00:01<00:03,  1.94it/s]\u001b[A\n",
      " 38%|███▊      | 3/8 [00:01<00:02,  1.99it/s]\u001b[A\n",
      " 50%|█████     | 4/8 [00:01<00:01,  2.03it/s]\u001b[A\n",
      " 62%|██████▎   | 5/8 [00:02<00:01,  2.05it/s]\u001b[A\n",
      " 75%|███████▌  | 6/8 [00:02<00:00,  2.08it/s]\u001b[A\n",
      " 88%|████████▊ | 7/8 [00:03<00:00,  2.14it/s]\u001b[A\n",
      "100%|██████████| 8/8 [00:03<00:00,  2.19it/s]\u001b[A\n",
      "  0%|          | 0/8 [00:00<?, ?it/s]\u001b[A"
     ]
    },
    {
     "name": "stdout",
     "output_type": "stream",
     "text": [
      "Epoch: 14 Train loss: 68656.6079\n"
     ]
    },
    {
     "name": "stderr",
     "output_type": "stream",
     "text": [
      "\n",
      " 12%|█▎        | 1/8 [00:00<00:02,  2.39it/s]\u001b[A\n",
      " 25%|██▌       | 2/8 [00:00<00:02,  2.51it/s]\u001b[A\n",
      " 38%|███▊      | 3/8 [00:01<00:01,  2.60it/s]\u001b[A\n",
      " 50%|█████     | 4/8 [00:01<00:01,  2.67it/s]\u001b[A\n",
      " 62%|██████▎   | 5/8 [00:01<00:01,  2.72it/s]\u001b[A\n",
      " 75%|███████▌  | 6/8 [00:02<00:00,  2.76it/s]\u001b[A\n",
      " 88%|████████▊ | 7/8 [00:02<00:00,  2.87it/s]\u001b[A\n",
      "100%|██████████| 8/8 [00:02<00:00,  2.95it/s]\u001b[A"
     ]
    },
    {
     "name": "stdout",
     "output_type": "stream",
     "text": [
      "Test loss: 68864.6284\n"
     ]
    },
    {
     "name": "stderr",
     "output_type": "stream",
     "text": [
      "\n",
      "  0%|          | 0/8 [00:00<?, ?it/s]\u001b[A\n",
      " 12%|█▎        | 1/8 [00:00<00:03,  1.88it/s]\u001b[A\n",
      " 25%|██▌       | 2/8 [00:01<00:03,  1.94it/s]\u001b[A\n",
      " 38%|███▊      | 3/8 [00:01<00:02,  1.99it/s]\u001b[A\n",
      " 50%|█████     | 4/8 [00:01<00:01,  2.03it/s]\u001b[A\n",
      " 62%|██████▎   | 5/8 [00:02<00:01,  2.06it/s]\u001b[A\n",
      " 75%|███████▌  | 6/8 [00:02<00:00,  2.08it/s]\u001b[A\n",
      " 88%|████████▊ | 7/8 [00:03<00:00,  2.14it/s]\u001b[A\n",
      "100%|██████████| 8/8 [00:03<00:00,  2.19it/s]\u001b[A\n",
      "  0%|          | 0/8 [00:00<?, ?it/s]\u001b[A"
     ]
    },
    {
     "name": "stdout",
     "output_type": "stream",
     "text": [
      "Epoch: 15 Train loss: 68559.4514\n"
     ]
    },
    {
     "name": "stderr",
     "output_type": "stream",
     "text": [
      "\n",
      " 12%|█▎        | 1/8 [00:00<00:02,  2.38it/s]\u001b[A\n",
      " 25%|██▌       | 2/8 [00:00<00:02,  2.50it/s]\u001b[A\n",
      " 38%|███▊      | 3/8 [00:01<00:01,  2.59it/s]\u001b[A\n",
      " 50%|█████     | 4/8 [00:01<00:01,  2.66it/s]\u001b[A\n",
      " 62%|██████▎   | 5/8 [00:01<00:01,  2.71it/s]\u001b[A\n",
      " 75%|███████▌  | 6/8 [00:02<00:00,  2.75it/s]\u001b[A\n",
      " 88%|████████▊ | 7/8 [00:02<00:00,  2.86it/s]\u001b[A\n",
      "100%|██████████| 8/8 [00:02<00:00,  2.95it/s]\u001b[A"
     ]
    },
    {
     "name": "stdout",
     "output_type": "stream",
     "text": [
      "Test loss: 68621.4514\n"
     ]
    },
    {
     "name": "stderr",
     "output_type": "stream",
     "text": [
      "\n",
      "  0%|          | 0/8 [00:00<?, ?it/s]\u001b[A\n",
      " 12%|█▎        | 1/8 [00:00<00:03,  1.88it/s]\u001b[A\n",
      " 25%|██▌       | 2/8 [00:01<00:03,  1.94it/s]\u001b[A\n",
      " 38%|███▊      | 3/8 [00:01<00:02,  2.00it/s]\u001b[A\n",
      " 50%|█████     | 4/8 [00:01<00:01,  2.03it/s]\u001b[A\n",
      " 62%|██████▎   | 5/8 [00:02<00:01,  2.06it/s]\u001b[A\n",
      " 75%|███████▌  | 6/8 [00:02<00:00,  2.08it/s]\u001b[A\n",
      " 88%|████████▊ | 7/8 [00:03<00:00,  2.14it/s]\u001b[A\n",
      "100%|██████████| 8/8 [00:03<00:00,  2.18it/s]\u001b[A\n",
      "  0%|          | 0/8 [00:00<?, ?it/s]\u001b[A"
     ]
    },
    {
     "name": "stdout",
     "output_type": "stream",
     "text": [
      "Epoch: 16 Train loss: 68705.1483\n"
     ]
    },
    {
     "name": "stderr",
     "output_type": "stream",
     "text": [
      "\n",
      " 12%|█▎        | 1/8 [00:00<00:02,  2.40it/s]\u001b[A\n",
      " 25%|██▌       | 2/8 [00:00<00:02,  2.52it/s]\u001b[A\n",
      " 38%|███▊      | 3/8 [00:01<00:01,  2.60it/s]\u001b[A\n",
      " 50%|█████     | 4/8 [00:01<00:01,  2.67it/s]\u001b[A\n",
      " 62%|██████▎   | 5/8 [00:01<00:01,  2.72it/s]\u001b[A\n",
      " 75%|███████▌  | 6/8 [00:02<00:00,  2.76it/s]\u001b[A\n",
      " 88%|████████▊ | 7/8 [00:02<00:00,  2.86it/s]\u001b[A\n",
      "100%|██████████| 8/8 [00:02<00:00,  2.95it/s]\u001b[A"
     ]
    },
    {
     "name": "stdout",
     "output_type": "stream",
     "text": [
      "Test loss: 68654.5232\n"
     ]
    },
    {
     "name": "stderr",
     "output_type": "stream",
     "text": [
      "\n",
      "  0%|          | 0/8 [00:00<?, ?it/s]\u001b[A\n",
      " 12%|█▎        | 1/8 [00:00<00:03,  1.89it/s]\u001b[A\n",
      " 25%|██▌       | 2/8 [00:01<00:03,  1.95it/s]\u001b[A\n",
      " 38%|███▊      | 3/8 [00:01<00:02,  2.00it/s]\u001b[A\n",
      " 50%|█████     | 4/8 [00:01<00:01,  2.03it/s]\u001b[A\n",
      " 62%|██████▎   | 5/8 [00:02<00:01,  2.06it/s]\u001b[A\n",
      " 75%|███████▌  | 6/8 [00:02<00:00,  2.08it/s]\u001b[A\n",
      " 88%|████████▊ | 7/8 [00:03<00:00,  2.14it/s]\u001b[A\n",
      "100%|██████████| 8/8 [00:03<00:00,  2.18it/s]\u001b[A\n",
      "  0%|          | 0/8 [00:00<?, ?it/s]\u001b[A"
     ]
    },
    {
     "name": "stdout",
     "output_type": "stream",
     "text": [
      "Epoch: 17 Train loss: 68883.7151\n"
     ]
    },
    {
     "name": "stderr",
     "output_type": "stream",
     "text": [
      "\n",
      " 12%|█▎        | 1/8 [00:00<00:02,  2.38it/s]\u001b[A\n",
      " 25%|██▌       | 2/8 [00:00<00:02,  2.50it/s]\u001b[A\n",
      " 38%|███▊      | 3/8 [00:01<00:01,  2.59it/s]\u001b[A\n",
      " 50%|█████     | 4/8 [00:01<00:01,  2.66it/s]\u001b[A\n",
      " 62%|██████▎   | 5/8 [00:01<00:01,  2.71it/s]\u001b[A\n",
      " 75%|███████▌  | 6/8 [00:02<00:00,  2.75it/s]\u001b[A\n",
      " 88%|████████▊ | 7/8 [00:02<00:00,  2.87it/s]\u001b[A\n",
      "100%|██████████| 8/8 [00:02<00:00,  2.95it/s]\u001b[A"
     ]
    },
    {
     "name": "stdout",
     "output_type": "stream",
     "text": [
      "Test loss: 68759.6509\n"
     ]
    },
    {
     "name": "stderr",
     "output_type": "stream",
     "text": [
      "\n",
      "  0%|          | 0/8 [00:00<?, ?it/s]\u001b[A\n",
      " 12%|█▎        | 1/8 [00:00<00:03,  1.88it/s]\u001b[A\n",
      " 25%|██▌       | 2/8 [00:01<00:03,  1.95it/s]\u001b[A\n",
      " 38%|███▊      | 3/8 [00:01<00:02,  2.00it/s]\u001b[A\n",
      " 50%|█████     | 4/8 [00:01<00:01,  2.03it/s]\u001b[A\n",
      " 62%|██████▎   | 5/8 [00:02<00:01,  2.06it/s]\u001b[A\n",
      " 75%|███████▌  | 6/8 [00:02<00:00,  2.07it/s]\u001b[A\n",
      " 88%|████████▊ | 7/8 [00:03<00:00,  2.13it/s]\u001b[A\n",
      "100%|██████████| 8/8 [00:03<00:00,  2.16it/s]\u001b[A\n",
      "  0%|          | 0/8 [00:00<?, ?it/s]\u001b[A"
     ]
    },
    {
     "name": "stdout",
     "output_type": "stream",
     "text": [
      "Epoch: 18 Train loss: 68711.6520\n"
     ]
    },
    {
     "name": "stderr",
     "output_type": "stream",
     "text": [
      "\n",
      " 12%|█▎        | 1/8 [00:00<00:02,  2.41it/s]\u001b[A\n",
      " 25%|██▌       | 2/8 [00:00<00:02,  2.57it/s]\u001b[A\n",
      " 38%|███▊      | 3/8 [00:01<00:01,  2.69it/s]\u001b[A\n",
      " 50%|█████     | 4/8 [00:01<00:01,  2.81it/s]\u001b[A\n",
      " 62%|██████▎   | 5/8 [00:01<00:01,  2.82it/s]\u001b[A\n",
      " 75%|███████▌  | 6/8 [00:02<00:00,  2.82it/s]\u001b[A\n",
      " 88%|████████▊ | 7/8 [00:02<00:00,  2.90it/s]\u001b[A\n",
      "100%|██████████| 8/8 [00:02<00:00,  2.96it/s]\u001b[A"
     ]
    },
    {
     "name": "stdout",
     "output_type": "stream",
     "text": [
      "Test loss: 68689.1366\n"
     ]
    },
    {
     "name": "stderr",
     "output_type": "stream",
     "text": [
      "\n",
      "  0%|          | 0/8 [00:00<?, ?it/s]\u001b[A\n",
      " 12%|█▎        | 1/8 [00:00<00:04,  1.72it/s]\u001b[A\n",
      " 25%|██▌       | 2/8 [00:01<00:03,  1.82it/s]\u001b[A\n",
      " 38%|███▊      | 3/8 [00:01<00:02,  1.90it/s]\u001b[A\n",
      " 50%|█████     | 4/8 [00:02<00:02,  1.96it/s]\u001b[A\n",
      " 62%|██████▎   | 5/8 [00:02<00:01,  2.00it/s]\u001b[A\n",
      " 75%|███████▌  | 6/8 [00:02<00:00,  2.02it/s]\u001b[A\n",
      " 88%|████████▊ | 7/8 [00:03<00:00,  2.09it/s]\u001b[A\n",
      "100%|██████████| 8/8 [00:03<00:00,  2.13it/s]\u001b[A\n",
      "  0%|          | 0/8 [00:00<?, ?it/s]\u001b[A"
     ]
    },
    {
     "name": "stdout",
     "output_type": "stream",
     "text": [
      "Epoch: 19 Train loss: 68496.1868\n"
     ]
    },
    {
     "name": "stderr",
     "output_type": "stream",
     "text": [
      "\n",
      " 12%|█▎        | 1/8 [00:00<00:02,  2.37it/s]\u001b[A\n",
      " 25%|██▌       | 2/8 [00:00<00:02,  2.50it/s]\u001b[A\n",
      " 38%|███▊      | 3/8 [00:01<00:01,  2.59it/s]\u001b[A\n",
      " 50%|█████     | 4/8 [00:01<00:01,  2.66it/s]\u001b[A\n",
      " 62%|██████▎   | 5/8 [00:01<00:01,  2.70it/s]\u001b[A\n",
      " 75%|███████▌  | 6/8 [00:02<00:00,  2.75it/s]\u001b[A\n",
      " 88%|████████▊ | 7/8 [00:02<00:00,  2.85it/s]\u001b[A\n",
      "100%|██████████| 8/8 [00:02<00:00,  2.92it/s]\u001b[A"
     ]
    },
    {
     "name": "stdout",
     "output_type": "stream",
     "text": [
      "Test loss: 68735.4583\n"
     ]
    },
    {
     "name": "stderr",
     "output_type": "stream",
     "text": [
      "\n",
      "  0%|          | 0/8 [00:00<?, ?it/s]\u001b[A\n",
      " 12%|█▎        | 1/8 [00:00<00:03,  1.87it/s]\u001b[A\n",
      " 25%|██▌       | 2/8 [00:01<00:03,  1.93it/s]\u001b[A\n",
      " 38%|███▊      | 3/8 [00:01<00:02,  1.99it/s]\u001b[A\n",
      " 50%|█████     | 4/8 [00:01<00:01,  2.01it/s]\u001b[A\n",
      " 62%|██████▎   | 5/8 [00:02<00:01,  2.04it/s]\u001b[A\n",
      " 75%|███████▌  | 6/8 [00:02<00:00,  2.06it/s]\u001b[A\n",
      " 88%|████████▊ | 7/8 [00:03<00:00,  2.12it/s]\u001b[A\n",
      "100%|██████████| 8/8 [00:03<00:00,  2.17it/s]\u001b[A\n",
      "  0%|          | 0/8 [00:00<?, ?it/s]\u001b[A"
     ]
    },
    {
     "name": "stdout",
     "output_type": "stream",
     "text": [
      "Epoch: 20 Train loss: 68562.3159\n"
     ]
    },
    {
     "name": "stderr",
     "output_type": "stream",
     "text": [
      "\n",
      " 12%|█▎        | 1/8 [00:00<00:02,  2.40it/s]\u001b[A\n",
      " 25%|██▌       | 2/8 [00:00<00:02,  2.52it/s]\u001b[A\n",
      " 38%|███▊      | 3/8 [00:01<00:01,  2.61it/s]\u001b[A\n",
      " 50%|█████     | 4/8 [00:01<00:01,  2.67it/s]\u001b[A\n",
      " 62%|██████▎   | 5/8 [00:01<00:01,  2.72it/s]\u001b[A\n",
      " 75%|███████▌  | 6/8 [00:02<00:00,  2.75it/s]\u001b[A\n",
      " 88%|████████▊ | 7/8 [00:02<00:00,  2.86it/s]\u001b[A\n",
      "100%|██████████| 8/8 [00:02<00:00,  2.94it/s]\u001b[A"
     ]
    },
    {
     "name": "stdout",
     "output_type": "stream",
     "text": [
      "Test loss: 68814.5391\n"
     ]
    },
    {
     "name": "stderr",
     "output_type": "stream",
     "text": [
      "\n",
      "  0%|          | 0/8 [00:00<?, ?it/s]\u001b[A\n",
      " 12%|█▎        | 1/8 [00:00<00:03,  1.86it/s]\u001b[A\n",
      " 25%|██▌       | 2/8 [00:01<00:03,  1.93it/s]\u001b[A\n",
      " 38%|███▊      | 3/8 [00:01<00:02,  1.98it/s]\u001b[A\n",
      " 50%|█████     | 4/8 [00:01<00:01,  2.05it/s]\u001b[A\n",
      " 62%|██████▎   | 5/8 [00:02<00:01,  2.08it/s]\u001b[A\n",
      " 75%|███████▌  | 6/8 [00:02<00:00,  2.10it/s]\u001b[A\n",
      " 88%|████████▊ | 7/8 [00:03<00:00,  2.16it/s]\u001b[A\n",
      "100%|██████████| 8/8 [00:03<00:00,  2.19it/s]\u001b[A\n",
      "  0%|          | 0/8 [00:00<?, ?it/s]\u001b[A"
     ]
    },
    {
     "name": "stdout",
     "output_type": "stream",
     "text": [
      "Epoch: 21 Train loss: 68753.7349\n"
     ]
    },
    {
     "name": "stderr",
     "output_type": "stream",
     "text": [
      "\n",
      " 12%|█▎        | 1/8 [00:00<00:02,  2.38it/s]\u001b[A\n",
      " 25%|██▌       | 2/8 [00:00<00:02,  2.47it/s]\u001b[A\n",
      " 38%|███▊      | 3/8 [00:01<00:01,  2.55it/s]\u001b[A\n",
      " 50%|█████     | 4/8 [00:01<00:01,  2.60it/s]\u001b[A\n",
      " 62%|██████▎   | 5/8 [00:01<00:01,  2.69it/s]\u001b[A\n",
      " 75%|███████▌  | 6/8 [00:02<00:00,  2.73it/s]\u001b[A\n",
      " 88%|████████▊ | 7/8 [00:02<00:00,  2.84it/s]\u001b[A\n",
      "100%|██████████| 8/8 [00:02<00:00,  2.93it/s]\u001b[A"
     ]
    },
    {
     "name": "stdout",
     "output_type": "stream",
     "text": [
      "Test loss: 68744.7620\n"
     ]
    },
    {
     "name": "stderr",
     "output_type": "stream",
     "text": [
      "\n",
      "  0%|          | 0/8 [00:00<?, ?it/s]\u001b[A\n",
      " 12%|█▎        | 1/8 [00:00<00:03,  1.86it/s]\u001b[A\n",
      " 25%|██▌       | 2/8 [00:01<00:03,  1.92it/s]\u001b[A\n",
      " 38%|███▊      | 3/8 [00:01<00:02,  1.98it/s]\u001b[A\n",
      " 50%|█████     | 4/8 [00:01<00:01,  2.02it/s]\u001b[A\n",
      " 62%|██████▎   | 5/8 [00:02<00:01,  2.05it/s]\u001b[A\n",
      " 75%|███████▌  | 6/8 [00:02<00:00,  2.07it/s]\u001b[A\n",
      " 88%|████████▊ | 7/8 [00:03<00:00,  2.13it/s]\u001b[A\n",
      "100%|██████████| 8/8 [00:03<00:00,  2.18it/s]\u001b[A\n",
      "  0%|          | 0/8 [00:00<?, ?it/s]\u001b[A"
     ]
    },
    {
     "name": "stdout",
     "output_type": "stream",
     "text": [
      "Epoch: 22 Train loss: 68431.2112\n"
     ]
    },
    {
     "name": "stderr",
     "output_type": "stream",
     "text": [
      "\n",
      " 12%|█▎        | 1/8 [00:00<00:02,  2.43it/s]\u001b[A\n",
      " 25%|██▌       | 2/8 [00:00<00:02,  2.59it/s]\u001b[A\n",
      " 38%|███▊      | 3/8 [00:01<00:01,  2.72it/s]\u001b[A\n",
      " 50%|█████     | 4/8 [00:01<00:01,  2.82it/s]\u001b[A\n",
      " 62%|██████▎   | 5/8 [00:01<00:01,  2.81it/s]\u001b[A\n",
      " 75%|███████▌  | 6/8 [00:02<00:00,  2.85it/s]\u001b[A\n",
      " 88%|████████▊ | 7/8 [00:02<00:00,  2.93it/s]\u001b[A\n",
      "100%|██████████| 8/8 [00:02<00:00,  2.98it/s]\u001b[A"
     ]
    },
    {
     "name": "stdout",
     "output_type": "stream",
     "text": [
      "Test loss: 68579.6876\n"
     ]
    },
    {
     "name": "stderr",
     "output_type": "stream",
     "text": [
      "\n",
      "  0%|          | 0/8 [00:00<?, ?it/s]\u001b[A\n",
      " 12%|█▎        | 1/8 [00:00<00:03,  1.86it/s]\u001b[A\n",
      " 25%|██▌       | 2/8 [00:01<00:03,  1.93it/s]\u001b[A\n",
      " 38%|███▊      | 3/8 [00:01<00:02,  1.98it/s]\u001b[A\n",
      " 50%|█████     | 4/8 [00:01<00:01,  2.02it/s]\u001b[A\n",
      " 62%|██████▎   | 5/8 [00:02<00:01,  2.05it/s]\u001b[A\n",
      " 75%|███████▌  | 6/8 [00:02<00:00,  2.07it/s]\u001b[A\n",
      " 88%|████████▊ | 7/8 [00:03<00:00,  2.14it/s]\u001b[A\n",
      "100%|██████████| 8/8 [00:03<00:00,  2.18it/s]\u001b[A\n",
      "  0%|          | 0/8 [00:00<?, ?it/s]\u001b[A"
     ]
    },
    {
     "name": "stdout",
     "output_type": "stream",
     "text": [
      "Epoch: 23 Train loss: 68644.7149\n"
     ]
    },
    {
     "name": "stderr",
     "output_type": "stream",
     "text": [
      "\n",
      " 12%|█▎        | 1/8 [00:00<00:03,  2.31it/s]\u001b[A\n",
      " 25%|██▌       | 2/8 [00:00<00:02,  2.45it/s]\u001b[A\n",
      " 38%|███▊      | 3/8 [00:01<00:01,  2.56it/s]\u001b[A\n",
      " 50%|█████     | 4/8 [00:01<00:01,  2.64it/s]\u001b[A\n",
      " 62%|██████▎   | 5/8 [00:01<00:01,  2.70it/s]\u001b[A\n",
      " 75%|███████▌  | 6/8 [00:02<00:00,  2.74it/s]\u001b[A\n",
      " 88%|████████▊ | 7/8 [00:02<00:00,  2.86it/s]\u001b[A\n",
      "100%|██████████| 8/8 [00:02<00:00,  2.94it/s]\u001b[A"
     ]
    },
    {
     "name": "stdout",
     "output_type": "stream",
     "text": [
      "Test loss: 68475.1291\n"
     ]
    },
    {
     "name": "stderr",
     "output_type": "stream",
     "text": [
      "\n",
      "  0%|          | 0/8 [00:00<?, ?it/s]\u001b[A\n",
      " 12%|█▎        | 1/8 [00:00<00:03,  1.86it/s]\u001b[A\n",
      " 25%|██▌       | 2/8 [00:01<00:03,  1.93it/s]\u001b[A\n",
      " 38%|███▊      | 3/8 [00:01<00:02,  1.98it/s]\u001b[A\n",
      " 50%|█████     | 4/8 [00:01<00:01,  2.01it/s]\u001b[A\n",
      " 62%|██████▎   | 5/8 [00:02<00:01,  2.03it/s]\u001b[A\n",
      " 75%|███████▌  | 6/8 [00:02<00:00,  2.06it/s]\u001b[A\n",
      " 88%|████████▊ | 7/8 [00:03<00:00,  2.12it/s]\u001b[A\n",
      "100%|██████████| 8/8 [00:03<00:00,  2.16it/s]\u001b[A\n",
      "  0%|          | 0/8 [00:00<?, ?it/s]\u001b[A"
     ]
    },
    {
     "name": "stdout",
     "output_type": "stream",
     "text": [
      "Epoch: 24 Train loss: 68698.7785\n"
     ]
    },
    {
     "name": "stderr",
     "output_type": "stream",
     "text": [
      "\n",
      " 12%|█▎        | 1/8 [00:00<00:02,  2.37it/s]\u001b[A\n",
      " 25%|██▌       | 2/8 [00:00<00:02,  2.49it/s]\u001b[A\n",
      " 38%|███▊      | 3/8 [00:01<00:01,  2.58it/s]\u001b[A\n",
      " 50%|█████     | 4/8 [00:01<00:01,  2.65it/s]\u001b[A\n",
      " 62%|██████▎   | 5/8 [00:01<00:01,  2.71it/s]\u001b[A\n",
      " 75%|███████▌  | 6/8 [00:02<00:00,  2.75it/s]\u001b[A\n",
      " 88%|████████▊ | 7/8 [00:02<00:00,  2.86it/s]\u001b[A\n",
      "100%|██████████| 8/8 [00:02<00:00,  2.95it/s]\u001b[A"
     ]
    },
    {
     "name": "stdout",
     "output_type": "stream",
     "text": [
      "Test loss: 68656.3414\n"
     ]
    },
    {
     "name": "stderr",
     "output_type": "stream",
     "text": [
      "\n",
      "  0%|          | 0/8 [00:00<?, ?it/s]\u001b[A\n",
      " 12%|█▎        | 1/8 [00:00<00:03,  1.88it/s]\u001b[A\n",
      " 25%|██▌       | 2/8 [00:01<00:03,  1.95it/s]\u001b[A\n",
      " 38%|███▊      | 3/8 [00:01<00:02,  2.00it/s]\u001b[A\n",
      " 50%|█████     | 4/8 [00:01<00:01,  2.04it/s]\u001b[A\n",
      " 62%|██████▎   | 5/8 [00:02<00:01,  2.06it/s]\u001b[A\n",
      " 75%|███████▌  | 6/8 [00:02<00:00,  2.08it/s]\u001b[A\n",
      " 88%|████████▊ | 7/8 [00:03<00:00,  2.14it/s]\u001b[A\n",
      "100%|██████████| 8/8 [00:03<00:00,  2.19it/s]\u001b[A\n",
      "  0%|          | 0/8 [00:00<?, ?it/s]\u001b[A"
     ]
    },
    {
     "name": "stdout",
     "output_type": "stream",
     "text": [
      "Epoch: 25 Train loss: 68383.3537\n"
     ]
    },
    {
     "name": "stderr",
     "output_type": "stream",
     "text": [
      "\n",
      " 12%|█▎        | 1/8 [00:00<00:03,  2.30it/s]\u001b[A\n",
      " 25%|██▌       | 2/8 [00:00<00:02,  2.45it/s]\u001b[A\n",
      " 38%|███▊      | 3/8 [00:01<00:01,  2.56it/s]\u001b[A\n",
      " 50%|█████     | 4/8 [00:01<00:01,  2.64it/s]\u001b[A\n",
      " 62%|██████▎   | 5/8 [00:01<00:01,  2.70it/s]\u001b[A\n",
      " 75%|███████▌  | 6/8 [00:02<00:00,  2.74it/s]\u001b[A\n",
      " 88%|████████▊ | 7/8 [00:02<00:00,  2.84it/s]\u001b[A\n",
      "100%|██████████| 8/8 [00:02<00:00,  2.92it/s]\u001b[A"
     ]
    },
    {
     "name": "stdout",
     "output_type": "stream",
     "text": [
      "Test loss: 68547.5494\n"
     ]
    },
    {
     "name": "stderr",
     "output_type": "stream",
     "text": [
      "\n",
      "  0%|          | 0/8 [00:00<?, ?it/s]\u001b[A\n",
      " 12%|█▎        | 1/8 [00:00<00:03,  1.90it/s]\u001b[A\n",
      " 25%|██▌       | 2/8 [00:00<00:03,  1.96it/s]\u001b[A\n",
      " 38%|███▊      | 3/8 [00:01<00:02,  1.99it/s]\u001b[A\n",
      " 50%|█████     | 4/8 [00:01<00:01,  2.03it/s]\u001b[A\n",
      " 62%|██████▎   | 5/8 [00:02<00:01,  2.10it/s]\u001b[A\n",
      " 75%|███████▌  | 6/8 [00:02<00:00,  2.12it/s]\u001b[A\n",
      " 88%|████████▊ | 7/8 [00:03<00:00,  2.17it/s]\u001b[A\n",
      "100%|██████████| 8/8 [00:03<00:00,  2.21it/s]\u001b[A\n",
      "  0%|          | 0/8 [00:00<?, ?it/s]\u001b[A"
     ]
    },
    {
     "name": "stdout",
     "output_type": "stream",
     "text": [
      "Epoch: 26 Train loss: 68743.0734\n"
     ]
    },
    {
     "name": "stderr",
     "output_type": "stream",
     "text": [
      "\n",
      " 12%|█▎        | 1/8 [00:00<00:03,  2.30it/s]\u001b[A\n",
      " 25%|██▌       | 2/8 [00:00<00:02,  2.44it/s]\u001b[A\n",
      " 38%|███▊      | 3/8 [00:01<00:01,  2.54it/s]\u001b[A\n",
      " 50%|█████     | 4/8 [00:01<00:01,  2.63it/s]\u001b[A\n",
      " 62%|██████▎   | 5/8 [00:01<00:01,  2.67it/s]\u001b[A\n",
      " 75%|███████▌  | 6/8 [00:02<00:00,  2.72it/s]\u001b[A\n",
      " 88%|████████▊ | 7/8 [00:02<00:00,  2.83it/s]\u001b[A\n",
      "100%|██████████| 8/8 [00:02<00:00,  2.92it/s]\u001b[A"
     ]
    },
    {
     "name": "stdout",
     "output_type": "stream",
     "text": [
      "Test loss: 68546.8412\n"
     ]
    },
    {
     "name": "stderr",
     "output_type": "stream",
     "text": [
      "\n",
      "  0%|          | 0/8 [00:00<?, ?it/s]\u001b[A\n",
      " 12%|█▎        | 1/8 [00:00<00:03,  1.88it/s]\u001b[A\n",
      " 25%|██▌       | 2/8 [00:01<00:03,  1.94it/s]\u001b[A\n",
      " 38%|███▊      | 3/8 [00:01<00:02,  1.99it/s]\u001b[A\n",
      " 50%|█████     | 4/8 [00:01<00:01,  2.03it/s]\u001b[A\n",
      " 62%|██████▎   | 5/8 [00:02<00:01,  2.06it/s]\u001b[A\n",
      " 75%|███████▌  | 6/8 [00:02<00:00,  2.08it/s]\u001b[A\n",
      " 88%|████████▊ | 7/8 [00:03<00:00,  2.14it/s]\u001b[A\n",
      "100%|██████████| 8/8 [00:03<00:00,  2.19it/s]\u001b[A\n",
      "  0%|          | 0/8 [00:00<?, ?it/s]\u001b[A"
     ]
    },
    {
     "name": "stdout",
     "output_type": "stream",
     "text": [
      "Epoch: 27 Train loss: 68569.8384\n"
     ]
    },
    {
     "name": "stderr",
     "output_type": "stream",
     "text": [
      "\n",
      " 12%|█▎        | 1/8 [00:00<00:02,  2.39it/s]\u001b[A\n",
      " 25%|██▌       | 2/8 [00:00<00:02,  2.51it/s]\u001b[A\n",
      " 38%|███▊      | 3/8 [00:01<00:01,  2.59it/s]\u001b[A\n",
      " 50%|█████     | 4/8 [00:01<00:01,  2.66it/s]\u001b[A\n",
      " 62%|██████▎   | 5/8 [00:01<00:01,  2.69it/s]\u001b[A\n",
      " 75%|███████▌  | 6/8 [00:02<00:00,  2.73it/s]\u001b[A\n",
      " 88%|████████▊ | 7/8 [00:02<00:00,  2.85it/s]\u001b[A\n",
      "100%|██████████| 8/8 [00:02<00:00,  2.94it/s]\u001b[A"
     ]
    },
    {
     "name": "stdout",
     "output_type": "stream",
     "text": [
      "Test loss: 68592.2633\n"
     ]
    },
    {
     "name": "stderr",
     "output_type": "stream",
     "text": [
      "\n",
      "  0%|          | 0/8 [00:00<?, ?it/s]\u001b[A\n",
      " 12%|█▎        | 1/8 [00:00<00:03,  1.89it/s]\u001b[A\n",
      " 25%|██▌       | 2/8 [00:01<00:03,  1.95it/s]\u001b[A\n",
      " 38%|███▊      | 3/8 [00:01<00:02,  1.98it/s]\u001b[A\n",
      " 50%|█████     | 4/8 [00:01<00:01,  2.03it/s]\u001b[A\n",
      " 62%|██████▎   | 5/8 [00:02<00:01,  2.06it/s]\u001b[A\n",
      " 75%|███████▌  | 6/8 [00:02<00:00,  2.07it/s]\u001b[A\n",
      " 88%|████████▊ | 7/8 [00:03<00:00,  2.12it/s]\u001b[A\n",
      "100%|██████████| 8/8 [00:03<00:00,  2.17it/s]\u001b[A\n",
      "  0%|          | 0/8 [00:00<?, ?it/s]\u001b[A"
     ]
    },
    {
     "name": "stdout",
     "output_type": "stream",
     "text": [
      "Epoch: 28 Train loss: 68619.8245\n"
     ]
    },
    {
     "name": "stderr",
     "output_type": "stream",
     "text": [
      "\n",
      " 12%|█▎        | 1/8 [00:00<00:02,  2.38it/s]\u001b[A\n",
      " 25%|██▌       | 2/8 [00:00<00:02,  2.50it/s]\u001b[A\n",
      " 38%|███▊      | 3/8 [00:01<00:01,  2.60it/s]\u001b[A\n",
      " 50%|█████     | 4/8 [00:01<00:01,  2.66it/s]\u001b[A\n",
      " 62%|██████▎   | 5/8 [00:01<00:01,  2.71it/s]\u001b[A\n",
      " 75%|███████▌  | 6/8 [00:02<00:00,  2.74it/s]\u001b[A\n",
      " 88%|████████▊ | 7/8 [00:02<00:00,  2.85it/s]\u001b[A\n",
      "100%|██████████| 8/8 [00:02<00:00,  2.94it/s]\u001b[A"
     ]
    },
    {
     "name": "stdout",
     "output_type": "stream",
     "text": [
      "Test loss: 68352.4812\n"
     ]
    },
    {
     "name": "stderr",
     "output_type": "stream",
     "text": [
      "\n",
      "  0%|          | 0/8 [00:00<?, ?it/s]\u001b[A\n",
      " 12%|█▎        | 1/8 [00:00<00:03,  1.95it/s]\u001b[A\n",
      " 25%|██▌       | 2/8 [00:00<00:03,  1.98it/s]\u001b[A\n",
      " 38%|███▊      | 3/8 [00:01<00:02,  2.05it/s]\u001b[A\n",
      " 50%|█████     | 4/8 [00:01<00:01,  2.07it/s]\u001b[A\n",
      " 62%|██████▎   | 5/8 [00:02<00:01,  2.09it/s]\u001b[A\n",
      " 75%|███████▌  | 6/8 [00:02<00:00,  2.10it/s]\u001b[A\n",
      " 88%|████████▊ | 7/8 [00:03<00:00,  2.15it/s]\u001b[A\n",
      "100%|██████████| 8/8 [00:03<00:00,  2.19it/s]\u001b[A\n",
      "  0%|          | 0/8 [00:00<?, ?it/s]\u001b[A"
     ]
    },
    {
     "name": "stdout",
     "output_type": "stream",
     "text": [
      "Epoch: 29 Train loss: 68532.4081\n"
     ]
    },
    {
     "name": "stderr",
     "output_type": "stream",
     "text": [
      "\n",
      " 12%|█▎        | 1/8 [00:00<00:03,  2.33it/s]\u001b[A\n",
      " 25%|██▌       | 2/8 [00:00<00:02,  2.46it/s]\u001b[A\n",
      " 38%|███▊      | 3/8 [00:01<00:01,  2.56it/s]\u001b[A\n",
      " 50%|█████     | 4/8 [00:01<00:01,  2.62it/s]\u001b[A\n",
      " 62%|██████▎   | 5/8 [00:01<00:01,  2.68it/s]\u001b[A\n",
      " 75%|███████▌  | 6/8 [00:02<00:00,  2.72it/s]\u001b[A\n",
      " 88%|████████▊ | 7/8 [00:02<00:00,  2.84it/s]\u001b[A\n",
      "100%|██████████| 8/8 [00:02<00:00,  2.92it/s]\u001b[A"
     ]
    },
    {
     "name": "stdout",
     "output_type": "stream",
     "text": [
      "Test loss: 68434.2170\n"
     ]
    },
    {
     "name": "stderr",
     "output_type": "stream",
     "text": [
      "\n",
      "  0%|          | 0/8 [00:00<?, ?it/s]\u001b[A\n",
      " 12%|█▎        | 1/8 [00:00<00:03,  1.86it/s]\u001b[A\n",
      " 25%|██▌       | 2/8 [00:01<00:03,  1.93it/s]\u001b[A\n",
      " 38%|███▊      | 3/8 [00:01<00:02,  1.98it/s]\u001b[A\n",
      " 50%|█████     | 4/8 [00:01<00:01,  2.02it/s]\u001b[A\n",
      " 62%|██████▎   | 5/8 [00:02<00:01,  2.04it/s]\u001b[A\n",
      " 75%|███████▌  | 6/8 [00:02<00:00,  2.06it/s]\u001b[A\n",
      " 88%|████████▊ | 7/8 [00:03<00:00,  2.12it/s]\u001b[A\n",
      "100%|██████████| 8/8 [00:03<00:00,  2.17it/s]\u001b[A\n",
      "  0%|          | 0/8 [00:00<?, ?it/s]\u001b[A"
     ]
    },
    {
     "name": "stdout",
     "output_type": "stream",
     "text": [
      "Epoch: 30 Train loss: 68538.5258\n"
     ]
    },
    {
     "name": "stderr",
     "output_type": "stream",
     "text": [
      "\n",
      " 12%|█▎        | 1/8 [00:00<00:03,  2.32it/s]\u001b[A\n",
      " 25%|██▌       | 2/8 [00:00<00:02,  2.46it/s]\u001b[A\n",
      " 38%|███▊      | 3/8 [00:01<00:01,  2.56it/s]\u001b[A\n",
      " 50%|█████     | 4/8 [00:01<00:01,  2.63it/s]\u001b[A\n",
      " 62%|██████▎   | 5/8 [00:01<00:01,  2.69it/s]\u001b[A\n",
      " 75%|███████▌  | 6/8 [00:02<00:00,  2.73it/s]\u001b[A\n",
      " 88%|████████▊ | 7/8 [00:02<00:00,  2.84it/s]\u001b[A\n",
      "100%|██████████| 8/8 [00:02<00:00,  2.93it/s]\u001b[A"
     ]
    },
    {
     "name": "stdout",
     "output_type": "stream",
     "text": [
      "Test loss: 68414.6628\n"
     ]
    },
    {
     "name": "stderr",
     "output_type": "stream",
     "text": [
      "\n",
      "  0%|          | 0/8 [00:00<?, ?it/s]\u001b[A\n",
      " 12%|█▎        | 1/8 [00:00<00:03,  1.89it/s]\u001b[A\n",
      " 25%|██▌       | 2/8 [00:01<00:03,  1.95it/s]\u001b[A\n",
      " 38%|███▊      | 3/8 [00:01<00:02,  2.00it/s]\u001b[A\n",
      " 50%|█████     | 4/8 [00:01<00:01,  2.03it/s]\u001b[A\n",
      " 62%|██████▎   | 5/8 [00:02<00:01,  2.06it/s]\u001b[A\n",
      " 75%|███████▌  | 6/8 [00:02<00:00,  2.08it/s]\u001b[A\n",
      " 88%|████████▊ | 7/8 [00:03<00:00,  2.14it/s]\u001b[A\n",
      "100%|██████████| 8/8 [00:03<00:00,  2.19it/s]\u001b[A\n",
      "  0%|          | 0/8 [00:00<?, ?it/s]\u001b[A"
     ]
    },
    {
     "name": "stdout",
     "output_type": "stream",
     "text": [
      "Epoch: 31 Train loss: 68592.7769\n"
     ]
    },
    {
     "name": "stderr",
     "output_type": "stream",
     "text": [
      "\n",
      " 12%|█▎        | 1/8 [00:00<00:02,  2.37it/s]\u001b[A\n",
      " 25%|██▌       | 2/8 [00:00<00:02,  2.49it/s]\u001b[A\n",
      " 38%|███▊      | 3/8 [00:01<00:01,  2.58it/s]\u001b[A\n",
      " 50%|█████     | 4/8 [00:01<00:01,  2.66it/s]\u001b[A\n",
      " 62%|██████▎   | 5/8 [00:01<00:01,  2.71it/s]\u001b[A\n",
      " 75%|███████▌  | 6/8 [00:02<00:00,  2.75it/s]\u001b[A\n",
      " 88%|████████▊ | 7/8 [00:02<00:00,  2.86it/s]\u001b[A\n",
      "100%|██████████| 8/8 [00:02<00:00,  2.93it/s]\u001b[A"
     ]
    },
    {
     "name": "stdout",
     "output_type": "stream",
     "text": [
      "Test loss: 68444.8711\n"
     ]
    },
    {
     "name": "stderr",
     "output_type": "stream",
     "text": [
      "\n",
      "  0%|          | 0/8 [00:00<?, ?it/s]\u001b[A\n",
      " 12%|█▎        | 1/8 [00:00<00:03,  1.88it/s]\u001b[A\n",
      " 25%|██▌       | 2/8 [00:01<00:03,  1.95it/s]\u001b[A\n",
      " 38%|███▊      | 3/8 [00:01<00:02,  2.00it/s]\u001b[A\n",
      " 50%|█████     | 4/8 [00:01<00:01,  2.03it/s]\u001b[A\n",
      " 62%|██████▎   | 5/8 [00:02<00:01,  2.06it/s]\u001b[A\n",
      " 75%|███████▌  | 6/8 [00:02<00:00,  2.07it/s]\u001b[A\n",
      " 88%|████████▊ | 7/8 [00:03<00:00,  2.13it/s]\u001b[A\n",
      "100%|██████████| 8/8 [00:03<00:00,  2.18it/s]\u001b[A\n",
      "  0%|          | 0/8 [00:00<?, ?it/s]\u001b[A"
     ]
    },
    {
     "name": "stdout",
     "output_type": "stream",
     "text": [
      "Epoch: 32 Train loss: 68730.3876\n"
     ]
    },
    {
     "name": "stderr",
     "output_type": "stream",
     "text": [
      "\n",
      " 12%|█▎        | 1/8 [00:00<00:03,  2.26it/s]\u001b[A\n",
      " 25%|██▌       | 2/8 [00:00<00:02,  2.39it/s]\u001b[A\n",
      " 38%|███▊      | 3/8 [00:01<00:01,  2.50it/s]\u001b[A\n",
      " 50%|█████     | 4/8 [00:01<00:01,  2.58it/s]\u001b[A\n",
      " 62%|██████▎   | 5/8 [00:01<00:01,  2.65it/s]\u001b[A\n",
      " 75%|███████▌  | 6/8 [00:02<00:00,  2.69it/s]\u001b[A\n",
      " 88%|████████▊ | 7/8 [00:02<00:00,  2.79it/s]\u001b[A\n",
      "100%|██████████| 8/8 [00:02<00:00,  2.87it/s]\u001b[A"
     ]
    },
    {
     "name": "stdout",
     "output_type": "stream",
     "text": [
      "Test loss: 68513.7861\n"
     ]
    },
    {
     "name": "stderr",
     "output_type": "stream",
     "text": [
      "\n",
      "  0%|          | 0/8 [00:00<?, ?it/s]\u001b[A\n",
      " 12%|█▎        | 1/8 [00:00<00:03,  1.87it/s]\u001b[A\n",
      " 25%|██▌       | 2/8 [00:01<00:03,  1.93it/s]\u001b[A\n",
      " 38%|███▊      | 3/8 [00:01<00:02,  1.99it/s]\u001b[A\n",
      " 50%|█████     | 4/8 [00:01<00:01,  2.02it/s]\u001b[A\n",
      " 62%|██████▎   | 5/8 [00:02<00:01,  2.05it/s]\u001b[A\n",
      " 75%|███████▌  | 6/8 [00:02<00:00,  2.07it/s]\u001b[A\n",
      " 88%|████████▊ | 7/8 [00:03<00:00,  2.13it/s]\u001b[A\n",
      "100%|██████████| 8/8 [00:03<00:00,  2.17it/s]\u001b[A\n",
      "  0%|          | 0/8 [00:00<?, ?it/s]\u001b[A"
     ]
    },
    {
     "name": "stdout",
     "output_type": "stream",
     "text": [
      "Epoch: 33 Train loss: 68716.6266\n"
     ]
    },
    {
     "name": "stderr",
     "output_type": "stream",
     "text": [
      "\n",
      " 12%|█▎        | 1/8 [00:00<00:02,  2.40it/s]\u001b[A\n",
      " 25%|██▌       | 2/8 [00:00<00:02,  2.51it/s]\u001b[A\n",
      " 38%|███▊      | 3/8 [00:01<00:01,  2.60it/s]\u001b[A\n",
      " 50%|█████     | 4/8 [00:01<00:01,  2.66it/s]\u001b[A\n",
      " 62%|██████▎   | 5/8 [00:01<00:01,  2.71it/s]\u001b[A\n",
      " 75%|███████▌  | 6/8 [00:02<00:00,  2.75it/s]\u001b[A\n",
      " 88%|████████▊ | 7/8 [00:02<00:00,  2.85it/s]\u001b[A\n",
      "100%|██████████| 8/8 [00:02<00:00,  2.93it/s]\u001b[A"
     ]
    },
    {
     "name": "stdout",
     "output_type": "stream",
     "text": [
      "Test loss: 68716.4264\n"
     ]
    },
    {
     "name": "stderr",
     "output_type": "stream",
     "text": [
      "\n",
      "  0%|          | 0/8 [00:00<?, ?it/s]\u001b[A\n",
      " 12%|█▎        | 1/8 [00:00<00:03,  1.88it/s]\u001b[A\n",
      " 25%|██▌       | 2/8 [00:01<00:03,  1.94it/s]\u001b[A\n",
      " 38%|███▊      | 3/8 [00:01<00:02,  1.99it/s]\u001b[A\n",
      " 50%|█████     | 4/8 [00:01<00:01,  2.03it/s]\u001b[A\n",
      " 62%|██████▎   | 5/8 [00:02<00:01,  2.05it/s]\u001b[A\n",
      " 75%|███████▌  | 6/8 [00:02<00:00,  2.07it/s]\u001b[A\n",
      " 88%|████████▊ | 7/8 [00:03<00:00,  2.13it/s]\u001b[A\n",
      "100%|██████████| 8/8 [00:03<00:00,  2.18it/s]\u001b[A\n",
      "  0%|          | 0/8 [00:00<?, ?it/s]\u001b[A"
     ]
    },
    {
     "name": "stdout",
     "output_type": "stream",
     "text": [
      "Epoch: 34 Train loss: 68605.1944\n"
     ]
    },
    {
     "name": "stderr",
     "output_type": "stream",
     "text": [
      "\n",
      " 12%|█▎        | 1/8 [00:00<00:02,  2.46it/s]\u001b[A\n",
      " 25%|██▌       | 2/8 [00:00<00:02,  2.61it/s]\u001b[A\n",
      " 38%|███▊      | 3/8 [00:01<00:01,  2.72it/s]\u001b[A\n",
      " 50%|█████     | 4/8 [00:01<00:01,  2.72it/s]\u001b[A\n",
      " 62%|██████▎   | 5/8 [00:01<00:01,  2.75it/s]\u001b[A\n",
      " 75%|███████▌  | 6/8 [00:02<00:00,  2.84it/s]\u001b[A\n",
      " 88%|████████▊ | 7/8 [00:02<00:00,  2.93it/s]\u001b[A\n",
      "100%|██████████| 8/8 [00:02<00:00,  2.99it/s]\u001b[A"
     ]
    },
    {
     "name": "stdout",
     "output_type": "stream",
     "text": [
      "Test loss: 68452.0491\n"
     ]
    },
    {
     "name": "stderr",
     "output_type": "stream",
     "text": [
      "\n",
      "  0%|          | 0/8 [00:00<?, ?it/s]\u001b[A\n",
      " 12%|█▎        | 1/8 [00:00<00:03,  1.88it/s]\u001b[A\n",
      " 25%|██▌       | 2/8 [00:01<00:03,  1.94it/s]\u001b[A\n",
      " 38%|███▊      | 3/8 [00:01<00:02,  1.99it/s]\u001b[A\n",
      " 50%|█████     | 4/8 [00:01<00:01,  2.02it/s]\u001b[A\n",
      " 62%|██████▎   | 5/8 [00:02<00:01,  2.05it/s]\u001b[A\n",
      " 75%|███████▌  | 6/8 [00:02<00:00,  2.07it/s]\u001b[A\n",
      " 88%|████████▊ | 7/8 [00:03<00:00,  2.13it/s]\u001b[A\n",
      "100%|██████████| 8/8 [00:03<00:00,  2.17it/s]\u001b[A\n",
      "  0%|          | 0/8 [00:00<?, ?it/s]\u001b[A"
     ]
    },
    {
     "name": "stdout",
     "output_type": "stream",
     "text": [
      "Epoch: 35 Train loss: 68630.8068\n"
     ]
    },
    {
     "name": "stderr",
     "output_type": "stream",
     "text": [
      "\n",
      " 12%|█▎        | 1/8 [00:00<00:02,  2.42it/s]\u001b[A\n",
      " 25%|██▌       | 2/8 [00:00<00:02,  2.52it/s]\u001b[A\n",
      " 38%|███▊      | 3/8 [00:01<00:01,  2.58it/s]\u001b[A\n",
      " 50%|█████     | 4/8 [00:01<00:01,  2.63it/s]\u001b[A\n",
      " 62%|██████▎   | 5/8 [00:01<00:01,  2.69it/s]\u001b[A\n",
      " 75%|███████▌  | 6/8 [00:02<00:00,  2.73it/s]\u001b[A\n",
      " 88%|████████▊ | 7/8 [00:02<00:00,  2.85it/s]\u001b[A\n",
      "100%|██████████| 8/8 [00:02<00:00,  2.93it/s]\u001b[A"
     ]
    },
    {
     "name": "stdout",
     "output_type": "stream",
     "text": [
      "Test loss: 68809.9909\n"
     ]
    },
    {
     "name": "stderr",
     "output_type": "stream",
     "text": [
      "\n",
      "  0%|          | 0/8 [00:00<?, ?it/s]\u001b[A\n",
      " 12%|█▎        | 1/8 [00:00<00:04,  1.75it/s]\u001b[A\n",
      " 25%|██▌       | 2/8 [00:01<00:03,  1.82it/s]\u001b[A\n",
      " 38%|███▊      | 3/8 [00:01<00:02,  1.90it/s]\u001b[A\n",
      " 50%|█████     | 4/8 [00:02<00:02,  1.95it/s]\u001b[A\n",
      " 62%|██████▎   | 5/8 [00:02<00:01,  1.99it/s]\u001b[A\n",
      " 75%|███████▌  | 6/8 [00:02<00:00,  2.02it/s]\u001b[A\n",
      " 88%|████████▊ | 7/8 [00:03<00:00,  2.09it/s]\u001b[A\n",
      "100%|██████████| 8/8 [00:03<00:00,  2.14it/s]\u001b[A\n",
      "  0%|          | 0/8 [00:00<?, ?it/s]\u001b[A"
     ]
    },
    {
     "name": "stdout",
     "output_type": "stream",
     "text": [
      "Epoch: 36 Train loss: 68758.9200\n"
     ]
    },
    {
     "name": "stderr",
     "output_type": "stream",
     "text": [
      "\n",
      " 12%|█▎        | 1/8 [00:00<00:03,  2.16it/s]\u001b[A\n",
      " 25%|██▌       | 2/8 [00:00<00:02,  2.32it/s]\u001b[A\n",
      " 38%|███▊      | 3/8 [00:01<00:02,  2.44it/s]\u001b[A\n",
      " 50%|█████     | 4/8 [00:01<00:01,  2.54it/s]\u001b[A\n",
      " 62%|██████▎   | 5/8 [00:01<00:01,  2.61it/s]\u001b[A\n",
      " 75%|███████▌  | 6/8 [00:02<00:00,  2.66it/s]\u001b[A\n",
      " 88%|████████▊ | 7/8 [00:02<00:00,  2.78it/s]\u001b[A\n",
      "100%|██████████| 8/8 [00:02<00:00,  2.87it/s]\u001b[A"
     ]
    },
    {
     "name": "stdout",
     "output_type": "stream",
     "text": [
      "Test loss: 68614.3484\n"
     ]
    },
    {
     "name": "stderr",
     "output_type": "stream",
     "text": [
      "\n",
      "  0%|          | 0/8 [00:00<?, ?it/s]\u001b[A\n",
      " 12%|█▎        | 1/8 [00:00<00:03,  1.87it/s]\u001b[A\n",
      " 25%|██▌       | 2/8 [00:01<00:03,  1.93it/s]\u001b[A\n",
      " 38%|███▊      | 3/8 [00:01<00:02,  1.98it/s]\u001b[A\n",
      " 50%|█████     | 4/8 [00:01<00:01,  2.01it/s]\u001b[A\n",
      " 62%|██████▎   | 5/8 [00:02<00:01,  2.04it/s]\u001b[A\n",
      " 75%|███████▌  | 6/8 [00:02<00:00,  2.05it/s]\u001b[A\n",
      " 88%|████████▊ | 7/8 [00:03<00:00,  2.11it/s]\u001b[A\n",
      "100%|██████████| 8/8 [00:03<00:00,  2.16it/s]\u001b[A\n",
      "  0%|          | 0/8 [00:00<?, ?it/s]\u001b[A"
     ]
    },
    {
     "name": "stdout",
     "output_type": "stream",
     "text": [
      "Epoch: 37 Train loss: 68465.2785\n"
     ]
    },
    {
     "name": "stderr",
     "output_type": "stream",
     "text": [
      "\n",
      " 12%|█▎        | 1/8 [00:00<00:02,  2.40it/s]\u001b[A\n",
      " 25%|██▌       | 2/8 [00:00<00:02,  2.51it/s]\u001b[A\n",
      " 38%|███▊      | 3/8 [00:01<00:01,  2.59it/s]\u001b[A\n",
      " 50%|█████     | 4/8 [00:01<00:01,  2.65it/s]\u001b[A\n",
      " 62%|██████▎   | 5/8 [00:01<00:01,  2.70it/s]\u001b[A\n",
      " 75%|███████▌  | 6/8 [00:02<00:00,  2.74it/s]\u001b[A\n",
      " 88%|████████▊ | 7/8 [00:02<00:00,  2.86it/s]\u001b[A\n",
      "100%|██████████| 8/8 [00:02<00:00,  2.94it/s]\u001b[A"
     ]
    },
    {
     "name": "stdout",
     "output_type": "stream",
     "text": [
      "Test loss: 68692.4255\n"
     ]
    },
    {
     "name": "stderr",
     "output_type": "stream",
     "text": [
      "\n",
      "  0%|          | 0/8 [00:00<?, ?it/s]\u001b[A\n",
      " 12%|█▎        | 1/8 [00:00<00:03,  1.94it/s]\u001b[A\n",
      " 25%|██▌       | 2/8 [00:00<00:02,  2.01it/s]\u001b[A\n",
      " 38%|███▊      | 3/8 [00:01<00:02,  2.04it/s]\u001b[A\n",
      " 50%|█████     | 4/8 [00:01<00:01,  2.06it/s]\u001b[A\n",
      " 62%|██████▎   | 5/8 [00:02<00:01,  2.08it/s]\u001b[A\n",
      " 75%|███████▌  | 6/8 [00:02<00:00,  2.09it/s]\u001b[A\n",
      " 88%|████████▊ | 7/8 [00:03<00:00,  2.15it/s]\u001b[A\n",
      "100%|██████████| 8/8 [00:03<00:00,  2.19it/s]\u001b[A\n",
      "  0%|          | 0/8 [00:00<?, ?it/s]\u001b[A"
     ]
    },
    {
     "name": "stdout",
     "output_type": "stream",
     "text": [
      "Epoch: 38 Train loss: 68643.5118\n"
     ]
    },
    {
     "name": "stderr",
     "output_type": "stream",
     "text": [
      "\n",
      " 12%|█▎        | 1/8 [00:00<00:02,  2.42it/s]\u001b[A\n",
      " 25%|██▌       | 2/8 [00:00<00:02,  2.53it/s]\u001b[A\n",
      " 38%|███▊      | 3/8 [00:01<00:01,  2.61it/s]\u001b[A\n",
      " 50%|█████     | 4/8 [00:01<00:01,  2.67it/s]\u001b[A\n",
      " 62%|██████▎   | 5/8 [00:01<00:01,  2.72it/s]\u001b[A\n",
      " 75%|███████▌  | 6/8 [00:02<00:00,  2.74it/s]\u001b[A\n",
      " 88%|████████▊ | 7/8 [00:02<00:00,  2.86it/s]\u001b[A\n",
      "100%|██████████| 8/8 [00:02<00:00,  2.90it/s]\u001b[A"
     ]
    },
    {
     "name": "stdout",
     "output_type": "stream",
     "text": [
      "Test loss: 68434.1484\n"
     ]
    },
    {
     "name": "stderr",
     "output_type": "stream",
     "text": [
      "\n",
      "  0%|          | 0/8 [00:00<?, ?it/s]\u001b[A\n",
      " 12%|█▎        | 1/8 [00:00<00:04,  1.71it/s]\u001b[A\n",
      " 25%|██▌       | 2/8 [00:01<00:03,  1.81it/s]\u001b[A\n",
      " 38%|███▊      | 3/8 [00:01<00:02,  1.89it/s]\u001b[A\n",
      " 50%|█████     | 4/8 [00:02<00:02,  1.95it/s]\u001b[A\n",
      " 62%|██████▎   | 5/8 [00:02<00:01,  2.00it/s]\u001b[A\n",
      " 75%|███████▌  | 6/8 [00:02<00:00,  2.03it/s]\u001b[A\n",
      " 88%|████████▊ | 7/8 [00:03<00:00,  2.11it/s]\u001b[A\n",
      "100%|██████████| 8/8 [00:03<00:00,  2.16it/s]\u001b[A\n",
      "  0%|          | 0/8 [00:00<?, ?it/s]\u001b[A"
     ]
    },
    {
     "name": "stdout",
     "output_type": "stream",
     "text": [
      "Epoch: 39 Train loss: 68500.6152\n"
     ]
    },
    {
     "name": "stderr",
     "output_type": "stream",
     "text": [
      "\n",
      " 12%|█▎        | 1/8 [00:00<00:03,  2.10it/s]\u001b[A\n",
      " 25%|██▌       | 2/8 [00:00<00:02,  2.28it/s]\u001b[A\n",
      " 38%|███▊      | 3/8 [00:01<00:02,  2.42it/s]\u001b[A\n",
      " 50%|█████     | 4/8 [00:01<00:01,  2.53it/s]\u001b[A\n",
      " 62%|██████▎   | 5/8 [00:01<00:01,  2.61it/s]\u001b[A\n",
      " 75%|███████▌  | 6/8 [00:02<00:00,  2.68it/s]\u001b[A\n",
      " 88%|████████▊ | 7/8 [00:02<00:00,  2.80it/s]\u001b[A\n",
      "100%|██████████| 8/8 [00:02<00:00,  2.90it/s]\u001b[A"
     ]
    },
    {
     "name": "stdout",
     "output_type": "stream",
     "text": [
      "Test loss: 68672.4225\n"
     ]
    },
    {
     "name": "stderr",
     "output_type": "stream",
     "text": [
      "\n",
      "  0%|          | 0/8 [00:00<?, ?it/s]\u001b[A\n",
      " 12%|█▎        | 1/8 [00:00<00:03,  1.87it/s]\u001b[A\n",
      " 25%|██▌       | 2/8 [00:01<00:03,  1.91it/s]\u001b[A\n",
      " 38%|███▊      | 3/8 [00:01<00:02,  1.97it/s]\u001b[A\n",
      " 50%|█████     | 4/8 [00:01<00:01,  2.01it/s]\u001b[A\n",
      " 62%|██████▎   | 5/8 [00:02<00:01,  2.04it/s]\u001b[A\n",
      " 75%|███████▌  | 6/8 [00:02<00:00,  2.06it/s]\u001b[A\n",
      " 88%|████████▊ | 7/8 [00:03<00:00,  2.12it/s]\u001b[A\n",
      "100%|██████████| 8/8 [00:03<00:00,  2.16it/s]\u001b[A\n",
      "  0%|          | 0/8 [00:00<?, ?it/s]\u001b[A"
     ]
    },
    {
     "name": "stdout",
     "output_type": "stream",
     "text": [
      "Epoch: 40 Train loss: 68328.7738\n"
     ]
    },
    {
     "name": "stderr",
     "output_type": "stream",
     "text": [
      "\n",
      " 12%|█▎        | 1/8 [00:00<00:02,  2.38it/s]\u001b[A\n",
      " 25%|██▌       | 2/8 [00:00<00:02,  2.49it/s]\u001b[A\n",
      " 38%|███▊      | 3/8 [00:01<00:01,  2.58it/s]\u001b[A\n",
      " 50%|█████     | 4/8 [00:01<00:01,  2.65it/s]\u001b[A\n",
      " 62%|██████▎   | 5/8 [00:01<00:01,  2.73it/s]\u001b[A\n",
      " 75%|███████▌  | 6/8 [00:02<00:00,  2.75it/s]\u001b[A\n",
      " 88%|████████▊ | 7/8 [00:02<00:00,  2.85it/s]\u001b[A\n",
      "100%|██████████| 8/8 [00:02<00:00,  2.93it/s]\u001b[A"
     ]
    },
    {
     "name": "stdout",
     "output_type": "stream",
     "text": [
      "Test loss: 68497.0364\n"
     ]
    },
    {
     "name": "stderr",
     "output_type": "stream",
     "text": [
      "\n",
      "  0%|          | 0/8 [00:00<?, ?it/s]\u001b[A\n",
      " 12%|█▎        | 1/8 [00:00<00:03,  1.88it/s]\u001b[A\n",
      " 25%|██▌       | 2/8 [00:01<00:03,  1.94it/s]\u001b[A\n",
      " 38%|███▊      | 3/8 [00:01<00:02,  1.99it/s]\u001b[A\n",
      " 50%|█████     | 4/8 [00:01<00:01,  2.03it/s]\u001b[A\n",
      " 62%|██████▎   | 5/8 [00:02<00:01,  2.06it/s]\u001b[A\n",
      " 75%|███████▌  | 6/8 [00:02<00:00,  2.08it/s]\u001b[A\n",
      " 88%|████████▊ | 7/8 [00:03<00:00,  2.14it/s]\u001b[A\n",
      "100%|██████████| 8/8 [00:03<00:00,  2.18it/s]\u001b[A\n",
      "  0%|          | 0/8 [00:00<?, ?it/s]\u001b[A"
     ]
    },
    {
     "name": "stdout",
     "output_type": "stream",
     "text": [
      "Epoch: 41 Train loss: 68554.2414\n"
     ]
    },
    {
     "name": "stderr",
     "output_type": "stream",
     "text": [
      "\n",
      " 12%|█▎        | 1/8 [00:00<00:02,  2.36it/s]\u001b[A\n",
      " 25%|██▌       | 2/8 [00:00<00:02,  2.48it/s]\u001b[A\n",
      " 38%|███▊      | 3/8 [00:01<00:01,  2.58it/s]\u001b[A\n",
      " 50%|█████     | 4/8 [00:01<00:01,  2.65it/s]\u001b[A\n",
      " 62%|██████▎   | 5/8 [00:01<00:01,  2.70it/s]\u001b[A\n",
      " 75%|███████▌  | 6/8 [00:02<00:00,  2.74it/s]\u001b[A\n",
      " 88%|████████▊ | 7/8 [00:02<00:00,  2.85it/s]\u001b[A\n",
      "100%|██████████| 8/8 [00:02<00:00,  2.93it/s]\u001b[A"
     ]
    },
    {
     "name": "stdout",
     "output_type": "stream",
     "text": [
      "Test loss: 68415.8399\n"
     ]
    },
    {
     "name": "stderr",
     "output_type": "stream",
     "text": [
      "\n",
      "  0%|          | 0/8 [00:00<?, ?it/s]\u001b[A\n",
      " 12%|█▎        | 1/8 [00:00<00:03,  1.88it/s]\u001b[A\n",
      " 25%|██▌       | 2/8 [00:01<00:03,  1.94it/s]\u001b[A\n",
      " 38%|███▊      | 3/8 [00:01<00:02,  1.99it/s]\u001b[A\n",
      " 50%|█████     | 4/8 [00:01<00:01,  2.03it/s]\u001b[A\n",
      " 62%|██████▎   | 5/8 [00:02<00:01,  2.06it/s]\u001b[A\n",
      " 75%|███████▌  | 6/8 [00:02<00:00,  2.07it/s]\u001b[A\n",
      " 88%|████████▊ | 7/8 [00:03<00:00,  2.13it/s]\u001b[A\n",
      "100%|██████████| 8/8 [00:03<00:00,  2.18it/s]\u001b[A\n",
      "  0%|          | 0/8 [00:00<?, ?it/s]\u001b[A"
     ]
    },
    {
     "name": "stdout",
     "output_type": "stream",
     "text": [
      "Epoch: 42 Train loss: 68663.0056\n"
     ]
    },
    {
     "name": "stderr",
     "output_type": "stream",
     "text": [
      "\n",
      " 12%|█▎        | 1/8 [00:00<00:02,  2.39it/s]\u001b[A\n",
      " 25%|██▌       | 2/8 [00:00<00:02,  2.50it/s]\u001b[A\n",
      " 38%|███▊      | 3/8 [00:01<00:01,  2.59it/s]\u001b[A\n",
      " 50%|█████     | 4/8 [00:01<00:01,  2.66it/s]\u001b[A\n",
      " 62%|██████▎   | 5/8 [00:01<00:01,  2.71it/s]\u001b[A\n",
      " 75%|███████▌  | 6/8 [00:02<00:00,  2.72it/s]\u001b[A\n",
      " 88%|████████▊ | 7/8 [00:02<00:00,  2.77it/s]\u001b[A\n",
      "100%|██████████| 8/8 [00:02<00:00,  2.85it/s]\u001b[A"
     ]
    },
    {
     "name": "stdout",
     "output_type": "stream",
     "text": [
      "Test loss: 68649.0046\n"
     ]
    },
    {
     "name": "stderr",
     "output_type": "stream",
     "text": [
      "\n",
      "  0%|          | 0/8 [00:00<?, ?it/s]\u001b[A\n",
      " 12%|█▎        | 1/8 [00:00<00:03,  1.82it/s]\u001b[A\n",
      " 25%|██▌       | 2/8 [00:01<00:03,  1.90it/s]\u001b[A\n",
      " 38%|███▊      | 3/8 [00:01<00:02,  1.96it/s]\u001b[A\n",
      " 50%|█████     | 4/8 [00:01<00:01,  2.00it/s]\u001b[A\n",
      " 62%|██████▎   | 5/8 [00:02<00:01,  2.04it/s]\u001b[A\n",
      " 75%|███████▌  | 6/8 [00:02<00:00,  2.06it/s]\u001b[A\n",
      " 88%|████████▊ | 7/8 [00:03<00:00,  2.13it/s]\u001b[A\n",
      "100%|██████████| 8/8 [00:03<00:00,  2.18it/s]\u001b[A\n",
      "  0%|          | 0/8 [00:00<?, ?it/s]\u001b[A"
     ]
    },
    {
     "name": "stdout",
     "output_type": "stream",
     "text": [
      "Epoch: 43 Train loss: 68294.2223\n"
     ]
    },
    {
     "name": "stderr",
     "output_type": "stream",
     "text": [
      "\n",
      " 12%|█▎        | 1/8 [00:00<00:03,  2.33it/s]\u001b[A\n",
      " 25%|██▌       | 2/8 [00:00<00:02,  2.46it/s]\u001b[A\n",
      " 38%|███▊      | 3/8 [00:01<00:01,  2.56it/s]\u001b[A\n",
      " 50%|█████     | 4/8 [00:01<00:01,  2.64it/s]\u001b[A\n",
      " 62%|██████▎   | 5/8 [00:01<00:01,  2.70it/s]\u001b[A\n",
      " 75%|███████▌  | 6/8 [00:02<00:00,  2.74it/s]\u001b[A\n",
      " 88%|████████▊ | 7/8 [00:02<00:00,  2.86it/s]\u001b[A\n",
      "100%|██████████| 8/8 [00:02<00:00,  2.94it/s]\u001b[A"
     ]
    },
    {
     "name": "stdout",
     "output_type": "stream",
     "text": [
      "Test loss: 68418.5069\n"
     ]
    },
    {
     "name": "stderr",
     "output_type": "stream",
     "text": [
      "\n",
      "  0%|          | 0/8 [00:00<?, ?it/s]\u001b[A\n",
      " 12%|█▎        | 1/8 [00:00<00:03,  1.88it/s]\u001b[A\n",
      " 25%|██▌       | 2/8 [00:01<00:03,  1.94it/s]\u001b[A\n",
      " 38%|███▊      | 3/8 [00:01<00:02,  1.99it/s]\u001b[A\n",
      " 50%|█████     | 4/8 [00:01<00:01,  2.03it/s]\u001b[A\n",
      " 62%|██████▎   | 5/8 [00:02<00:01,  2.06it/s]\u001b[A\n",
      " 75%|███████▌  | 6/8 [00:02<00:00,  2.08it/s]\u001b[A\n",
      " 88%|████████▊ | 7/8 [00:03<00:00,  2.14it/s]\u001b[A\n",
      "100%|██████████| 8/8 [00:03<00:00,  2.19it/s]\u001b[A\n",
      "  0%|          | 0/8 [00:00<?, ?it/s]\u001b[A"
     ]
    },
    {
     "name": "stdout",
     "output_type": "stream",
     "text": [
      "Epoch: 44 Train loss: 68523.9689\n"
     ]
    },
    {
     "name": "stderr",
     "output_type": "stream",
     "text": [
      "\n",
      " 12%|█▎        | 1/8 [00:00<00:02,  2.42it/s]\u001b[A\n",
      " 25%|██▌       | 2/8 [00:00<00:02,  2.52it/s]\u001b[A\n",
      " 38%|███▊      | 3/8 [00:01<00:01,  2.61it/s]\u001b[A\n",
      " 50%|█████     | 4/8 [00:01<00:01,  2.68it/s]\u001b[A\n",
      " 62%|██████▎   | 5/8 [00:01<00:01,  2.73it/s]\u001b[A\n",
      " 75%|███████▌  | 6/8 [00:02<00:00,  2.76it/s]\u001b[A\n",
      " 88%|████████▊ | 7/8 [00:02<00:00,  2.86it/s]\u001b[A\n",
      "100%|██████████| 8/8 [00:02<00:00,  2.95it/s]\u001b[A"
     ]
    },
    {
     "name": "stdout",
     "output_type": "stream",
     "text": [
      "Test loss: 68718.6831\n"
     ]
    },
    {
     "name": "stderr",
     "output_type": "stream",
     "text": [
      "\n",
      "  0%|          | 0/8 [00:00<?, ?it/s]\u001b[A\n",
      " 12%|█▎        | 1/8 [00:00<00:03,  1.89it/s]\u001b[A\n",
      " 25%|██▌       | 2/8 [00:01<00:03,  1.95it/s]\u001b[A\n",
      " 38%|███▊      | 3/8 [00:01<00:02,  2.00it/s]\u001b[A\n",
      " 50%|█████     | 4/8 [00:01<00:01,  2.03it/s]\u001b[A\n",
      " 62%|██████▎   | 5/8 [00:02<00:01,  2.06it/s]\u001b[A\n",
      " 75%|███████▌  | 6/8 [00:02<00:00,  2.08it/s]\u001b[A\n",
      " 88%|████████▊ | 7/8 [00:03<00:00,  2.14it/s]\u001b[A\n",
      "100%|██████████| 8/8 [00:03<00:00,  2.18it/s]\u001b[A\n",
      "  0%|          | 0/8 [00:00<?, ?it/s]\u001b[A"
     ]
    },
    {
     "name": "stdout",
     "output_type": "stream",
     "text": [
      "Epoch: 45 Train loss: 68470.7542\n"
     ]
    },
    {
     "name": "stderr",
     "output_type": "stream",
     "text": [
      "\n",
      " 12%|█▎        | 1/8 [00:00<00:02,  2.40it/s]\u001b[A\n",
      " 25%|██▌       | 2/8 [00:00<00:02,  2.51it/s]\u001b[A\n",
      " 38%|███▊      | 3/8 [00:01<00:01,  2.61it/s]\u001b[A\n",
      " 50%|█████     | 4/8 [00:01<00:01,  2.67it/s]\u001b[A\n",
      " 62%|██████▎   | 5/8 [00:01<00:01,  2.72it/s]\u001b[A\n",
      " 75%|███████▌  | 6/8 [00:02<00:00,  2.75it/s]\u001b[A\n",
      " 88%|████████▊ | 7/8 [00:02<00:00,  2.86it/s]\u001b[A\n",
      "100%|██████████| 8/8 [00:02<00:00,  2.94it/s]\u001b[A"
     ]
    },
    {
     "name": "stdout",
     "output_type": "stream",
     "text": [
      "Test loss: 68351.3116\n"
     ]
    },
    {
     "name": "stderr",
     "output_type": "stream",
     "text": [
      "\n",
      "  0%|          | 0/8 [00:00<?, ?it/s]\u001b[A\n",
      " 12%|█▎        | 1/8 [00:00<00:03,  1.84it/s]\u001b[A\n",
      " 25%|██▌       | 2/8 [00:01<00:03,  1.92it/s]\u001b[A\n",
      " 38%|███▊      | 3/8 [00:01<00:02,  1.98it/s]\u001b[A\n",
      " 50%|█████     | 4/8 [00:01<00:01,  2.02it/s]\u001b[A\n",
      " 62%|██████▎   | 5/8 [00:02<00:01,  2.05it/s]\u001b[A\n",
      " 75%|███████▌  | 6/8 [00:02<00:00,  2.07it/s]\u001b[A\n",
      " 88%|████████▊ | 7/8 [00:03<00:00,  2.14it/s]\u001b[A\n",
      "100%|██████████| 8/8 [00:03<00:00,  2.18it/s]\u001b[A\n",
      "  0%|          | 0/8 [00:00<?, ?it/s]\u001b[A"
     ]
    },
    {
     "name": "stdout",
     "output_type": "stream",
     "text": [
      "Epoch: 46 Train loss: 68636.5413\n"
     ]
    },
    {
     "name": "stderr",
     "output_type": "stream",
     "text": [
      "\n",
      " 12%|█▎        | 1/8 [00:00<00:02,  2.39it/s]\u001b[A\n",
      " 25%|██▌       | 2/8 [00:00<00:02,  2.48it/s]\u001b[A\n",
      " 38%|███▊      | 3/8 [00:01<00:01,  2.57it/s]\u001b[A\n",
      " 50%|█████     | 4/8 [00:01<00:01,  2.64it/s]\u001b[A\n",
      " 62%|██████▎   | 5/8 [00:01<00:01,  2.69it/s]\u001b[A\n",
      " 75%|███████▌  | 6/8 [00:02<00:00,  2.73it/s]\u001b[A\n",
      " 88%|████████▊ | 7/8 [00:02<00:00,  2.85it/s]\u001b[A\n",
      "100%|██████████| 8/8 [00:02<00:00,  2.94it/s]\u001b[A"
     ]
    },
    {
     "name": "stdout",
     "output_type": "stream",
     "text": [
      "Test loss: 68523.7303\n"
     ]
    },
    {
     "name": "stderr",
     "output_type": "stream",
     "text": [
      "\n",
      "  0%|          | 0/8 [00:00<?, ?it/s]\u001b[A\n",
      " 12%|█▎        | 1/8 [00:00<00:04,  1.71it/s]\u001b[A\n",
      " 25%|██▌       | 2/8 [00:01<00:03,  1.81it/s]\u001b[A\n",
      " 38%|███▊      | 3/8 [00:01<00:02,  1.89it/s]\u001b[A\n",
      " 50%|█████     | 4/8 [00:02<00:02,  1.95it/s]\u001b[A\n",
      " 62%|██████▎   | 5/8 [00:02<00:01,  2.00it/s]\u001b[A\n",
      " 75%|███████▌  | 6/8 [00:02<00:00,  2.03it/s]\u001b[A\n",
      " 88%|████████▊ | 7/8 [00:03<00:00,  2.10it/s]\u001b[A\n",
      "100%|██████████| 8/8 [00:03<00:00,  2.16it/s]\u001b[A\n",
      "  0%|          | 0/8 [00:00<?, ?it/s]\u001b[A"
     ]
    },
    {
     "name": "stdout",
     "output_type": "stream",
     "text": [
      "Epoch: 47 Train loss: 68915.6944\n"
     ]
    },
    {
     "name": "stderr",
     "output_type": "stream",
     "text": [
      "\n",
      " 12%|█▎        | 1/8 [00:00<00:02,  2.39it/s]\u001b[A\n",
      " 25%|██▌       | 2/8 [00:00<00:02,  2.51it/s]\u001b[A\n",
      " 38%|███▊      | 3/8 [00:01<00:01,  2.60it/s]\u001b[A\n",
      " 50%|█████     | 4/8 [00:01<00:01,  2.66it/s]\u001b[A\n",
      " 62%|██████▎   | 5/8 [00:01<00:01,  2.71it/s]\u001b[A\n",
      " 75%|███████▌  | 6/8 [00:02<00:00,  2.74it/s]\u001b[A\n",
      " 88%|████████▊ | 7/8 [00:02<00:00,  2.85it/s]\u001b[A\n",
      "100%|██████████| 8/8 [00:02<00:00,  2.93it/s]\u001b[A"
     ]
    },
    {
     "name": "stdout",
     "output_type": "stream",
     "text": [
      "Test loss: 68556.0254\n"
     ]
    },
    {
     "name": "stderr",
     "output_type": "stream",
     "text": [
      "\n",
      "  0%|          | 0/8 [00:00<?, ?it/s]\u001b[A\n",
      " 12%|█▎        | 1/8 [00:00<00:03,  1.93it/s]\u001b[A\n",
      " 25%|██▌       | 2/8 [00:00<00:03,  1.98it/s]\u001b[A\n",
      " 38%|███▊      | 3/8 [00:01<00:02,  2.02it/s]\u001b[A\n",
      " 50%|█████     | 4/8 [00:01<00:01,  2.05it/s]\u001b[A\n",
      " 62%|██████▎   | 5/8 [00:02<00:01,  2.07it/s]\u001b[A\n",
      " 75%|███████▌  | 6/8 [00:02<00:00,  2.09it/s]\u001b[A\n",
      " 88%|████████▊ | 7/8 [00:03<00:00,  2.15it/s]\u001b[A\n",
      "100%|██████████| 8/8 [00:03<00:00,  2.19it/s]\u001b[A\n",
      "  0%|          | 0/8 [00:00<?, ?it/s]\u001b[A"
     ]
    },
    {
     "name": "stdout",
     "output_type": "stream",
     "text": [
      "Epoch: 48 Train loss: 68688.9115\n"
     ]
    },
    {
     "name": "stderr",
     "output_type": "stream",
     "text": [
      "\n",
      " 12%|█▎        | 1/8 [00:00<00:02,  2.39it/s]\u001b[A\n",
      " 25%|██▌       | 2/8 [00:00<00:02,  2.51it/s]\u001b[A\n",
      " 38%|███▊      | 3/8 [00:01<00:01,  2.60it/s]\u001b[A\n",
      " 50%|█████     | 4/8 [00:01<00:01,  2.66it/s]\u001b[A\n",
      " 62%|██████▎   | 5/8 [00:01<00:01,  2.71it/s]\u001b[A\n",
      " 75%|███████▌  | 6/8 [00:02<00:00,  2.74it/s]\u001b[A\n",
      " 88%|████████▊ | 7/8 [00:02<00:00,  2.85it/s]\u001b[A\n",
      "100%|██████████| 8/8 [00:02<00:00,  2.93it/s]\u001b[A"
     ]
    },
    {
     "name": "stdout",
     "output_type": "stream",
     "text": [
      "Test loss: 68311.5114\n"
     ]
    },
    {
     "name": "stderr",
     "output_type": "stream",
     "text": [
      "\n",
      "  0%|          | 0/8 [00:00<?, ?it/s]\u001b[A\n",
      " 12%|█▎        | 1/8 [00:00<00:03,  1.89it/s]\u001b[A\n",
      " 25%|██▌       | 2/8 [00:01<00:03,  1.95it/s]\u001b[A\n",
      " 38%|███▊      | 3/8 [00:01<00:02,  2.00it/s]\u001b[A\n",
      " 50%|█████     | 4/8 [00:01<00:01,  2.03it/s]\u001b[A\n",
      " 62%|██████▎   | 5/8 [00:02<00:01,  2.06it/s]\u001b[A\n",
      " 75%|███████▌  | 6/8 [00:02<00:00,  2.07it/s]\u001b[A\n",
      " 88%|████████▊ | 7/8 [00:03<00:00,  2.13it/s]\u001b[A\n",
      "100%|██████████| 8/8 [00:03<00:00,  2.18it/s]\u001b[A\n",
      "  0%|          | 0/8 [00:00<?, ?it/s]\u001b[A"
     ]
    },
    {
     "name": "stdout",
     "output_type": "stream",
     "text": [
      "Epoch: 49 Train loss: 68597.6423\n"
     ]
    },
    {
     "name": "stderr",
     "output_type": "stream",
     "text": [
      "\n",
      " 12%|█▎        | 1/8 [00:00<00:02,  2.41it/s]\u001b[A\n",
      " 25%|██▌       | 2/8 [00:00<00:02,  2.52it/s]\u001b[A\n",
      " 38%|███▊      | 3/8 [00:01<00:01,  2.60it/s]\u001b[A\n",
      " 50%|█████     | 4/8 [00:01<00:01,  2.67it/s]\u001b[A\n",
      " 62%|██████▎   | 5/8 [00:01<00:01,  2.72it/s]\u001b[A\n",
      " 75%|███████▌  | 6/8 [00:02<00:00,  2.75it/s]\u001b[A\n",
      " 88%|████████▊ | 7/8 [00:02<00:00,  2.86it/s]\u001b[A\n",
      "100%|██████████| 8/8 [00:02<00:00,  2.94it/s]\u001b[A"
     ]
    },
    {
     "name": "stdout",
     "output_type": "stream",
     "text": [
      "Test loss: 68309.2892\n"
     ]
    },
    {
     "name": "stderr",
     "output_type": "stream",
     "text": [
      "\n",
      "  0%|          | 0/8 [00:00<?, ?it/s]\u001b[A\n",
      " 12%|█▎        | 1/8 [00:00<00:03,  1.86it/s]\u001b[A\n",
      " 25%|██▌       | 2/8 [00:01<00:03,  1.93it/s]\u001b[A\n",
      " 38%|███▊      | 3/8 [00:01<00:02,  1.98it/s]\u001b[A\n",
      " 50%|█████     | 4/8 [00:01<00:01,  2.01it/s]\u001b[A\n",
      " 62%|██████▎   | 5/8 [00:02<00:01,  2.03it/s]\u001b[A\n",
      " 75%|███████▌  | 6/8 [00:02<00:00,  2.06it/s]\u001b[A\n",
      " 88%|████████▊ | 7/8 [00:03<00:00,  2.12it/s]\u001b[A\n",
      "100%|██████████| 8/8 [00:03<00:00,  2.16it/s]\u001b[A\n",
      "  0%|          | 0/8 [00:00<?, ?it/s]\u001b[A"
     ]
    },
    {
     "name": "stdout",
     "output_type": "stream",
     "text": [
      "Epoch: 50 Train loss: 68495.9511\n"
     ]
    },
    {
     "name": "stderr",
     "output_type": "stream",
     "text": [
      "\n",
      " 12%|█▎        | 1/8 [00:00<00:02,  2.35it/s]\u001b[A\n",
      " 25%|██▌       | 2/8 [00:00<00:02,  2.48it/s]\u001b[A\n",
      " 38%|███▊      | 3/8 [00:01<00:01,  2.58it/s]\u001b[A\n",
      " 50%|█████     | 4/8 [00:01<00:01,  2.65it/s]\u001b[A\n",
      " 62%|██████▎   | 5/8 [00:01<00:01,  2.70it/s]\u001b[A\n",
      " 75%|███████▌  | 6/8 [00:02<00:00,  2.74it/s]\u001b[A\n",
      " 88%|████████▊ | 7/8 [00:02<00:00,  2.86it/s]\u001b[A\n",
      "100%|██████████| 8/8 [00:02<00:00,  2.94it/s]\u001b[A"
     ]
    },
    {
     "name": "stdout",
     "output_type": "stream",
     "text": [
      "Test loss: 68491.1200\n"
     ]
    },
    {
     "name": "stderr",
     "output_type": "stream",
     "text": [
      "\n",
      "  0%|          | 0/8 [00:00<?, ?it/s]\u001b[A\n",
      " 12%|█▎        | 1/8 [00:00<00:03,  1.86it/s]\u001b[A\n",
      " 25%|██▌       | 2/8 [00:01<00:03,  1.92it/s]\u001b[A\n",
      " 38%|███▊      | 3/8 [00:01<00:02,  1.98it/s]\u001b[A\n",
      " 50%|█████     | 4/8 [00:01<00:01,  2.02it/s]\u001b[A\n",
      " 62%|██████▎   | 5/8 [00:02<00:01,  2.05it/s]\u001b[A\n",
      " 75%|███████▌  | 6/8 [00:02<00:00,  2.07it/s]\u001b[A\n",
      " 88%|████████▊ | 7/8 [00:03<00:00,  2.14it/s]\u001b[A\n",
      "100%|██████████| 8/8 [00:03<00:00,  2.18it/s]\u001b[A\n",
      "  0%|          | 0/8 [00:00<?, ?it/s]\u001b[A"
     ]
    },
    {
     "name": "stdout",
     "output_type": "stream",
     "text": [
      "Epoch: 51 Train loss: 68614.6908\n"
     ]
    },
    {
     "name": "stderr",
     "output_type": "stream",
     "text": [
      "\n",
      " 12%|█▎        | 1/8 [00:00<00:02,  2.38it/s]\u001b[A\n",
      " 25%|██▌       | 2/8 [00:00<00:02,  2.50it/s]\u001b[A\n",
      " 38%|███▊      | 3/8 [00:01<00:01,  2.59it/s]\u001b[A\n",
      " 50%|█████     | 4/8 [00:01<00:01,  2.66it/s]\u001b[A\n",
      " 62%|██████▎   | 5/8 [00:01<00:01,  2.71it/s]\u001b[A\n",
      " 75%|███████▌  | 6/8 [00:02<00:00,  2.74it/s]\u001b[A\n",
      " 88%|████████▊ | 7/8 [00:02<00:00,  2.85it/s]\u001b[A\n",
      "100%|██████████| 8/8 [00:02<00:00,  2.94it/s]\u001b[A"
     ]
    },
    {
     "name": "stdout",
     "output_type": "stream",
     "text": [
      "Test loss: 68473.2277\n"
     ]
    },
    {
     "name": "stderr",
     "output_type": "stream",
     "text": [
      "\n",
      "  0%|          | 0/8 [00:00<?, ?it/s]\u001b[A\n",
      " 12%|█▎        | 1/8 [00:00<00:03,  1.87it/s]\u001b[A\n",
      " 25%|██▌       | 2/8 [00:01<00:03,  1.92it/s]\u001b[A\n",
      " 38%|███▊      | 3/8 [00:01<00:02,  1.98it/s]\u001b[A\n",
      " 50%|█████     | 4/8 [00:01<00:01,  2.02it/s]\u001b[A\n",
      " 62%|██████▎   | 5/8 [00:02<00:01,  2.05it/s]\u001b[A\n",
      " 75%|███████▌  | 6/8 [00:02<00:00,  2.07it/s]\u001b[A\n",
      " 88%|████████▊ | 7/8 [00:03<00:00,  2.14it/s]\u001b[A\n",
      "100%|██████████| 8/8 [00:03<00:00,  2.18it/s]\u001b[A\n",
      "  0%|          | 0/8 [00:00<?, ?it/s]\u001b[A"
     ]
    },
    {
     "name": "stdout",
     "output_type": "stream",
     "text": [
      "Epoch: 52 Train loss: 68406.5359\n"
     ]
    },
    {
     "name": "stderr",
     "output_type": "stream",
     "text": [
      "\n",
      " 12%|█▎        | 1/8 [00:00<00:02,  2.39it/s]\u001b[A\n",
      " 25%|██▌       | 2/8 [00:00<00:02,  2.51it/s]\u001b[A\n",
      " 38%|███▊      | 3/8 [00:01<00:01,  2.60it/s]\u001b[A\n",
      " 50%|█████     | 4/8 [00:01<00:01,  2.64it/s]\u001b[A\n",
      " 62%|██████▎   | 5/8 [00:01<00:01,  2.68it/s]\u001b[A\n",
      " 75%|███████▌  | 6/8 [00:02<00:00,  2.72it/s]\u001b[A\n",
      " 88%|████████▊ | 7/8 [00:02<00:00,  2.84it/s]\u001b[A\n",
      "100%|██████████| 8/8 [00:02<00:00,  2.92it/s]\u001b[A"
     ]
    },
    {
     "name": "stdout",
     "output_type": "stream",
     "text": [
      "Test loss: 68587.5736\n"
     ]
    },
    {
     "name": "stderr",
     "output_type": "stream",
     "text": [
      "\n",
      "  0%|          | 0/8 [00:00<?, ?it/s]\u001b[A\n",
      " 12%|█▎        | 1/8 [00:00<00:03,  1.84it/s]\u001b[A\n",
      " 25%|██▌       | 2/8 [00:01<00:03,  1.92it/s]\u001b[A\n",
      " 38%|███▊      | 3/8 [00:01<00:02,  1.98it/s]\u001b[A\n",
      " 50%|█████     | 4/8 [00:01<00:01,  2.01it/s]\u001b[A\n",
      " 62%|██████▎   | 5/8 [00:02<00:01,  2.04it/s]\u001b[A\n",
      " 75%|███████▌  | 6/8 [00:02<00:00,  2.07it/s]\u001b[A\n",
      " 88%|████████▊ | 7/8 [00:03<00:00,  2.13it/s]\u001b[A\n",
      "100%|██████████| 8/8 [00:03<00:00,  2.17it/s]\u001b[A\n",
      "  0%|          | 0/8 [00:00<?, ?it/s]\u001b[A"
     ]
    },
    {
     "name": "stdout",
     "output_type": "stream",
     "text": [
      "Epoch: 53 Train loss: 68683.0276\n"
     ]
    },
    {
     "name": "stderr",
     "output_type": "stream",
     "text": [
      "\n",
      " 12%|█▎        | 1/8 [00:00<00:02,  2.41it/s]\u001b[A\n",
      " 25%|██▌       | 2/8 [00:00<00:02,  2.57it/s]\u001b[A\n",
      " 38%|███▊      | 3/8 [00:01<00:01,  2.70it/s]\u001b[A\n",
      " 50%|█████     | 4/8 [00:01<00:01,  2.78it/s]\u001b[A\n",
      " 62%|██████▎   | 5/8 [00:01<00:01,  2.76it/s]\u001b[A\n",
      " 75%|███████▌  | 6/8 [00:02<00:00,  2.80it/s]\u001b[A\n",
      " 88%|████████▊ | 7/8 [00:02<00:00,  2.90it/s]\u001b[A\n",
      "100%|██████████| 8/8 [00:02<00:00,  2.97it/s]\u001b[A"
     ]
    },
    {
     "name": "stdout",
     "output_type": "stream",
     "text": [
      "Test loss: 68576.8008\n"
     ]
    },
    {
     "name": "stderr",
     "output_type": "stream",
     "text": [
      "\n",
      "  0%|          | 0/8 [00:00<?, ?it/s]\u001b[A\n",
      " 12%|█▎        | 1/8 [00:00<00:03,  1.90it/s]\u001b[A\n",
      " 25%|██▌       | 2/8 [00:00<00:03,  1.96it/s]\u001b[A\n",
      " 38%|███▊      | 3/8 [00:01<00:02,  2.01it/s]\u001b[A\n",
      " 50%|█████     | 4/8 [00:01<00:01,  2.04it/s]\u001b[A\n",
      " 62%|██████▎   | 5/8 [00:02<00:01,  2.07it/s]\u001b[A\n",
      " 75%|███████▌  | 6/8 [00:02<00:00,  2.09it/s]\u001b[A\n",
      " 88%|████████▊ | 7/8 [00:03<00:00,  2.15it/s]\u001b[A\n",
      "100%|██████████| 8/8 [00:03<00:00,  2.19it/s]\u001b[A\n",
      "  0%|          | 0/8 [00:00<?, ?it/s]\u001b[A"
     ]
    },
    {
     "name": "stdout",
     "output_type": "stream",
     "text": [
      "Epoch: 54 Train loss: 68639.3656\n"
     ]
    },
    {
     "name": "stderr",
     "output_type": "stream",
     "text": [
      "\n",
      " 12%|█▎        | 1/8 [00:00<00:02,  2.43it/s]\u001b[A\n",
      " 25%|██▌       | 2/8 [00:00<00:02,  2.54it/s]\u001b[A\n",
      " 38%|███▊      | 3/8 [00:01<00:01,  2.62it/s]\u001b[A\n",
      " 50%|█████     | 4/8 [00:01<00:01,  2.68it/s]\u001b[A\n",
      " 62%|██████▎   | 5/8 [00:01<00:01,  2.73it/s]\u001b[A\n",
      " 75%|███████▌  | 6/8 [00:02<00:00,  2.75it/s]\u001b[A\n",
      " 88%|████████▊ | 7/8 [00:02<00:00,  2.85it/s]\u001b[A\n",
      "100%|██████████| 8/8 [00:02<00:00,  2.93it/s]\u001b[A"
     ]
    },
    {
     "name": "stdout",
     "output_type": "stream",
     "text": [
      "Test loss: 68782.3561\n"
     ]
    },
    {
     "name": "stderr",
     "output_type": "stream",
     "text": [
      "\n",
      "  0%|          | 0/8 [00:00<?, ?it/s]\u001b[A\n",
      " 12%|█▎        | 1/8 [00:00<00:03,  1.81it/s]\u001b[A\n",
      " 25%|██▌       | 2/8 [00:01<00:03,  1.89it/s]\u001b[A\n",
      " 38%|███▊      | 3/8 [00:01<00:02,  1.95it/s]\u001b[A\n",
      " 50%|█████     | 4/8 [00:01<00:02,  2.00it/s]\u001b[A\n",
      " 62%|██████▎   | 5/8 [00:02<00:01,  2.02it/s]\u001b[A\n",
      " 75%|███████▌  | 6/8 [00:02<00:00,  2.05it/s]\u001b[A\n",
      " 88%|████████▊ | 7/8 [00:03<00:00,  2.12it/s]\u001b[A\n",
      "100%|██████████| 8/8 [00:03<00:00,  2.16it/s]\u001b[A\n",
      "  0%|          | 0/8 [00:00<?, ?it/s]\u001b[A"
     ]
    },
    {
     "name": "stdout",
     "output_type": "stream",
     "text": [
      "Epoch: 55 Train loss: 68475.3834\n"
     ]
    },
    {
     "name": "stderr",
     "output_type": "stream",
     "text": [
      "\n",
      " 12%|█▎        | 1/8 [00:00<00:03,  2.28it/s]\u001b[A\n",
      " 25%|██▌       | 2/8 [00:00<00:02,  2.40it/s]\u001b[A\n",
      " 38%|███▊      | 3/8 [00:01<00:01,  2.52it/s]\u001b[A\n",
      " 50%|█████     | 4/8 [00:01<00:01,  2.57it/s]\u001b[A\n",
      " 62%|██████▎   | 5/8 [00:01<00:01,  2.61it/s]\u001b[A\n",
      " 75%|███████▌  | 6/8 [00:02<00:00,  2.67it/s]\u001b[A\n",
      " 88%|████████▊ | 7/8 [00:02<00:00,  2.79it/s]\u001b[A\n",
      "100%|██████████| 8/8 [00:02<00:00,  2.88it/s]\u001b[A"
     ]
    },
    {
     "name": "stdout",
     "output_type": "stream",
     "text": [
      "Test loss: 68754.1189\n"
     ]
    },
    {
     "name": "stderr",
     "output_type": "stream",
     "text": [
      "\n",
      "  0%|          | 0/8 [00:00<?, ?it/s]\u001b[A\n",
      " 12%|█▎        | 1/8 [00:00<00:03,  1.86it/s]\u001b[A\n",
      " 25%|██▌       | 2/8 [00:01<00:03,  1.93it/s]\u001b[A\n",
      " 38%|███▊      | 3/8 [00:01<00:02,  2.01it/s]\u001b[A\n",
      " 50%|█████     | 4/8 [00:01<00:01,  2.06it/s]\u001b[A\n",
      " 62%|██████▎   | 5/8 [00:02<00:01,  2.10it/s]\u001b[A\n",
      " 75%|███████▌  | 6/8 [00:02<00:00,  2.13it/s]\u001b[A\n",
      " 88%|████████▊ | 7/8 [00:03<00:00,  2.18it/s]\u001b[A\n",
      "100%|██████████| 8/8 [00:03<00:00,  2.21it/s]\u001b[A\n",
      "  0%|          | 0/8 [00:00<?, ?it/s]\u001b[A"
     ]
    },
    {
     "name": "stdout",
     "output_type": "stream",
     "text": [
      "Epoch: 56 Train loss: 68584.3658\n"
     ]
    },
    {
     "name": "stderr",
     "output_type": "stream",
     "text": [
      "\n",
      " 12%|█▎        | 1/8 [00:00<00:02,  2.41it/s]\u001b[A\n",
      " 25%|██▌       | 2/8 [00:00<00:02,  2.52it/s]\u001b[A\n",
      " 38%|███▊      | 3/8 [00:01<00:01,  2.61it/s]\u001b[A\n",
      " 50%|█████     | 4/8 [00:01<00:01,  2.67it/s]\u001b[A\n",
      " 62%|██████▎   | 5/8 [00:01<00:01,  2.72it/s]\u001b[A\n",
      " 75%|███████▌  | 6/8 [00:02<00:00,  2.75it/s]\u001b[A\n",
      " 88%|████████▊ | 7/8 [00:02<00:00,  2.86it/s]\u001b[A\n",
      "100%|██████████| 8/8 [00:02<00:00,  2.95it/s]\u001b[A"
     ]
    },
    {
     "name": "stdout",
     "output_type": "stream",
     "text": [
      "Test loss: 68689.0079\n"
     ]
    },
    {
     "name": "stderr",
     "output_type": "stream",
     "text": [
      "\n",
      "  0%|          | 0/8 [00:00<?, ?it/s]\u001b[A\n",
      " 12%|█▎        | 1/8 [00:00<00:03,  1.88it/s]\u001b[A\n",
      " 25%|██▌       | 2/8 [00:01<00:03,  1.94it/s]\u001b[A\n",
      " 38%|███▊      | 3/8 [00:01<00:02,  2.00it/s]\u001b[A\n",
      " 50%|█████     | 4/8 [00:01<00:01,  2.03it/s]\u001b[A\n",
      " 62%|██████▎   | 5/8 [00:02<00:01,  2.06it/s]\u001b[A\n",
      " 75%|███████▌  | 6/8 [00:02<00:00,  2.08it/s]\u001b[A\n",
      " 88%|████████▊ | 7/8 [00:03<00:00,  2.14it/s]\u001b[A\n",
      "100%|██████████| 8/8 [00:03<00:00,  2.19it/s]\u001b[A\n",
      "  0%|          | 0/8 [00:00<?, ?it/s]\u001b[A"
     ]
    },
    {
     "name": "stdout",
     "output_type": "stream",
     "text": [
      "Epoch: 57 Train loss: 68578.7734\n"
     ]
    },
    {
     "name": "stderr",
     "output_type": "stream",
     "text": [
      "\n",
      " 12%|█▎        | 1/8 [00:00<00:02,  2.39it/s]\u001b[A\n",
      " 25%|██▌       | 2/8 [00:00<00:02,  2.51it/s]\u001b[A\n",
      " 38%|███▊      | 3/8 [00:01<00:01,  2.59it/s]\u001b[A\n",
      " 50%|█████     | 4/8 [00:01<00:01,  2.66it/s]\u001b[A\n",
      " 62%|██████▎   | 5/8 [00:01<00:01,  2.71it/s]\u001b[A\n",
      " 75%|███████▌  | 6/8 [00:02<00:00,  2.75it/s]\u001b[A\n",
      " 88%|████████▊ | 7/8 [00:02<00:00,  2.86it/s]\u001b[A\n",
      "100%|██████████| 8/8 [00:02<00:00,  2.94it/s]\u001b[A"
     ]
    },
    {
     "name": "stdout",
     "output_type": "stream",
     "text": [
      "Test loss: 68523.1319\n"
     ]
    },
    {
     "name": "stderr",
     "output_type": "stream",
     "text": [
      "\n",
      "  0%|          | 0/8 [00:00<?, ?it/s]\u001b[A\n",
      " 12%|█▎        | 1/8 [00:00<00:03,  1.87it/s]\u001b[A\n",
      " 25%|██▌       | 2/8 [00:01<00:03,  1.94it/s]\u001b[A\n",
      " 38%|███▊      | 3/8 [00:01<00:02,  1.97it/s]\u001b[A\n",
      " 50%|█████     | 4/8 [00:01<00:01,  2.01it/s]\u001b[A\n",
      " 62%|██████▎   | 5/8 [00:02<00:01,  2.04it/s]\u001b[A\n",
      " 75%|███████▌  | 6/8 [00:02<00:00,  2.07it/s]\u001b[A\n",
      " 88%|████████▊ | 7/8 [00:03<00:00,  2.13it/s]\u001b[A\n",
      "100%|██████████| 8/8 [00:03<00:00,  2.18it/s]\u001b[A\n",
      "  0%|          | 0/8 [00:00<?, ?it/s]\u001b[A"
     ]
    },
    {
     "name": "stdout",
     "output_type": "stream",
     "text": [
      "Epoch: 58 Train loss: 68427.6922\n"
     ]
    },
    {
     "name": "stderr",
     "output_type": "stream",
     "text": [
      "\n",
      " 12%|█▎        | 1/8 [00:00<00:02,  2.38it/s]\u001b[A\n",
      " 25%|██▌       | 2/8 [00:00<00:02,  2.49it/s]\u001b[A\n",
      " 38%|███▊      | 3/8 [00:01<00:01,  2.58it/s]\u001b[A\n",
      " 50%|█████     | 4/8 [00:01<00:01,  2.65it/s]\u001b[A\n",
      " 62%|██████▎   | 5/8 [00:01<00:01,  2.70it/s]\u001b[A\n",
      " 75%|███████▌  | 6/8 [00:02<00:00,  2.73it/s]\u001b[A\n",
      " 88%|████████▊ | 7/8 [00:02<00:00,  2.84it/s]\u001b[A\n",
      "100%|██████████| 8/8 [00:02<00:00,  2.93it/s]\u001b[A"
     ]
    },
    {
     "name": "stdout",
     "output_type": "stream",
     "text": [
      "Test loss: 68567.3179\n"
     ]
    },
    {
     "name": "stderr",
     "output_type": "stream",
     "text": [
      "\n",
      "  0%|          | 0/8 [00:00<?, ?it/s]\u001b[A\n",
      " 12%|█▎        | 1/8 [00:00<00:03,  1.86it/s]\u001b[A\n",
      " 25%|██▌       | 2/8 [00:01<00:03,  1.93it/s]\u001b[A\n",
      " 38%|███▊      | 3/8 [00:01<00:02,  1.98it/s]\u001b[A\n",
      " 50%|█████     | 4/8 [00:01<00:01,  2.02it/s]\u001b[A\n",
      " 62%|██████▎   | 5/8 [00:02<00:01,  2.05it/s]\u001b[A\n",
      " 75%|███████▌  | 6/8 [00:02<00:00,  2.07it/s]\u001b[A\n",
      " 88%|████████▊ | 7/8 [00:03<00:00,  2.13it/s]\u001b[A\n",
      "100%|██████████| 8/8 [00:03<00:00,  2.18it/s]\u001b[A\n",
      "  0%|          | 0/8 [00:00<?, ?it/s]\u001b[A"
     ]
    },
    {
     "name": "stdout",
     "output_type": "stream",
     "text": [
      "Epoch: 59 Train loss: 68647.8929\n"
     ]
    },
    {
     "name": "stderr",
     "output_type": "stream",
     "text": [
      "\n",
      " 12%|█▎        | 1/8 [00:00<00:02,  2.42it/s]\u001b[A\n",
      " 25%|██▌       | 2/8 [00:00<00:02,  2.53it/s]\u001b[A\n",
      " 38%|███▊      | 3/8 [00:01<00:01,  2.62it/s]\u001b[A\n",
      " 50%|█████     | 4/8 [00:01<00:01,  2.68it/s]\u001b[A\n",
      " 62%|██████▎   | 5/8 [00:01<00:01,  2.72it/s]\u001b[A\n",
      " 75%|███████▌  | 6/8 [00:02<00:00,  2.75it/s]\u001b[A\n",
      " 88%|████████▊ | 7/8 [00:02<00:00,  2.86it/s]\u001b[A\n",
      "100%|██████████| 8/8 [00:02<00:00,  2.94it/s]\u001b[A"
     ]
    },
    {
     "name": "stdout",
     "output_type": "stream",
     "text": [
      "Test loss: 68818.0966\n"
     ]
    },
    {
     "name": "stderr",
     "output_type": "stream",
     "text": [
      "\n",
      "  0%|          | 0/8 [00:00<?, ?it/s]\u001b[A\n",
      " 12%|█▎        | 1/8 [00:00<00:03,  1.79it/s]\u001b[A\n",
      " 25%|██▌       | 2/8 [00:01<00:03,  1.88it/s]\u001b[A\n",
      " 38%|███▊      | 3/8 [00:01<00:02,  1.95it/s]\u001b[A\n",
      " 50%|█████     | 4/8 [00:01<00:01,  2.00it/s]\u001b[A\n",
      " 62%|██████▎   | 5/8 [00:02<00:01,  2.04it/s]\u001b[A\n",
      " 75%|███████▌  | 6/8 [00:02<00:00,  2.06it/s]\u001b[A\n",
      " 88%|████████▊ | 7/8 [00:03<00:00,  2.13it/s]\u001b[A\n",
      "100%|██████████| 8/8 [00:03<00:00,  2.18it/s]\u001b[A\n",
      "  0%|          | 0/8 [00:00<?, ?it/s]\u001b[A"
     ]
    },
    {
     "name": "stdout",
     "output_type": "stream",
     "text": [
      "Epoch: 60 Train loss: 68554.6895\n"
     ]
    },
    {
     "name": "stderr",
     "output_type": "stream",
     "text": [
      "\n",
      " 12%|█▎        | 1/8 [00:00<00:02,  2.41it/s]\u001b[A\n",
      " 25%|██▌       | 2/8 [00:00<00:02,  2.52it/s]\u001b[A\n",
      " 38%|███▊      | 3/8 [00:01<00:01,  2.61it/s]\u001b[A\n",
      " 50%|█████     | 4/8 [00:01<00:01,  2.68it/s]\u001b[A\n",
      " 62%|██████▎   | 5/8 [00:01<00:01,  2.73it/s]\u001b[A\n",
      " 75%|███████▌  | 6/8 [00:02<00:00,  2.74it/s]\u001b[A\n",
      " 88%|████████▊ | 7/8 [00:02<00:00,  2.83it/s]\u001b[A\n",
      "100%|██████████| 8/8 [00:02<00:00,  2.92it/s]\u001b[A"
     ]
    },
    {
     "name": "stdout",
     "output_type": "stream",
     "text": [
      "Test loss: 68559.1514\n"
     ]
    },
    {
     "name": "stderr",
     "output_type": "stream",
     "text": [
      "\n",
      "  0%|          | 0/8 [00:00<?, ?it/s]\u001b[A\n",
      " 12%|█▎        | 1/8 [00:00<00:03,  1.89it/s]\u001b[A\n",
      " 25%|██▌       | 2/8 [00:01<00:03,  1.95it/s]\u001b[A\n",
      " 38%|███▊      | 3/8 [00:01<00:02,  1.99it/s]\u001b[A\n",
      " 50%|█████     | 4/8 [00:01<00:01,  2.03it/s]\u001b[A\n",
      " 62%|██████▎   | 5/8 [00:02<00:01,  2.06it/s]\u001b[A\n",
      " 75%|███████▌  | 6/8 [00:02<00:00,  2.08it/s]\u001b[A\n",
      " 88%|████████▊ | 7/8 [00:03<00:00,  2.14it/s]\u001b[A\n",
      "100%|██████████| 8/8 [00:03<00:00,  2.18it/s]\u001b[A\n",
      "  0%|          | 0/8 [00:00<?, ?it/s]\u001b[A"
     ]
    },
    {
     "name": "stdout",
     "output_type": "stream",
     "text": [
      "Epoch: 61 Train loss: 68334.6026\n"
     ]
    },
    {
     "name": "stderr",
     "output_type": "stream",
     "text": [
      "\n",
      " 12%|█▎        | 1/8 [00:00<00:03,  2.31it/s]\u001b[A\n",
      " 25%|██▌       | 2/8 [00:00<00:02,  2.44it/s]\u001b[A\n",
      " 38%|███▊      | 3/8 [00:01<00:01,  2.55it/s]\u001b[A\n",
      " 50%|█████     | 4/8 [00:01<00:01,  2.63it/s]\u001b[A\n",
      " 62%|██████▎   | 5/8 [00:01<00:01,  2.68it/s]\u001b[A\n",
      " 75%|███████▌  | 6/8 [00:02<00:00,  2.73it/s]\u001b[A\n",
      " 88%|████████▊ | 7/8 [00:02<00:00,  2.85it/s]\u001b[A\n",
      "100%|██████████| 8/8 [00:02<00:00,  2.92it/s]\u001b[A"
     ]
    },
    {
     "name": "stdout",
     "output_type": "stream",
     "text": [
      "Test loss: 68567.9220\n"
     ]
    },
    {
     "name": "stderr",
     "output_type": "stream",
     "text": [
      "\n",
      "  0%|          | 0/8 [00:00<?, ?it/s]\u001b[A\n",
      " 12%|█▎        | 1/8 [00:00<00:03,  1.89it/s]\u001b[A\n",
      " 25%|██▌       | 2/8 [00:01<00:03,  1.96it/s]\u001b[A\n",
      " 38%|███▊      | 3/8 [00:01<00:02,  1.99it/s]\u001b[A\n",
      " 50%|█████     | 4/8 [00:01<00:01,  2.03it/s]\u001b[A\n",
      " 62%|██████▎   | 5/8 [00:02<00:01,  2.06it/s]\u001b[A\n",
      " 75%|███████▌  | 6/8 [00:02<00:00,  2.08it/s]\u001b[A\n",
      " 88%|████████▊ | 7/8 [00:03<00:00,  2.13it/s]\u001b[A\n",
      "100%|██████████| 8/8 [00:03<00:00,  2.17it/s]\u001b[A\n",
      "  0%|          | 0/8 [00:00<?, ?it/s]\u001b[A"
     ]
    },
    {
     "name": "stdout",
     "output_type": "stream",
     "text": [
      "Epoch: 62 Train loss: 68642.9494\n"
     ]
    },
    {
     "name": "stderr",
     "output_type": "stream",
     "text": [
      "\n",
      " 12%|█▎        | 1/8 [00:00<00:02,  2.39it/s]\u001b[A\n",
      " 25%|██▌       | 2/8 [00:00<00:02,  2.50it/s]\u001b[A\n",
      " 38%|███▊      | 3/8 [00:01<00:01,  2.59it/s]\u001b[A\n",
      " 50%|█████     | 4/8 [00:01<00:01,  2.66it/s]\u001b[A\n",
      " 62%|██████▎   | 5/8 [00:01<00:01,  2.71it/s]\u001b[A\n",
      " 75%|███████▌  | 6/8 [00:02<00:00,  2.74it/s]\u001b[A\n",
      " 88%|████████▊ | 7/8 [00:02<00:00,  2.85it/s]\u001b[A\n",
      "100%|██████████| 8/8 [00:02<00:00,  2.93it/s]\u001b[A"
     ]
    },
    {
     "name": "stdout",
     "output_type": "stream",
     "text": [
      "Test loss: 68964.3575\n"
     ]
    },
    {
     "name": "stderr",
     "output_type": "stream",
     "text": [
      "\n",
      "  0%|          | 0/8 [00:00<?, ?it/s]\u001b[A\n",
      " 12%|█▎        | 1/8 [00:00<00:03,  1.80it/s]\u001b[A\n",
      " 25%|██▌       | 2/8 [00:01<00:03,  1.87it/s]\u001b[A\n",
      " 38%|███▊      | 3/8 [00:01<00:02,  1.94it/s]\u001b[A\n",
      " 50%|█████     | 4/8 [00:01<00:02,  1.99it/s]\u001b[A\n",
      " 62%|██████▎   | 5/8 [00:02<00:01,  2.02it/s]\u001b[A\n",
      " 75%|███████▌  | 6/8 [00:02<00:00,  2.05it/s]\u001b[A\n",
      " 88%|████████▊ | 7/8 [00:03<00:00,  2.12it/s]\u001b[A\n",
      "100%|██████████| 8/8 [00:03<00:00,  2.17it/s]\u001b[A\n",
      "  0%|          | 0/8 [00:00<?, ?it/s]\u001b[A"
     ]
    },
    {
     "name": "stdout",
     "output_type": "stream",
     "text": [
      "Epoch: 63 Train loss: 68701.2653\n"
     ]
    },
    {
     "name": "stderr",
     "output_type": "stream",
     "text": [
      "\n",
      " 12%|█▎        | 1/8 [00:00<00:02,  2.40it/s]\u001b[A\n",
      " 25%|██▌       | 2/8 [00:00<00:02,  2.47it/s]\u001b[A\n",
      " 38%|███▊      | 3/8 [00:01<00:01,  2.56it/s]\u001b[A\n",
      " 50%|█████     | 4/8 [00:01<00:01,  2.64it/s]\u001b[A\n",
      " 62%|██████▎   | 5/8 [00:01<00:01,  2.69it/s]\u001b[A\n",
      " 75%|███████▌  | 6/8 [00:02<00:00,  2.74it/s]\u001b[A\n",
      " 88%|████████▊ | 7/8 [00:02<00:00,  2.85it/s]\u001b[A\n",
      "100%|██████████| 8/8 [00:02<00:00,  2.94it/s]\u001b[A"
     ]
    },
    {
     "name": "stdout",
     "output_type": "stream",
     "text": [
      "Test loss: 68754.2106\n"
     ]
    },
    {
     "name": "stderr",
     "output_type": "stream",
     "text": [
      "\n",
      "  0%|          | 0/8 [00:00<?, ?it/s]\u001b[A\n",
      " 12%|█▎        | 1/8 [00:00<00:03,  1.88it/s]\u001b[A\n",
      " 25%|██▌       | 2/8 [00:00<00:03,  1.96it/s]\u001b[A\n",
      " 38%|███▊      | 3/8 [00:01<00:02,  1.98it/s]\u001b[A\n",
      " 50%|█████     | 4/8 [00:01<00:01,  2.02it/s]\u001b[A\n",
      " 62%|██████▎   | 5/8 [00:02<00:01,  2.05it/s]\u001b[A\n",
      " 75%|███████▌  | 6/8 [00:02<00:00,  2.07it/s]\u001b[A\n",
      " 88%|████████▊ | 7/8 [00:03<00:00,  2.13it/s]\u001b[A\n",
      "100%|██████████| 8/8 [00:03<00:00,  2.18it/s]\u001b[A\n",
      "  0%|          | 0/8 [00:00<?, ?it/s]\u001b[A"
     ]
    },
    {
     "name": "stdout",
     "output_type": "stream",
     "text": [
      "Epoch: 64 Train loss: 68643.6941\n"
     ]
    },
    {
     "name": "stderr",
     "output_type": "stream",
     "text": [
      "\n",
      " 12%|█▎        | 1/8 [00:00<00:03,  2.08it/s]\u001b[A\n",
      " 25%|██▌       | 2/8 [00:00<00:02,  2.26it/s]\u001b[A\n",
      " 38%|███▊      | 3/8 [00:01<00:02,  2.40it/s]\u001b[A\n",
      " 50%|█████     | 4/8 [00:01<00:01,  2.52it/s]\u001b[A\n",
      " 62%|██████▎   | 5/8 [00:01<00:01,  2.61it/s]\u001b[A\n",
      " 75%|███████▌  | 6/8 [00:02<00:00,  2.67it/s]\u001b[A\n",
      " 88%|████████▊ | 7/8 [00:02<00:00,  2.80it/s]\u001b[A\n",
      "100%|██████████| 8/8 [00:02<00:00,  2.89it/s]\u001b[A"
     ]
    },
    {
     "name": "stdout",
     "output_type": "stream",
     "text": [
      "Test loss: 68511.9021\n"
     ]
    },
    {
     "name": "stderr",
     "output_type": "stream",
     "text": [
      "\n",
      "  0%|          | 0/8 [00:00<?, ?it/s]\u001b[A\n",
      " 12%|█▎        | 1/8 [00:00<00:03,  1.87it/s]\u001b[A\n",
      " 25%|██▌       | 2/8 [00:01<00:03,  1.94it/s]\u001b[A\n",
      " 38%|███▊      | 3/8 [00:01<00:02,  1.99it/s]\u001b[A\n",
      " 50%|█████     | 4/8 [00:01<00:01,  2.03it/s]\u001b[A\n",
      " 62%|██████▎   | 5/8 [00:02<00:01,  2.06it/s]\u001b[A\n",
      " 75%|███████▌  | 6/8 [00:02<00:00,  2.08it/s]\u001b[A\n",
      " 88%|████████▊ | 7/8 [00:03<00:00,  2.15it/s]\u001b[A\n",
      "100%|██████████| 8/8 [00:03<00:00,  2.19it/s]\u001b[A\n",
      "  0%|          | 0/8 [00:00<?, ?it/s]\u001b[A"
     ]
    },
    {
     "name": "stdout",
     "output_type": "stream",
     "text": [
      "Epoch: 65 Train loss: 68612.3135\n"
     ]
    },
    {
     "name": "stderr",
     "output_type": "stream",
     "text": [
      "\n",
      " 12%|█▎        | 1/8 [00:00<00:02,  2.38it/s]\u001b[A\n",
      " 25%|██▌       | 2/8 [00:00<00:02,  2.50it/s]\u001b[A\n",
      " 38%|███▊      | 3/8 [00:01<00:01,  2.59it/s]\u001b[A\n",
      " 50%|█████     | 4/8 [00:01<00:01,  2.66it/s]\u001b[A\n",
      " 62%|██████▎   | 5/8 [00:01<00:01,  2.72it/s]\u001b[A\n",
      " 75%|███████▌  | 6/8 [00:02<00:00,  2.75it/s]\u001b[A\n",
      " 88%|████████▊ | 7/8 [00:02<00:00,  2.87it/s]\u001b[A\n",
      "100%|██████████| 8/8 [00:02<00:00,  2.95it/s]\u001b[A"
     ]
    },
    {
     "name": "stdout",
     "output_type": "stream",
     "text": [
      "Test loss: 68317.3444\n"
     ]
    },
    {
     "name": "stderr",
     "output_type": "stream",
     "text": [
      "\n",
      "  0%|          | 0/8 [00:00<?, ?it/s]\u001b[A\n",
      " 12%|█▎        | 1/8 [00:00<00:03,  1.86it/s]\u001b[A\n",
      " 25%|██▌       | 2/8 [00:01<00:03,  1.92it/s]\u001b[A\n",
      " 38%|███▊      | 3/8 [00:01<00:02,  1.98it/s]\u001b[A\n",
      " 50%|█████     | 4/8 [00:01<00:01,  2.02it/s]\u001b[A\n",
      " 62%|██████▎   | 5/8 [00:02<00:01,  2.05it/s]\u001b[A\n",
      " 75%|███████▌  | 6/8 [00:02<00:00,  2.07it/s]\u001b[A\n",
      " 88%|████████▊ | 7/8 [00:03<00:00,  2.13it/s]\u001b[A\n",
      "100%|██████████| 8/8 [00:03<00:00,  2.18it/s]\u001b[A\n",
      "  0%|          | 0/8 [00:00<?, ?it/s]\u001b[A"
     ]
    },
    {
     "name": "stdout",
     "output_type": "stream",
     "text": [
      "Epoch: 66 Train loss: 68566.7519\n"
     ]
    },
    {
     "name": "stderr",
     "output_type": "stream",
     "text": [
      "\n",
      " 12%|█▎        | 1/8 [00:00<00:03,  2.22it/s]\u001b[A\n",
      " 25%|██▌       | 2/8 [00:00<00:02,  2.37it/s]\u001b[A\n",
      " 38%|███▊      | 3/8 [00:01<00:02,  2.47it/s]\u001b[A\n",
      " 50%|█████     | 4/8 [00:01<00:01,  2.57it/s]\u001b[A\n",
      " 62%|██████▎   | 5/8 [00:01<00:01,  2.64it/s]\u001b[A\n",
      " 75%|███████▌  | 6/8 [00:02<00:00,  2.70it/s]\u001b[A\n",
      " 88%|████████▊ | 7/8 [00:02<00:00,  2.82it/s]\u001b[A\n",
      "100%|██████████| 8/8 [00:02<00:00,  2.91it/s]\u001b[A"
     ]
    },
    {
     "name": "stdout",
     "output_type": "stream",
     "text": [
      "Test loss: 68306.0491\n"
     ]
    },
    {
     "name": "stderr",
     "output_type": "stream",
     "text": [
      "\n",
      "  0%|          | 0/8 [00:00<?, ?it/s]\u001b[A\n",
      " 12%|█▎        | 1/8 [00:00<00:03,  1.89it/s]\u001b[A\n",
      " 25%|██▌       | 2/8 [00:01<00:03,  1.95it/s]\u001b[A\n",
      " 38%|███▊      | 3/8 [00:01<00:02,  2.00it/s]\u001b[A\n",
      " 50%|█████     | 4/8 [00:01<00:01,  2.03it/s]\u001b[A\n",
      " 62%|██████▎   | 5/8 [00:02<00:01,  2.06it/s]\u001b[A\n",
      " 75%|███████▌  | 6/8 [00:02<00:00,  2.08it/s]\u001b[A\n",
      " 88%|████████▊ | 7/8 [00:03<00:00,  2.14it/s]\u001b[A\n",
      "100%|██████████| 8/8 [00:03<00:00,  2.18it/s]\u001b[A\n",
      "  0%|          | 0/8 [00:00<?, ?it/s]\u001b[A"
     ]
    },
    {
     "name": "stdout",
     "output_type": "stream",
     "text": [
      "Epoch: 67 Train loss: 68582.5622\n"
     ]
    },
    {
     "name": "stderr",
     "output_type": "stream",
     "text": [
      "\n",
      " 12%|█▎        | 1/8 [00:00<00:03,  2.24it/s]\u001b[A\n",
      " 25%|██▌       | 2/8 [00:00<00:02,  2.39it/s]\u001b[A\n",
      " 38%|███▊      | 3/8 [00:01<00:01,  2.50it/s]\u001b[A\n",
      " 50%|█████     | 4/8 [00:01<00:01,  2.59it/s]\u001b[A\n",
      " 62%|██████▎   | 5/8 [00:01<00:01,  2.66it/s]\u001b[A\n",
      " 75%|███████▌  | 6/8 [00:02<00:00,  2.71it/s]\u001b[A\n",
      " 88%|████████▊ | 7/8 [00:02<00:00,  2.82it/s]\u001b[A\n",
      "100%|██████████| 8/8 [00:02<00:00,  2.92it/s]\u001b[A"
     ]
    },
    {
     "name": "stdout",
     "output_type": "stream",
     "text": [
      "Test loss: 68493.7583\n"
     ]
    },
    {
     "name": "stderr",
     "output_type": "stream",
     "text": [
      "\n",
      "  0%|          | 0/8 [00:00<?, ?it/s]\u001b[A\n",
      " 12%|█▎        | 1/8 [00:00<00:03,  1.87it/s]\u001b[A\n",
      " 25%|██▌       | 2/8 [00:01<00:03,  1.93it/s]\u001b[A\n",
      " 38%|███▊      | 3/8 [00:01<00:02,  1.99it/s]\u001b[A\n",
      " 50%|█████     | 4/8 [00:01<00:01,  2.02it/s]\u001b[A\n",
      " 62%|██████▎   | 5/8 [00:02<00:01,  2.05it/s]\u001b[A\n",
      " 75%|███████▌  | 6/8 [00:02<00:00,  2.07it/s]\u001b[A\n",
      " 88%|████████▊ | 7/8 [00:03<00:00,  2.13it/s]\u001b[A\n",
      "100%|██████████| 8/8 [00:03<00:00,  2.18it/s]\u001b[A\n",
      "  0%|          | 0/8 [00:00<?, ?it/s]\u001b[A"
     ]
    },
    {
     "name": "stdout",
     "output_type": "stream",
     "text": [
      "Epoch: 68 Train loss: 68435.8176\n"
     ]
    },
    {
     "name": "stderr",
     "output_type": "stream",
     "text": [
      "\n",
      " 12%|█▎        | 1/8 [00:00<00:02,  2.38it/s]\u001b[A\n",
      " 25%|██▌       | 2/8 [00:00<00:02,  2.49it/s]\u001b[A\n",
      " 38%|███▊      | 3/8 [00:01<00:01,  2.58it/s]\u001b[A\n",
      " 50%|█████     | 4/8 [00:01<00:01,  2.66it/s]\u001b[A\n",
      " 62%|██████▎   | 5/8 [00:01<00:01,  2.70it/s]\u001b[A\n",
      " 75%|███████▌  | 6/8 [00:02<00:00,  2.74it/s]\u001b[A\n",
      " 88%|████████▊ | 7/8 [00:02<00:00,  2.85it/s]\u001b[A\n",
      "100%|██████████| 8/8 [00:02<00:00,  2.93it/s]\u001b[A"
     ]
    },
    {
     "name": "stdout",
     "output_type": "stream",
     "text": [
      "Test loss: 68821.9850\n"
     ]
    },
    {
     "name": "stderr",
     "output_type": "stream",
     "text": [
      "\n",
      "  0%|          | 0/8 [00:00<?, ?it/s]\u001b[A\n",
      " 12%|█▎        | 1/8 [00:00<00:03,  1.76it/s]\u001b[A\n",
      " 25%|██▌       | 2/8 [00:01<00:03,  1.85it/s]\u001b[A\n",
      " 38%|███▊      | 3/8 [00:01<00:02,  1.92it/s]\u001b[A\n",
      " 50%|█████     | 4/8 [00:01<00:02,  1.98it/s]\u001b[A\n",
      " 62%|██████▎   | 5/8 [00:02<00:01,  2.02it/s]\u001b[A\n",
      " 75%|███████▌  | 6/8 [00:02<00:00,  2.04it/s]\u001b[A\n",
      " 88%|████████▊ | 7/8 [00:03<00:00,  2.11it/s]\u001b[A\n",
      "100%|██████████| 8/8 [00:03<00:00,  2.16it/s]\u001b[A\n",
      "  0%|          | 0/8 [00:00<?, ?it/s]\u001b[A"
     ]
    },
    {
     "name": "stdout",
     "output_type": "stream",
     "text": [
      "Epoch: 69 Train loss: 68620.0019\n"
     ]
    },
    {
     "name": "stderr",
     "output_type": "stream",
     "text": [
      "\n",
      " 12%|█▎        | 1/8 [00:00<00:02,  2.44it/s]\u001b[A\n",
      " 25%|██▌       | 2/8 [00:00<00:02,  2.54it/s]\u001b[A\n",
      " 38%|███▊      | 3/8 [00:01<00:01,  2.62it/s]\u001b[A\n",
      " 50%|█████     | 4/8 [00:01<00:01,  2.68it/s]\u001b[A\n",
      " 62%|██████▎   | 5/8 [00:01<00:01,  2.73it/s]\u001b[A\n",
      " 75%|███████▌  | 6/8 [00:02<00:00,  2.76it/s]\u001b[A\n",
      " 88%|████████▊ | 7/8 [00:02<00:00,  2.84it/s]\u001b[A\n",
      "100%|██████████| 8/8 [00:02<00:00,  2.91it/s]\u001b[A"
     ]
    },
    {
     "name": "stdout",
     "output_type": "stream",
     "text": [
      "Test loss: 68637.8135\n"
     ]
    },
    {
     "name": "stderr",
     "output_type": "stream",
     "text": [
      "\n",
      "  0%|          | 0/8 [00:00<?, ?it/s]\u001b[A\n",
      " 12%|█▎        | 1/8 [00:00<00:03,  1.87it/s]\u001b[A\n",
      " 25%|██▌       | 2/8 [00:01<00:03,  1.94it/s]\u001b[A\n",
      " 38%|███▊      | 3/8 [00:01<00:02,  1.99it/s]\u001b[A\n",
      " 50%|█████     | 4/8 [00:01<00:01,  2.02it/s]\u001b[A\n",
      " 62%|██████▎   | 5/8 [00:02<00:01,  2.05it/s]\u001b[A\n",
      " 75%|███████▌  | 6/8 [00:02<00:00,  2.06it/s]\u001b[A\n",
      " 88%|████████▊ | 7/8 [00:03<00:00,  2.12it/s]\u001b[A\n",
      "100%|██████████| 8/8 [00:03<00:00,  2.17it/s]\u001b[A\n",
      "  0%|          | 0/8 [00:00<?, ?it/s]\u001b[A"
     ]
    },
    {
     "name": "stdout",
     "output_type": "stream",
     "text": [
      "Epoch: 70 Train loss: 68726.0251\n"
     ]
    },
    {
     "name": "stderr",
     "output_type": "stream",
     "text": [
      "\n",
      " 12%|█▎        | 1/8 [00:00<00:02,  2.37it/s]\u001b[A\n",
      " 25%|██▌       | 2/8 [00:00<00:02,  2.49it/s]\u001b[A\n",
      " 38%|███▊      | 3/8 [00:01<00:01,  2.57it/s]\u001b[A\n",
      " 50%|█████     | 4/8 [00:01<00:01,  2.65it/s]\u001b[A\n",
      " 62%|██████▎   | 5/8 [00:01<00:01,  2.70it/s]\u001b[A\n",
      " 75%|███████▌  | 6/8 [00:02<00:00,  2.71it/s]\u001b[A\n",
      " 88%|████████▊ | 7/8 [00:02<00:00,  2.79it/s]\u001b[A\n",
      "100%|██████████| 8/8 [00:02<00:00,  2.88it/s]\u001b[A"
     ]
    },
    {
     "name": "stdout",
     "output_type": "stream",
     "text": [
      "Test loss: 68719.4972\n"
     ]
    },
    {
     "name": "stderr",
     "output_type": "stream",
     "text": [
      "\n",
      "  0%|          | 0/8 [00:00<?, ?it/s]\u001b[A\n",
      " 12%|█▎        | 1/8 [00:00<00:03,  1.84it/s]\u001b[A\n",
      " 25%|██▌       | 2/8 [00:01<00:03,  1.92it/s]\u001b[A\n",
      " 38%|███▊      | 3/8 [00:01<00:02,  1.97it/s]\u001b[A\n",
      " 50%|█████     | 4/8 [00:01<00:02,  2.00it/s]\u001b[A\n",
      " 62%|██████▎   | 5/8 [00:02<00:01,  2.03it/s]\u001b[A\n",
      " 75%|███████▌  | 6/8 [00:02<00:00,  2.05it/s]\u001b[A\n",
      " 88%|████████▊ | 7/8 [00:03<00:00,  2.12it/s]\u001b[A\n",
      "100%|██████████| 8/8 [00:03<00:00,  2.17it/s]\u001b[A\n",
      "  0%|          | 0/8 [00:00<?, ?it/s]\u001b[A"
     ]
    },
    {
     "name": "stdout",
     "output_type": "stream",
     "text": [
      "Epoch: 71 Train loss: 68549.1649\n"
     ]
    },
    {
     "name": "stderr",
     "output_type": "stream",
     "text": [
      "\n",
      " 12%|█▎        | 1/8 [00:00<00:02,  2.38it/s]\u001b[A\n",
      " 25%|██▌       | 2/8 [00:00<00:02,  2.50it/s]\u001b[A\n",
      " 38%|███▊      | 3/8 [00:01<00:01,  2.59it/s]\u001b[A\n",
      " 50%|█████     | 4/8 [00:01<00:01,  2.66it/s]\u001b[A\n",
      " 62%|██████▎   | 5/8 [00:01<00:01,  2.70it/s]\u001b[A\n",
      " 75%|███████▌  | 6/8 [00:02<00:00,  2.73it/s]\u001b[A\n",
      " 88%|████████▊ | 7/8 [00:02<00:00,  2.84it/s]\u001b[A\n",
      "100%|██████████| 8/8 [00:02<00:00,  2.92it/s]\u001b[A"
     ]
    },
    {
     "name": "stdout",
     "output_type": "stream",
     "text": [
      "Test loss: 68657.1294\n"
     ]
    },
    {
     "name": "stderr",
     "output_type": "stream",
     "text": [
      "\n",
      "  0%|          | 0/8 [00:00<?, ?it/s]\u001b[A\n",
      " 12%|█▎        | 1/8 [00:00<00:03,  1.87it/s]\u001b[A\n",
      " 25%|██▌       | 2/8 [00:01<00:03,  1.93it/s]\u001b[A\n",
      " 38%|███▊      | 3/8 [00:01<00:02,  1.98it/s]\u001b[A\n",
      " 50%|█████     | 4/8 [00:01<00:01,  2.02it/s]\u001b[A\n",
      " 62%|██████▎   | 5/8 [00:02<00:01,  2.05it/s]\u001b[A\n",
      " 75%|███████▌  | 6/8 [00:02<00:00,  2.07it/s]\u001b[A\n",
      " 88%|████████▊ | 7/8 [00:03<00:00,  2.13it/s]\u001b[A\n",
      "100%|██████████| 8/8 [00:03<00:00,  2.17it/s]\u001b[A\n",
      "  0%|          | 0/8 [00:00<?, ?it/s]\u001b[A"
     ]
    },
    {
     "name": "stdout",
     "output_type": "stream",
     "text": [
      "Epoch: 72 Train loss: 68494.1424\n"
     ]
    },
    {
     "name": "stderr",
     "output_type": "stream",
     "text": [
      "\n",
      " 12%|█▎        | 1/8 [00:00<00:02,  2.40it/s]\u001b[A\n",
      " 25%|██▌       | 2/8 [00:00<00:02,  2.51it/s]\u001b[A\n",
      " 38%|███▊      | 3/8 [00:01<00:01,  2.60it/s]\u001b[A\n",
      " 50%|█████     | 4/8 [00:01<00:01,  2.67it/s]\u001b[A\n",
      " 62%|██████▎   | 5/8 [00:01<00:01,  2.71it/s]\u001b[A\n",
      " 75%|███████▌  | 6/8 [00:02<00:00,  2.75it/s]\u001b[A\n",
      " 88%|████████▊ | 7/8 [00:02<00:00,  2.85it/s]\u001b[A\n",
      "100%|██████████| 8/8 [00:02<00:00,  2.93it/s]\u001b[A"
     ]
    },
    {
     "name": "stdout",
     "output_type": "stream",
     "text": [
      "Test loss: 68838.8222\n"
     ]
    },
    {
     "name": "stderr",
     "output_type": "stream",
     "text": [
      "\n",
      "  0%|          | 0/8 [00:00<?, ?it/s]\u001b[A\n",
      " 12%|█▎        | 1/8 [00:00<00:03,  1.85it/s]\u001b[A\n",
      " 25%|██▌       | 2/8 [00:01<00:03,  1.92it/s]\u001b[A\n",
      " 38%|███▊      | 3/8 [00:01<00:02,  1.98it/s]\u001b[A\n",
      " 50%|█████     | 4/8 [00:01<00:01,  2.01it/s]\u001b[A\n",
      " 62%|██████▎   | 5/8 [00:02<00:01,  2.04it/s]\u001b[A\n",
      " 75%|███████▌  | 6/8 [00:02<00:00,  2.07it/s]\u001b[A\n",
      " 88%|████████▊ | 7/8 [00:03<00:00,  2.13it/s]\u001b[A\n",
      "100%|██████████| 8/8 [00:03<00:00,  2.18it/s]\u001b[A\n",
      "  0%|          | 0/8 [00:00<?, ?it/s]\u001b[A"
     ]
    },
    {
     "name": "stdout",
     "output_type": "stream",
     "text": [
      "Epoch: 73 Train loss: 68476.0574\n"
     ]
    },
    {
     "name": "stderr",
     "output_type": "stream",
     "text": [
      "\n",
      " 12%|█▎        | 1/8 [00:00<00:02,  2.38it/s]\u001b[A\n",
      " 25%|██▌       | 2/8 [00:00<00:02,  2.50it/s]\u001b[A\n",
      " 38%|███▊      | 3/8 [00:01<00:01,  2.59it/s]\u001b[A\n",
      " 50%|█████     | 4/8 [00:01<00:01,  2.66it/s]\u001b[A\n",
      " 62%|██████▎   | 5/8 [00:01<00:01,  2.71it/s]\u001b[A\n",
      " 75%|███████▌  | 6/8 [00:02<00:00,  2.75it/s]\u001b[A\n",
      " 88%|████████▊ | 7/8 [00:02<00:00,  2.86it/s]\u001b[A\n",
      "100%|██████████| 8/8 [00:02<00:00,  2.94it/s]\u001b[A"
     ]
    },
    {
     "name": "stdout",
     "output_type": "stream",
     "text": [
      "Test loss: 68492.7366\n"
     ]
    },
    {
     "name": "stderr",
     "output_type": "stream",
     "text": [
      "\n",
      "  0%|          | 0/8 [00:00<?, ?it/s]\u001b[A\n",
      " 12%|█▎        | 1/8 [00:00<00:03,  1.85it/s]\u001b[A\n",
      " 25%|██▌       | 2/8 [00:01<00:03,  1.92it/s]\u001b[A\n",
      " 38%|███▊      | 3/8 [00:01<00:02,  1.98it/s]\u001b[A\n",
      " 50%|█████     | 4/8 [00:01<00:01,  2.02it/s]\u001b[A\n",
      " 62%|██████▎   | 5/8 [00:02<00:01,  2.05it/s]\u001b[A\n",
      " 75%|███████▌  | 6/8 [00:02<00:00,  2.07it/s]\u001b[A\n",
      " 88%|████████▊ | 7/8 [00:03<00:00,  2.13it/s]\u001b[A\n",
      "100%|██████████| 8/8 [00:03<00:00,  2.18it/s]\u001b[A\n",
      "  0%|          | 0/8 [00:00<?, ?it/s]\u001b[A"
     ]
    },
    {
     "name": "stdout",
     "output_type": "stream",
     "text": [
      "Epoch: 74 Train loss: 68675.3442\n"
     ]
    },
    {
     "name": "stderr",
     "output_type": "stream",
     "text": [
      "\n",
      " 12%|█▎        | 1/8 [00:00<00:02,  2.39it/s]\u001b[A\n",
      " 25%|██▌       | 2/8 [00:00<00:02,  2.50it/s]\u001b[A\n",
      " 38%|███▊      | 3/8 [00:01<00:01,  2.59it/s]\u001b[A\n",
      " 50%|█████     | 4/8 [00:01<00:01,  2.65it/s]\u001b[A\n",
      " 62%|██████▎   | 5/8 [00:01<00:01,  2.76it/s]\u001b[A\n",
      " 75%|███████▌  | 6/8 [00:02<00:00,  2.78it/s]\u001b[A\n",
      " 88%|████████▊ | 7/8 [00:02<00:00,  2.88it/s]\u001b[A\n",
      "100%|██████████| 8/8 [00:02<00:00,  2.95it/s]\u001b[A"
     ]
    },
    {
     "name": "stdout",
     "output_type": "stream",
     "text": [
      "Test loss: 68538.0095\n"
     ]
    },
    {
     "name": "stderr",
     "output_type": "stream",
     "text": [
      "\n",
      "  0%|          | 0/8 [00:00<?, ?it/s]\u001b[A\n",
      " 12%|█▎        | 1/8 [00:00<00:03,  1.87it/s]\u001b[A\n",
      " 25%|██▌       | 2/8 [00:01<00:03,  1.94it/s]\u001b[A\n",
      " 38%|███▊      | 3/8 [00:01<00:02,  1.99it/s]\u001b[A\n",
      " 50%|█████     | 4/8 [00:01<00:01,  2.02it/s]\u001b[A\n",
      " 62%|██████▎   | 5/8 [00:02<00:01,  2.05it/s]\u001b[A\n",
      " 75%|███████▌  | 6/8 [00:02<00:00,  2.07it/s]\u001b[A\n",
      " 88%|████████▊ | 7/8 [00:03<00:00,  2.13it/s]\u001b[A\n",
      "100%|██████████| 8/8 [00:03<00:00,  2.18it/s]\u001b[A\n",
      "  0%|          | 0/8 [00:00<?, ?it/s]\u001b[A"
     ]
    },
    {
     "name": "stdout",
     "output_type": "stream",
     "text": [
      "Epoch: 75 Train loss: 68692.1933\n"
     ]
    },
    {
     "name": "stderr",
     "output_type": "stream",
     "text": [
      "\n",
      " 12%|█▎        | 1/8 [00:00<00:02,  2.41it/s]\u001b[A\n",
      " 25%|██▌       | 2/8 [00:00<00:02,  2.58it/s]\u001b[A\n",
      " 38%|███▊      | 3/8 [00:01<00:01,  2.64it/s]\u001b[A\n",
      " 50%|█████     | 4/8 [00:01<00:01,  2.69it/s]\u001b[A\n",
      " 62%|██████▎   | 5/8 [00:01<00:01,  2.73it/s]\u001b[A\n",
      " 75%|███████▌  | 6/8 [00:02<00:00,  2.81it/s]\u001b[A\n",
      " 88%|████████▊ | 7/8 [00:02<00:00,  2.90it/s]\u001b[A\n",
      "100%|██████████| 8/8 [00:02<00:00,  2.96it/s]\u001b[A"
     ]
    },
    {
     "name": "stdout",
     "output_type": "stream",
     "text": [
      "Test loss: 68514.4447\n"
     ]
    },
    {
     "name": "stderr",
     "output_type": "stream",
     "text": [
      "\n",
      "  0%|          | 0/8 [00:00<?, ?it/s]\u001b[A\n",
      " 12%|█▎        | 1/8 [00:00<00:03,  1.86it/s]\u001b[A\n",
      " 25%|██▌       | 2/8 [00:01<00:03,  1.92it/s]\u001b[A\n",
      " 38%|███▊      | 3/8 [00:01<00:02,  1.98it/s]\u001b[A\n",
      " 50%|█████     | 4/8 [00:01<00:01,  2.02it/s]\u001b[A\n",
      " 62%|██████▎   | 5/8 [00:02<00:01,  2.05it/s]\u001b[A\n",
      " 75%|███████▌  | 6/8 [00:02<00:00,  2.07it/s]\u001b[A\n",
      " 88%|████████▊ | 7/8 [00:03<00:00,  2.13it/s]\u001b[A\n",
      "100%|██████████| 8/8 [00:03<00:00,  2.18it/s]\u001b[A\n",
      "  0%|          | 0/8 [00:00<?, ?it/s]\u001b[A"
     ]
    },
    {
     "name": "stdout",
     "output_type": "stream",
     "text": [
      "Epoch: 76 Train loss: 68586.9662\n"
     ]
    },
    {
     "name": "stderr",
     "output_type": "stream",
     "text": [
      "\n",
      " 12%|█▎        | 1/8 [00:00<00:02,  2.39it/s]\u001b[A\n",
      " 25%|██▌       | 2/8 [00:00<00:02,  2.50it/s]\u001b[A\n",
      " 38%|███▊      | 3/8 [00:01<00:01,  2.59it/s]\u001b[A\n",
      " 50%|█████     | 4/8 [00:01<00:01,  2.66it/s]\u001b[A\n",
      " 62%|██████▎   | 5/8 [00:01<00:01,  2.71it/s]\u001b[A\n",
      " 75%|███████▌  | 6/8 [00:02<00:00,  2.79it/s]\u001b[A\n",
      " 88%|████████▊ | 7/8 [00:02<00:00,  2.89it/s]\u001b[A\n",
      "100%|██████████| 8/8 [00:02<00:00,  2.96it/s]\u001b[A"
     ]
    },
    {
     "name": "stdout",
     "output_type": "stream",
     "text": [
      "Test loss: 68479.5503\n"
     ]
    },
    {
     "name": "stderr",
     "output_type": "stream",
     "text": [
      "\n",
      "  0%|          | 0/8 [00:00<?, ?it/s]\u001b[A\n",
      " 12%|█▎        | 1/8 [00:00<00:03,  1.87it/s]\u001b[A\n",
      " 25%|██▌       | 2/8 [00:01<00:03,  1.94it/s]\u001b[A\n",
      " 38%|███▊      | 3/8 [00:01<00:02,  1.99it/s]\u001b[A\n",
      " 50%|█████     | 4/8 [00:01<00:01,  2.03it/s]\u001b[A\n",
      " 62%|██████▎   | 5/8 [00:02<00:01,  2.06it/s]\u001b[A\n",
      " 75%|███████▌  | 6/8 [00:02<00:00,  2.08it/s]\u001b[A\n",
      " 88%|████████▊ | 7/8 [00:03<00:00,  2.14it/s]\u001b[A\n",
      "100%|██████████| 8/8 [00:03<00:00,  2.18it/s]\u001b[A\n",
      "  0%|          | 0/8 [00:00<?, ?it/s]\u001b[A"
     ]
    },
    {
     "name": "stdout",
     "output_type": "stream",
     "text": [
      "Epoch: 77 Train loss: 68479.5974\n"
     ]
    },
    {
     "name": "stderr",
     "output_type": "stream",
     "text": [
      "\n",
      " 12%|█▎        | 1/8 [00:00<00:02,  2.40it/s]\u001b[A\n",
      " 25%|██▌       | 2/8 [00:00<00:02,  2.51it/s]\u001b[A\n",
      " 38%|███▊      | 3/8 [00:01<00:01,  2.60it/s]\u001b[A\n",
      " 50%|█████     | 4/8 [00:01<00:01,  2.67it/s]\u001b[A\n",
      " 62%|██████▎   | 5/8 [00:01<00:01,  2.71it/s]\u001b[A\n",
      " 75%|███████▌  | 6/8 [00:02<00:00,  2.75it/s]\u001b[A\n",
      " 88%|████████▊ | 7/8 [00:02<00:00,  2.86it/s]\u001b[A\n",
      "100%|██████████| 8/8 [00:02<00:00,  2.95it/s]\u001b[A"
     ]
    },
    {
     "name": "stdout",
     "output_type": "stream",
     "text": [
      "Test loss: 68618.7700\n"
     ]
    },
    {
     "name": "stderr",
     "output_type": "stream",
     "text": [
      "\n",
      "  0%|          | 0/8 [00:00<?, ?it/s]\u001b[A\n",
      " 12%|█▎        | 1/8 [00:00<00:03,  1.88it/s]\u001b[A\n",
      " 25%|██▌       | 2/8 [00:01<00:03,  1.94it/s]\u001b[A\n",
      " 38%|███▊      | 3/8 [00:01<00:02,  2.00it/s]\u001b[A\n",
      " 50%|█████     | 4/8 [00:01<00:01,  2.03it/s]\u001b[A\n",
      " 62%|██████▎   | 5/8 [00:02<00:01,  2.06it/s]\u001b[A\n",
      " 75%|███████▌  | 6/8 [00:02<00:00,  2.08it/s]\u001b[A\n",
      " 88%|████████▊ | 7/8 [00:03<00:00,  2.14it/s]\u001b[A\n",
      "100%|██████████| 8/8 [00:03<00:00,  2.18it/s]\u001b[A\n",
      "  0%|          | 0/8 [00:00<?, ?it/s]\u001b[A"
     ]
    },
    {
     "name": "stdout",
     "output_type": "stream",
     "text": [
      "Epoch: 78 Train loss: 68436.8384\n"
     ]
    },
    {
     "name": "stderr",
     "output_type": "stream",
     "text": [
      "\n",
      " 12%|█▎        | 1/8 [00:00<00:02,  2.41it/s]\u001b[A\n",
      " 25%|██▌       | 2/8 [00:00<00:02,  2.52it/s]\u001b[A\n",
      " 38%|███▊      | 3/8 [00:01<00:01,  2.60it/s]\u001b[A\n",
      " 50%|█████     | 4/8 [00:01<00:01,  2.67it/s]\u001b[A\n",
      " 62%|██████▎   | 5/8 [00:01<00:01,  2.71it/s]\u001b[A\n",
      " 75%|███████▌  | 6/8 [00:02<00:00,  2.75it/s]\u001b[A\n",
      " 88%|████████▊ | 7/8 [00:02<00:00,  2.86it/s]\u001b[A\n",
      "100%|██████████| 8/8 [00:02<00:00,  2.94it/s]\u001b[A"
     ]
    },
    {
     "name": "stdout",
     "output_type": "stream",
     "text": [
      "Test loss: 68801.7334\n"
     ]
    },
    {
     "name": "stderr",
     "output_type": "stream",
     "text": [
      "\n",
      "  0%|          | 0/8 [00:00<?, ?it/s]\u001b[A\n",
      " 12%|█▎        | 1/8 [00:00<00:03,  1.83it/s]\u001b[A\n",
      " 25%|██▌       | 2/8 [00:01<00:03,  1.91it/s]\u001b[A\n",
      " 38%|███▊      | 3/8 [00:01<00:02,  1.97it/s]\u001b[A\n",
      " 50%|█████     | 4/8 [00:01<00:01,  2.01it/s]\u001b[A\n",
      " 62%|██████▎   | 5/8 [00:02<00:01,  2.05it/s]\u001b[A\n",
      " 75%|███████▌  | 6/8 [00:02<00:00,  2.07it/s]\u001b[A\n",
      " 88%|████████▊ | 7/8 [00:03<00:00,  2.13it/s]\u001b[A\n",
      "100%|██████████| 8/8 [00:03<00:00,  2.18it/s]\u001b[A\n",
      "  0%|          | 0/8 [00:00<?, ?it/s]\u001b[A"
     ]
    },
    {
     "name": "stdout",
     "output_type": "stream",
     "text": [
      "Epoch: 79 Train loss: 68483.6001\n"
     ]
    },
    {
     "name": "stderr",
     "output_type": "stream",
     "text": [
      "\n",
      " 12%|█▎        | 1/8 [00:00<00:03,  2.26it/s]\u001b[A\n",
      " 25%|██▌       | 2/8 [00:00<00:02,  2.41it/s]\u001b[A\n",
      " 38%|███▊      | 3/8 [00:01<00:01,  2.52it/s]\u001b[A\n",
      " 50%|█████     | 4/8 [00:01<00:01,  2.61it/s]\u001b[A\n",
      " 62%|██████▎   | 5/8 [00:01<00:01,  2.68it/s]\u001b[A\n",
      " 75%|███████▌  | 6/8 [00:02<00:00,  2.73it/s]\u001b[A\n",
      " 88%|████████▊ | 7/8 [00:02<00:00,  2.85it/s]\u001b[A\n",
      "100%|██████████| 8/8 [00:02<00:00,  2.94it/s]\u001b[A"
     ]
    },
    {
     "name": "stdout",
     "output_type": "stream",
     "text": [
      "Test loss: 68738.5981\n"
     ]
    },
    {
     "name": "stderr",
     "output_type": "stream",
     "text": [
      "\n",
      "  0%|          | 0/8 [00:00<?, ?it/s]\u001b[A\n",
      " 12%|█▎        | 1/8 [00:00<00:03,  1.83it/s]\u001b[A\n",
      " 25%|██▌       | 2/8 [00:01<00:03,  1.90it/s]\u001b[A\n",
      " 38%|███▊      | 3/8 [00:01<00:02,  1.96it/s]\u001b[A\n",
      " 50%|█████     | 4/8 [00:01<00:01,  2.01it/s]\u001b[A\n",
      " 62%|██████▎   | 5/8 [00:02<00:01,  2.04it/s]\u001b[A\n",
      " 75%|███████▌  | 6/8 [00:02<00:00,  2.07it/s]\u001b[A\n",
      " 88%|████████▊ | 7/8 [00:03<00:00,  2.13it/s]\u001b[A\n",
      "100%|██████████| 8/8 [00:03<00:00,  2.18it/s]\u001b[A\n",
      "  0%|          | 0/8 [00:00<?, ?it/s]\u001b[A"
     ]
    },
    {
     "name": "stdout",
     "output_type": "stream",
     "text": [
      "Epoch: 80 Train loss: 68811.6531\n"
     ]
    },
    {
     "name": "stderr",
     "output_type": "stream",
     "text": [
      "\n",
      " 12%|█▎        | 1/8 [00:00<00:03,  2.31it/s]\u001b[A\n",
      " 25%|██▌       | 2/8 [00:00<00:02,  2.47it/s]\u001b[A\n",
      " 38%|███▊      | 3/8 [00:01<00:01,  2.56it/s]\u001b[A\n",
      " 50%|█████     | 4/8 [00:01<00:01,  2.61it/s]\u001b[A\n",
      " 62%|██████▎   | 5/8 [00:01<00:01,  2.71it/s]\u001b[A\n",
      " 75%|███████▌  | 6/8 [00:02<00:00,  2.76it/s]\u001b[A\n",
      " 88%|████████▊ | 7/8 [00:02<00:00,  2.85it/s]\u001b[A\n",
      "100%|██████████| 8/8 [00:02<00:00,  2.92it/s]\u001b[A"
     ]
    },
    {
     "name": "stdout",
     "output_type": "stream",
     "text": [
      "Test loss: 68716.0053\n"
     ]
    },
    {
     "name": "stderr",
     "output_type": "stream",
     "text": [
      "\n",
      "  0%|          | 0/8 [00:00<?, ?it/s]\u001b[A\n",
      " 12%|█▎        | 1/8 [00:00<00:03,  1.93it/s]\u001b[A\n",
      " 25%|██▌       | 2/8 [00:00<00:02,  2.01it/s]\u001b[A\n",
      " 38%|███▊      | 3/8 [00:01<00:02,  2.04it/s]\u001b[A\n",
      " 50%|█████     | 4/8 [00:01<00:01,  2.06it/s]\u001b[A\n",
      " 62%|██████▎   | 5/8 [00:02<00:01,  2.08it/s]\u001b[A\n",
      " 75%|███████▌  | 6/8 [00:02<00:00,  2.09it/s]\u001b[A\n",
      " 88%|████████▊ | 7/8 [00:03<00:00,  2.14it/s]\u001b[A\n",
      "100%|██████████| 8/8 [00:03<00:00,  2.18it/s]\u001b[A\n",
      "  0%|          | 0/8 [00:00<?, ?it/s]\u001b[A"
     ]
    },
    {
     "name": "stdout",
     "output_type": "stream",
     "text": [
      "Epoch: 81 Train loss: 68692.0120\n"
     ]
    },
    {
     "name": "stderr",
     "output_type": "stream",
     "text": [
      "\n",
      " 12%|█▎        | 1/8 [00:00<00:03,  2.17it/s]\u001b[A\n",
      " 25%|██▌       | 2/8 [00:00<00:02,  2.32it/s]\u001b[A\n",
      " 38%|███▊      | 3/8 [00:01<00:02,  2.45it/s]\u001b[A\n",
      " 50%|█████     | 4/8 [00:01<00:01,  2.55it/s]\u001b[A\n",
      " 62%|██████▎   | 5/8 [00:01<00:01,  2.62it/s]\u001b[A\n",
      " 75%|███████▌  | 6/8 [00:02<00:00,  2.68it/s]\u001b[A\n",
      " 88%|████████▊ | 7/8 [00:02<00:00,  2.80it/s]\u001b[A\n",
      "100%|██████████| 8/8 [00:02<00:00,  2.89it/s]\u001b[A"
     ]
    },
    {
     "name": "stdout",
     "output_type": "stream",
     "text": [
      "Test loss: 68438.9121\n"
     ]
    },
    {
     "name": "stderr",
     "output_type": "stream",
     "text": [
      "\n",
      "  0%|          | 0/8 [00:00<?, ?it/s]\u001b[A\n",
      " 12%|█▎        | 1/8 [00:00<00:03,  1.86it/s]\u001b[A\n",
      " 25%|██▌       | 2/8 [00:01<00:03,  1.93it/s]\u001b[A\n",
      " 38%|███▊      | 3/8 [00:01<00:02,  1.98it/s]\u001b[A\n",
      " 50%|█████     | 4/8 [00:01<00:01,  2.03it/s]\u001b[A\n",
      " 62%|██████▎   | 5/8 [00:02<00:01,  2.06it/s]\u001b[A\n",
      " 75%|███████▌  | 6/8 [00:02<00:00,  2.07it/s]\u001b[A\n",
      " 88%|████████▊ | 7/8 [00:03<00:00,  2.13it/s]\u001b[A\n",
      "100%|██████████| 8/8 [00:03<00:00,  2.18it/s]\u001b[A\n",
      "  0%|          | 0/8 [00:00<?, ?it/s]\u001b[A"
     ]
    },
    {
     "name": "stdout",
     "output_type": "stream",
     "text": [
      "Epoch: 82 Train loss: 68568.3091\n"
     ]
    },
    {
     "name": "stderr",
     "output_type": "stream",
     "text": [
      "\n",
      " 12%|█▎        | 1/8 [00:00<00:02,  2.39it/s]\u001b[A\n",
      " 25%|██▌       | 2/8 [00:00<00:02,  2.50it/s]\u001b[A\n",
      " 38%|███▊      | 3/8 [00:01<00:01,  2.59it/s]\u001b[A\n",
      " 50%|█████     | 4/8 [00:01<00:01,  2.66it/s]\u001b[A\n",
      " 62%|██████▎   | 5/8 [00:01<00:01,  2.70it/s]\u001b[A\n",
      " 75%|███████▌  | 6/8 [00:02<00:00,  2.74it/s]\u001b[A\n",
      " 88%|████████▊ | 7/8 [00:02<00:00,  2.85it/s]\u001b[A\n",
      "100%|██████████| 8/8 [00:02<00:00,  2.93it/s]\u001b[A"
     ]
    },
    {
     "name": "stdout",
     "output_type": "stream",
     "text": [
      "Test loss: 68648.4415\n"
     ]
    },
    {
     "name": "stderr",
     "output_type": "stream",
     "text": [
      "\n",
      "  0%|          | 0/8 [00:00<?, ?it/s]\u001b[A\n",
      " 12%|█▎        | 1/8 [00:00<00:03,  1.80it/s]\u001b[A\n",
      " 25%|██▌       | 2/8 [00:01<00:03,  1.88it/s]\u001b[A\n",
      " 38%|███▊      | 3/8 [00:01<00:02,  1.94it/s]\u001b[A\n",
      " 50%|█████     | 4/8 [00:02<00:02,  1.96it/s]\u001b[A\n",
      " 62%|██████▎   | 5/8 [00:02<00:01,  2.02it/s]\u001b[A\n",
      " 75%|███████▌  | 6/8 [00:02<00:00,  2.05it/s]\u001b[A\n",
      " 88%|████████▊ | 7/8 [00:03<00:00,  2.11it/s]\u001b[A\n",
      "100%|██████████| 8/8 [00:03<00:00,  2.16it/s]\u001b[A\n",
      "  0%|          | 0/8 [00:00<?, ?it/s]\u001b[A"
     ]
    },
    {
     "name": "stdout",
     "output_type": "stream",
     "text": [
      "Epoch: 83 Train loss: 68711.5441\n"
     ]
    },
    {
     "name": "stderr",
     "output_type": "stream",
     "text": [
      "\n",
      " 12%|█▎        | 1/8 [00:00<00:02,  2.40it/s]\u001b[A\n",
      " 25%|██▌       | 2/8 [00:00<00:02,  2.51it/s]\u001b[A\n",
      " 38%|███▊      | 3/8 [00:01<00:01,  2.59it/s]\u001b[A\n",
      " 50%|█████     | 4/8 [00:01<00:01,  2.64it/s]\u001b[A\n",
      " 62%|██████▎   | 5/8 [00:01<00:01,  2.69it/s]\u001b[A\n",
      " 75%|███████▌  | 6/8 [00:02<00:00,  2.74it/s]\u001b[A\n",
      " 88%|████████▊ | 7/8 [00:02<00:00,  2.85it/s]\u001b[A\n",
      "100%|██████████| 8/8 [00:02<00:00,  2.93it/s]\u001b[A"
     ]
    },
    {
     "name": "stdout",
     "output_type": "stream",
     "text": [
      "Test loss: 68317.0458\n"
     ]
    },
    {
     "name": "stderr",
     "output_type": "stream",
     "text": [
      "\n",
      "  0%|          | 0/8 [00:00<?, ?it/s]\u001b[A\n",
      " 12%|█▎        | 1/8 [00:00<00:04,  1.74it/s]\u001b[A\n",
      " 25%|██▌       | 2/8 [00:01<00:03,  1.84it/s]\u001b[A\n",
      " 38%|███▊      | 3/8 [00:01<00:02,  1.91it/s]\u001b[A\n",
      " 50%|█████     | 4/8 [00:01<00:02,  1.97it/s]\u001b[A\n",
      " 62%|██████▎   | 5/8 [00:02<00:01,  2.01it/s]\u001b[A\n",
      " 75%|███████▌  | 6/8 [00:02<00:00,  2.03it/s]\u001b[A\n",
      " 88%|████████▊ | 7/8 [00:03<00:00,  2.10it/s]\u001b[A\n",
      "100%|██████████| 8/8 [00:03<00:00,  2.15it/s]\u001b[A\n",
      "  0%|          | 0/8 [00:00<?, ?it/s]\u001b[A"
     ]
    },
    {
     "name": "stdout",
     "output_type": "stream",
     "text": [
      "Epoch: 84 Train loss: 68478.3621\n"
     ]
    },
    {
     "name": "stderr",
     "output_type": "stream",
     "text": [
      "\n",
      " 12%|█▎        | 1/8 [00:00<00:03,  2.23it/s]\u001b[A\n",
      " 25%|██▌       | 2/8 [00:00<00:02,  2.38it/s]\u001b[A\n",
      " 38%|███▊      | 3/8 [00:01<00:02,  2.50it/s]\u001b[A\n",
      " 50%|█████     | 4/8 [00:01<00:01,  2.59it/s]\u001b[A\n",
      " 62%|██████▎   | 5/8 [00:01<00:01,  2.66it/s]\u001b[A\n",
      " 75%|███████▌  | 6/8 [00:02<00:00,  2.72it/s]\u001b[A\n",
      " 88%|████████▊ | 7/8 [00:02<00:00,  2.83it/s]\u001b[A\n",
      "100%|██████████| 8/8 [00:02<00:00,  2.92it/s]\u001b[A"
     ]
    },
    {
     "name": "stdout",
     "output_type": "stream",
     "text": [
      "Test loss: 68459.0089\n"
     ]
    },
    {
     "name": "stderr",
     "output_type": "stream",
     "text": [
      "\n",
      "  0%|          | 0/8 [00:00<?, ?it/s]\u001b[A\n",
      " 12%|█▎        | 1/8 [00:00<00:03,  1.87it/s]\u001b[A\n",
      " 25%|██▌       | 2/8 [00:01<00:03,  1.94it/s]\u001b[A\n",
      " 38%|███▊      | 3/8 [00:01<00:02,  1.99it/s]\u001b[A\n",
      " 50%|█████     | 4/8 [00:01<00:01,  2.03it/s]\u001b[A\n",
      " 62%|██████▎   | 5/8 [00:02<00:01,  2.06it/s]\u001b[A\n",
      " 75%|███████▌  | 6/8 [00:02<00:00,  2.08it/s]\u001b[A\n",
      " 88%|████████▊ | 7/8 [00:03<00:00,  2.13it/s]\u001b[A\n",
      "100%|██████████| 8/8 [00:03<00:00,  2.18it/s]\u001b[A\n",
      "  0%|          | 0/8 [00:00<?, ?it/s]\u001b[A"
     ]
    },
    {
     "name": "stdout",
     "output_type": "stream",
     "text": [
      "Epoch: 85 Train loss: 68524.0152\n"
     ]
    },
    {
     "name": "stderr",
     "output_type": "stream",
     "text": [
      "\n",
      " 12%|█▎        | 1/8 [00:00<00:02,  2.36it/s]\u001b[A\n",
      " 25%|██▌       | 2/8 [00:00<00:02,  2.48it/s]\u001b[A\n",
      " 38%|███▊      | 3/8 [00:01<00:01,  2.57it/s]\u001b[A\n",
      " 50%|█████     | 4/8 [00:01<00:01,  2.65it/s]\u001b[A\n",
      " 62%|██████▎   | 5/8 [00:01<00:01,  2.69it/s]\u001b[A\n",
      " 75%|███████▌  | 6/8 [00:02<00:00,  2.73it/s]\u001b[A\n",
      " 88%|████████▊ | 7/8 [00:02<00:00,  2.85it/s]\u001b[A\n",
      "100%|██████████| 8/8 [00:02<00:00,  2.93it/s]\u001b[A"
     ]
    },
    {
     "name": "stdout",
     "output_type": "stream",
     "text": [
      "Test loss: 68529.7202\n"
     ]
    },
    {
     "name": "stderr",
     "output_type": "stream",
     "text": [
      "\n",
      "  0%|          | 0/8 [00:00<?, ?it/s]\u001b[A\n",
      " 12%|█▎        | 1/8 [00:00<00:03,  1.84it/s]\u001b[A\n",
      " 25%|██▌       | 2/8 [00:01<00:03,  1.91it/s]\u001b[A\n",
      " 38%|███▊      | 3/8 [00:01<00:02,  1.97it/s]\u001b[A\n",
      " 50%|█████     | 4/8 [00:01<00:01,  2.01it/s]\u001b[A\n",
      " 62%|██████▎   | 5/8 [00:02<00:01,  2.04it/s]\u001b[A\n",
      " 75%|███████▌  | 6/8 [00:02<00:00,  2.06it/s]\u001b[A\n",
      " 88%|████████▊ | 7/8 [00:03<00:00,  2.12it/s]\u001b[A\n",
      "100%|██████████| 8/8 [00:03<00:00,  2.17it/s]\u001b[A\n",
      "  0%|          | 0/8 [00:00<?, ?it/s]\u001b[A"
     ]
    },
    {
     "name": "stdout",
     "output_type": "stream",
     "text": [
      "Epoch: 86 Train loss: 68560.7821\n"
     ]
    },
    {
     "name": "stderr",
     "output_type": "stream",
     "text": [
      "\n",
      " 12%|█▎        | 1/8 [00:00<00:03,  2.22it/s]\u001b[A\n",
      " 25%|██▌       | 2/8 [00:00<00:02,  2.36it/s]\u001b[A\n",
      " 38%|███▊      | 3/8 [00:01<00:02,  2.49it/s]\u001b[A\n",
      " 50%|█████     | 4/8 [00:01<00:01,  2.58it/s]\u001b[A\n",
      " 62%|██████▎   | 5/8 [00:01<00:01,  2.65it/s]\u001b[A\n",
      " 75%|███████▌  | 6/8 [00:02<00:00,  2.70it/s]\u001b[A\n",
      " 88%|████████▊ | 7/8 [00:02<00:00,  2.82it/s]\u001b[A\n",
      "100%|██████████| 8/8 [00:02<00:00,  2.92it/s]\u001b[A"
     ]
    },
    {
     "name": "stdout",
     "output_type": "stream",
     "text": [
      "Test loss: 68828.0480\n"
     ]
    },
    {
     "name": "stderr",
     "output_type": "stream",
     "text": [
      "\n",
      "  0%|          | 0/8 [00:00<?, ?it/s]\u001b[A\n",
      " 12%|█▎        | 1/8 [00:00<00:03,  1.87it/s]\u001b[A\n",
      " 25%|██▌       | 2/8 [00:01<00:03,  1.94it/s]\u001b[A\n",
      " 38%|███▊      | 3/8 [00:01<00:02,  1.99it/s]\u001b[A\n",
      " 50%|█████     | 4/8 [00:01<00:01,  2.02it/s]\u001b[A\n",
      " 62%|██████▎   | 5/8 [00:02<00:01,  2.05it/s]\u001b[A\n",
      " 75%|███████▌  | 6/8 [00:02<00:00,  2.07it/s]\u001b[A\n",
      " 88%|████████▊ | 7/8 [00:03<00:00,  2.13it/s]\u001b[A\n",
      "100%|██████████| 8/8 [00:03<00:00,  2.18it/s]\u001b[A\n",
      "  0%|          | 0/8 [00:00<?, ?it/s]\u001b[A"
     ]
    },
    {
     "name": "stdout",
     "output_type": "stream",
     "text": [
      "Epoch: 87 Train loss: 68573.3544\n"
     ]
    },
    {
     "name": "stderr",
     "output_type": "stream",
     "text": [
      "\n",
      " 12%|█▎        | 1/8 [00:00<00:02,  2.37it/s]\u001b[A\n",
      " 25%|██▌       | 2/8 [00:00<00:02,  2.49it/s]\u001b[A\n",
      " 38%|███▊      | 3/8 [00:01<00:01,  2.58it/s]\u001b[A\n",
      " 50%|█████     | 4/8 [00:01<00:01,  2.65it/s]\u001b[A\n",
      " 62%|██████▎   | 5/8 [00:01<00:01,  2.70it/s]\u001b[A\n",
      " 75%|███████▌  | 6/8 [00:02<00:00,  2.74it/s]\u001b[A\n",
      " 88%|████████▊ | 7/8 [00:02<00:00,  2.85it/s]\u001b[A\n",
      "100%|██████████| 8/8 [00:02<00:00,  2.93it/s]\u001b[A"
     ]
    },
    {
     "name": "stdout",
     "output_type": "stream",
     "text": [
      "Test loss: 68766.9331\n"
     ]
    },
    {
     "name": "stderr",
     "output_type": "stream",
     "text": [
      "\n",
      "  0%|          | 0/8 [00:00<?, ?it/s]\u001b[A\n",
      " 12%|█▎        | 1/8 [00:00<00:03,  1.85it/s]\u001b[A\n",
      " 25%|██▌       | 2/8 [00:01<00:03,  1.92it/s]\u001b[A\n",
      " 38%|███▊      | 3/8 [00:01<00:02,  1.98it/s]\u001b[A\n",
      " 50%|█████     | 4/8 [00:01<00:01,  2.01it/s]\u001b[A\n",
      " 62%|██████▎   | 5/8 [00:02<00:01,  2.03it/s]\u001b[A\n",
      " 75%|███████▌  | 6/8 [00:02<00:00,  2.05it/s]\u001b[A\n",
      " 88%|████████▊ | 7/8 [00:03<00:00,  2.10it/s]\u001b[A\n",
      "100%|██████████| 8/8 [00:03<00:00,  2.14it/s]\u001b[A\n",
      "  0%|          | 0/8 [00:00<?, ?it/s]\u001b[A"
     ]
    },
    {
     "name": "stdout",
     "output_type": "stream",
     "text": [
      "Epoch: 88 Train loss: 68637.1224\n"
     ]
    },
    {
     "name": "stderr",
     "output_type": "stream",
     "text": [
      "\n",
      " 12%|█▎        | 1/8 [00:00<00:02,  2.35it/s]\u001b[A\n",
      " 25%|██▌       | 2/8 [00:00<00:02,  2.50it/s]\u001b[A\n",
      " 38%|███▊      | 3/8 [00:01<00:01,  2.59it/s]\u001b[A\n",
      " 50%|█████     | 4/8 [00:01<00:01,  2.70it/s]\u001b[A\n",
      " 62%|██████▎   | 5/8 [00:01<00:01,  2.77it/s]\u001b[A\n",
      " 75%|███████▌  | 6/8 [00:02<00:00,  2.82it/s]\u001b[A\n",
      " 88%|████████▊ | 7/8 [00:02<00:00,  2.89it/s]\u001b[A\n",
      "100%|██████████| 8/8 [00:02<00:00,  2.96it/s]\u001b[A"
     ]
    },
    {
     "name": "stdout",
     "output_type": "stream",
     "text": [
      "Test loss: 68790.9414\n"
     ]
    },
    {
     "name": "stderr",
     "output_type": "stream",
     "text": [
      "\n",
      "  0%|          | 0/8 [00:00<?, ?it/s]\u001b[A\n",
      " 12%|█▎        | 1/8 [00:00<00:03,  1.87it/s]\u001b[A\n",
      " 25%|██▌       | 2/8 [00:01<00:03,  1.93it/s]\u001b[A\n",
      " 38%|███▊      | 3/8 [00:01<00:02,  1.98it/s]\u001b[A\n",
      " 50%|█████     | 4/8 [00:01<00:01,  2.02it/s]\u001b[A\n",
      " 62%|██████▎   | 5/8 [00:02<00:01,  2.05it/s]\u001b[A\n",
      " 75%|███████▌  | 6/8 [00:02<00:00,  2.07it/s]\u001b[A\n",
      " 88%|████████▊ | 7/8 [00:03<00:00,  2.13it/s]\u001b[A\n",
      "100%|██████████| 8/8 [00:03<00:00,  2.18it/s]\u001b[A\n",
      "  0%|          | 0/8 [00:00<?, ?it/s]\u001b[A"
     ]
    },
    {
     "name": "stdout",
     "output_type": "stream",
     "text": [
      "Epoch: 89 Train loss: 68615.8285\n"
     ]
    },
    {
     "name": "stderr",
     "output_type": "stream",
     "text": [
      "\n",
      " 12%|█▎        | 1/8 [00:00<00:02,  2.41it/s]\u001b[A\n",
      " 25%|██▌       | 2/8 [00:00<00:02,  2.52it/s]\u001b[A\n",
      " 38%|███▊      | 3/8 [00:01<00:01,  2.57it/s]\u001b[A\n",
      " 50%|█████     | 4/8 [00:01<00:01,  2.62it/s]\u001b[A\n",
      " 62%|██████▎   | 5/8 [00:01<00:01,  2.68it/s]\u001b[A\n",
      " 75%|███████▌  | 6/8 [00:02<00:00,  2.72it/s]\u001b[A\n",
      " 88%|████████▊ | 7/8 [00:02<00:00,  2.83it/s]\u001b[A\n",
      "100%|██████████| 8/8 [00:02<00:00,  2.91it/s]\u001b[A"
     ]
    },
    {
     "name": "stdout",
     "output_type": "stream",
     "text": [
      "Test loss: 68769.3914\n"
     ]
    },
    {
     "name": "stderr",
     "output_type": "stream",
     "text": [
      "\n",
      "  0%|          | 0/8 [00:00<?, ?it/s]\u001b[A\n",
      " 12%|█▎        | 1/8 [00:00<00:03,  1.88it/s]\u001b[A\n",
      " 25%|██▌       | 2/8 [00:01<00:03,  1.93it/s]\u001b[A\n",
      " 38%|███▊      | 3/8 [00:01<00:02,  1.98it/s]\u001b[A\n",
      " 50%|█████     | 4/8 [00:01<00:01,  2.02it/s]\u001b[A\n",
      " 62%|██████▎   | 5/8 [00:02<00:01,  2.05it/s]\u001b[A\n",
      " 75%|███████▌  | 6/8 [00:02<00:00,  2.07it/s]\u001b[A\n",
      " 88%|████████▊ | 7/8 [00:03<00:00,  2.13it/s]\u001b[A\n",
      "100%|██████████| 8/8 [00:03<00:00,  2.17it/s]\u001b[A\n",
      "  0%|          | 0/8 [00:00<?, ?it/s]\u001b[A"
     ]
    },
    {
     "name": "stdout",
     "output_type": "stream",
     "text": [
      "Epoch: 90 Train loss: 68499.5894\n"
     ]
    },
    {
     "name": "stderr",
     "output_type": "stream",
     "text": [
      "\n",
      " 12%|█▎        | 1/8 [00:00<00:03,  2.31it/s]\u001b[A\n",
      " 25%|██▌       | 2/8 [00:00<00:02,  2.44it/s]\u001b[A\n",
      " 38%|███▊      | 3/8 [00:01<00:01,  2.55it/s]\u001b[A\n",
      " 50%|█████     | 4/8 [00:01<00:01,  2.63it/s]\u001b[A\n",
      " 62%|██████▎   | 5/8 [00:01<00:01,  2.69it/s]\u001b[A\n",
      " 75%|███████▌  | 6/8 [00:02<00:00,  2.74it/s]\u001b[A\n",
      " 88%|████████▊ | 7/8 [00:02<00:00,  2.86it/s]\u001b[A\n",
      "100%|██████████| 8/8 [00:02<00:00,  2.93it/s]\u001b[A"
     ]
    },
    {
     "name": "stdout",
     "output_type": "stream",
     "text": [
      "Test loss: 68494.3893\n"
     ]
    },
    {
     "name": "stderr",
     "output_type": "stream",
     "text": [
      "\n",
      "  0%|          | 0/8 [00:00<?, ?it/s]\u001b[A\n",
      " 12%|█▎        | 1/8 [00:00<00:03,  1.89it/s]\u001b[A\n",
      " 25%|██▌       | 2/8 [00:01<00:03,  1.95it/s]\u001b[A\n",
      " 38%|███▊      | 3/8 [00:01<00:02,  2.00it/s]\u001b[A\n",
      " 50%|█████     | 4/8 [00:01<00:01,  2.03it/s]\u001b[A\n",
      " 62%|██████▎   | 5/8 [00:02<00:01,  2.06it/s]\u001b[A\n",
      " 75%|███████▌  | 6/8 [00:02<00:00,  2.08it/s]\u001b[A\n",
      " 88%|████████▊ | 7/8 [00:03<00:00,  2.14it/s]\u001b[A\n",
      "100%|██████████| 8/8 [00:03<00:00,  2.18it/s]\u001b[A\n",
      "  0%|          | 0/8 [00:00<?, ?it/s]\u001b[A"
     ]
    },
    {
     "name": "stdout",
     "output_type": "stream",
     "text": [
      "Epoch: 91 Train loss: 68489.8994\n"
     ]
    },
    {
     "name": "stderr",
     "output_type": "stream",
     "text": [
      "\n",
      " 12%|█▎        | 1/8 [00:00<00:02,  2.41it/s]\u001b[A\n",
      " 25%|██▌       | 2/8 [00:00<00:02,  2.52it/s]\u001b[A\n",
      " 38%|███▊      | 3/8 [00:01<00:01,  2.61it/s]\u001b[A\n",
      " 50%|█████     | 4/8 [00:01<00:01,  2.68it/s]\u001b[A\n",
      " 62%|██████▎   | 5/8 [00:01<00:01,  2.72it/s]\u001b[A\n",
      " 75%|███████▌  | 6/8 [00:02<00:00,  2.76it/s]\u001b[A\n",
      " 88%|████████▊ | 7/8 [00:02<00:00,  2.86it/s]\u001b[A\n",
      "100%|██████████| 8/8 [00:02<00:00,  2.93it/s]\u001b[A"
     ]
    },
    {
     "name": "stdout",
     "output_type": "stream",
     "text": [
      "Test loss: 68572.8601\n"
     ]
    },
    {
     "name": "stderr",
     "output_type": "stream",
     "text": [
      "\n",
      "  0%|          | 0/8 [00:00<?, ?it/s]\u001b[A\n",
      " 12%|█▎        | 1/8 [00:00<00:03,  1.90it/s]\u001b[A\n",
      " 25%|██▌       | 2/8 [00:01<00:03,  1.96it/s]\u001b[A\n",
      " 38%|███▊      | 3/8 [00:01<00:02,  2.00it/s]\u001b[A\n",
      " 50%|█████     | 4/8 [00:01<00:01,  2.04it/s]\u001b[A\n",
      " 62%|██████▎   | 5/8 [00:02<00:01,  2.06it/s]\u001b[A\n",
      " 75%|███████▌  | 6/8 [00:02<00:00,  2.08it/s]\u001b[A\n",
      " 88%|████████▊ | 7/8 [00:03<00:00,  2.14it/s]\u001b[A\n",
      "100%|██████████| 8/8 [00:03<00:00,  2.18it/s]\u001b[A\n",
      "  0%|          | 0/8 [00:00<?, ?it/s]\u001b[A"
     ]
    },
    {
     "name": "stdout",
     "output_type": "stream",
     "text": [
      "Epoch: 92 Train loss: 68644.8034\n"
     ]
    },
    {
     "name": "stderr",
     "output_type": "stream",
     "text": [
      "\n",
      " 12%|█▎        | 1/8 [00:00<00:02,  2.43it/s]\u001b[A\n",
      " 25%|██▌       | 2/8 [00:00<00:02,  2.54it/s]\u001b[A\n",
      " 38%|███▊      | 3/8 [00:01<00:01,  2.62it/s]\u001b[A\n",
      " 50%|█████     | 4/8 [00:01<00:01,  2.68it/s]\u001b[A\n",
      " 62%|██████▎   | 5/8 [00:01<00:01,  2.72it/s]\u001b[A\n",
      " 75%|███████▌  | 6/8 [00:02<00:00,  2.76it/s]\u001b[A\n",
      " 88%|████████▊ | 7/8 [00:02<00:00,  2.87it/s]\u001b[A\n",
      "100%|██████████| 8/8 [00:02<00:00,  2.95it/s]\u001b[A"
     ]
    },
    {
     "name": "stdout",
     "output_type": "stream",
     "text": [
      "Test loss: 68637.1664\n"
     ]
    },
    {
     "name": "stderr",
     "output_type": "stream",
     "text": [
      "\n",
      "  0%|          | 0/8 [00:00<?, ?it/s]\u001b[A\n",
      " 12%|█▎        | 1/8 [00:00<00:03,  1.89it/s]\u001b[A\n",
      " 25%|██▌       | 2/8 [00:01<00:03,  1.95it/s]\u001b[A\n",
      " 38%|███▊      | 3/8 [00:01<00:02,  2.00it/s]\u001b[A\n",
      " 50%|█████     | 4/8 [00:01<00:01,  2.04it/s]\u001b[A\n",
      " 62%|██████▎   | 5/8 [00:02<00:01,  2.07it/s]\u001b[A\n",
      " 75%|███████▌  | 6/8 [00:02<00:00,  2.08it/s]\u001b[A\n",
      " 88%|████████▊ | 7/8 [00:03<00:00,  2.14it/s]\u001b[A\n",
      "100%|██████████| 8/8 [00:03<00:00,  2.19it/s]\u001b[A\n",
      "  0%|          | 0/8 [00:00<?, ?it/s]\u001b[A"
     ]
    },
    {
     "name": "stdout",
     "output_type": "stream",
     "text": [
      "Epoch: 93 Train loss: 68688.9343\n"
     ]
    },
    {
     "name": "stderr",
     "output_type": "stream",
     "text": [
      "\n",
      " 12%|█▎        | 1/8 [00:00<00:02,  2.41it/s]\u001b[A\n",
      " 25%|██▌       | 2/8 [00:00<00:02,  2.52it/s]\u001b[A\n",
      " 38%|███▊      | 3/8 [00:01<00:01,  2.61it/s]\u001b[A\n",
      " 50%|█████     | 4/8 [00:01<00:01,  2.68it/s]\u001b[A\n",
      " 62%|██████▎   | 5/8 [00:01<00:01,  2.73it/s]\u001b[A\n",
      " 75%|███████▌  | 6/8 [00:02<00:00,  2.76it/s]\u001b[A\n",
      " 88%|████████▊ | 7/8 [00:02<00:00,  2.87it/s]\u001b[A\n",
      "100%|██████████| 8/8 [00:02<00:00,  2.95it/s]\u001b[A"
     ]
    },
    {
     "name": "stdout",
     "output_type": "stream",
     "text": [
      "Test loss: 68422.1061\n"
     ]
    },
    {
     "name": "stderr",
     "output_type": "stream",
     "text": [
      "\n",
      "  0%|          | 0/8 [00:00<?, ?it/s]\u001b[A\n",
      " 12%|█▎        | 1/8 [00:00<00:04,  1.65it/s]\u001b[A\n",
      " 25%|██▌       | 2/8 [00:01<00:03,  1.77it/s]\u001b[A\n",
      " 38%|███▊      | 3/8 [00:01<00:02,  1.86it/s]\u001b[A\n",
      " 50%|█████     | 4/8 [00:02<00:02,  1.93it/s]\u001b[A\n",
      " 62%|██████▎   | 5/8 [00:02<00:01,  1.98it/s]\u001b[A\n",
      " 75%|███████▌  | 6/8 [00:02<00:00,  2.02it/s]\u001b[A\n",
      " 88%|████████▊ | 7/8 [00:03<00:00,  2.10it/s]\u001b[A\n",
      "100%|██████████| 8/8 [00:03<00:00,  2.15it/s]\u001b[A\n",
      "  0%|          | 0/8 [00:00<?, ?it/s]\u001b[A"
     ]
    },
    {
     "name": "stdout",
     "output_type": "stream",
     "text": [
      "Epoch: 94 Train loss: 68542.8526\n"
     ]
    },
    {
     "name": "stderr",
     "output_type": "stream",
     "text": [
      "\n",
      " 12%|█▎        | 1/8 [00:00<00:02,  2.41it/s]\u001b[A\n",
      " 25%|██▌       | 2/8 [00:00<00:02,  2.51it/s]\u001b[A\n",
      " 38%|███▊      | 3/8 [00:01<00:01,  2.60it/s]\u001b[A\n",
      " 50%|█████     | 4/8 [00:01<00:01,  2.66it/s]\u001b[A\n",
      " 62%|██████▎   | 5/8 [00:01<00:01,  2.71it/s]\u001b[A\n",
      " 75%|███████▌  | 6/8 [00:02<00:00,  2.75it/s]\u001b[A\n",
      " 88%|████████▊ | 7/8 [00:02<00:00,  2.86it/s]\u001b[A\n",
      "100%|██████████| 8/8 [00:02<00:00,  2.94it/s]\u001b[A"
     ]
    },
    {
     "name": "stdout",
     "output_type": "stream",
     "text": [
      "Test loss: 68780.8443\n"
     ]
    },
    {
     "name": "stderr",
     "output_type": "stream",
     "text": [
      "\n",
      "  0%|          | 0/8 [00:00<?, ?it/s]\u001b[A\n",
      " 12%|█▎        | 1/8 [00:00<00:03,  1.87it/s]\u001b[A\n",
      " 25%|██▌       | 2/8 [00:01<00:03,  1.93it/s]\u001b[A\n",
      " 38%|███▊      | 3/8 [00:01<00:02,  1.99it/s]\u001b[A\n",
      " 50%|█████     | 4/8 [00:01<00:01,  2.03it/s]\u001b[A\n",
      " 62%|██████▎   | 5/8 [00:02<00:01,  2.06it/s]\u001b[A\n",
      " 75%|███████▌  | 6/8 [00:02<00:00,  2.08it/s]\u001b[A\n",
      " 88%|████████▊ | 7/8 [00:03<00:00,  2.14it/s]\u001b[A\n",
      "100%|██████████| 8/8 [00:03<00:00,  2.17it/s]\u001b[A\n",
      "  0%|          | 0/8 [00:00<?, ?it/s]\u001b[A"
     ]
    },
    {
     "name": "stdout",
     "output_type": "stream",
     "text": [
      "Epoch: 95 Train loss: 68657.1377\n"
     ]
    },
    {
     "name": "stderr",
     "output_type": "stream",
     "text": [
      "\n",
      " 12%|█▎        | 1/8 [00:00<00:03,  2.21it/s]\u001b[A\n",
      " 25%|██▌       | 2/8 [00:00<00:02,  2.37it/s]\u001b[A\n",
      " 38%|███▊      | 3/8 [00:01<00:02,  2.49it/s]\u001b[A\n",
      " 50%|█████     | 4/8 [00:01<00:01,  2.59it/s]\u001b[A\n",
      " 62%|██████▎   | 5/8 [00:01<00:01,  2.66it/s]\u001b[A\n",
      " 75%|███████▌  | 6/8 [00:02<00:00,  2.71it/s]\u001b[A\n",
      " 88%|████████▊ | 7/8 [00:02<00:00,  2.84it/s]\u001b[A\n",
      "100%|██████████| 8/8 [00:02<00:00,  2.92it/s]\u001b[A"
     ]
    },
    {
     "name": "stdout",
     "output_type": "stream",
     "text": [
      "Test loss: 69002.8701\n"
     ]
    },
    {
     "name": "stderr",
     "output_type": "stream",
     "text": [
      "\n",
      "  0%|          | 0/8 [00:00<?, ?it/s]\u001b[A\n",
      " 12%|█▎        | 1/8 [00:00<00:03,  1.88it/s]\u001b[A\n",
      " 25%|██▌       | 2/8 [00:01<00:03,  1.94it/s]\u001b[A\n",
      " 38%|███▊      | 3/8 [00:01<00:02,  1.99it/s]\u001b[A\n",
      " 50%|█████     | 4/8 [00:01<00:01,  2.03it/s]\u001b[A\n",
      " 62%|██████▎   | 5/8 [00:02<00:01,  2.06it/s]\u001b[A\n",
      " 75%|███████▌  | 6/8 [00:02<00:00,  2.09it/s]\u001b[A\n",
      " 88%|████████▊ | 7/8 [00:03<00:00,  2.15it/s]\u001b[A\n",
      "100%|██████████| 8/8 [00:03<00:00,  2.19it/s]\u001b[A\n",
      "  0%|          | 0/8 [00:00<?, ?it/s]\u001b[A"
     ]
    },
    {
     "name": "stdout",
     "output_type": "stream",
     "text": [
      "Epoch: 96 Train loss: 68492.2461\n"
     ]
    },
    {
     "name": "stderr",
     "output_type": "stream",
     "text": [
      "\n",
      " 12%|█▎        | 1/8 [00:00<00:02,  2.39it/s]\u001b[A\n",
      " 25%|██▌       | 2/8 [00:00<00:02,  2.51it/s]\u001b[A\n",
      " 38%|███▊      | 3/8 [00:01<00:01,  2.60it/s]\u001b[A\n",
      " 50%|█████     | 4/8 [00:01<00:01,  2.67it/s]\u001b[A\n",
      " 62%|██████▎   | 5/8 [00:01<00:01,  2.72it/s]\u001b[A\n",
      " 75%|███████▌  | 6/8 [00:02<00:00,  2.76it/s]\u001b[A\n",
      " 88%|████████▊ | 7/8 [00:02<00:00,  2.85it/s]\u001b[A\n",
      "100%|██████████| 8/8 [00:02<00:00,  2.92it/s]\u001b[A"
     ]
    },
    {
     "name": "stdout",
     "output_type": "stream",
     "text": [
      "Test loss: 68675.3011\n"
     ]
    },
    {
     "name": "stderr",
     "output_type": "stream",
     "text": [
      "\n",
      "  0%|          | 0/8 [00:00<?, ?it/s]\u001b[A\n",
      " 12%|█▎        | 1/8 [00:00<00:03,  1.88it/s]\u001b[A\n",
      " 25%|██▌       | 2/8 [00:01<00:03,  1.94it/s]\u001b[A\n",
      " 38%|███▊      | 3/8 [00:01<00:02,  1.99it/s]\u001b[A\n",
      " 50%|█████     | 4/8 [00:01<00:01,  2.03it/s]\u001b[A\n",
      " 62%|██████▎   | 5/8 [00:02<00:01,  2.06it/s]\u001b[A\n",
      " 75%|███████▌  | 6/8 [00:02<00:00,  2.07it/s]\u001b[A\n",
      " 88%|████████▊ | 7/8 [00:03<00:00,  2.12it/s]\u001b[A\n",
      "100%|██████████| 8/8 [00:03<00:00,  2.16it/s]\u001b[A\n",
      "  0%|          | 0/8 [00:00<?, ?it/s]\u001b[A"
     ]
    },
    {
     "name": "stdout",
     "output_type": "stream",
     "text": [
      "Epoch: 97 Train loss: 68575.7933\n"
     ]
    },
    {
     "name": "stderr",
     "output_type": "stream",
     "text": [
      "\n",
      " 12%|█▎        | 1/8 [00:00<00:02,  2.37it/s]\u001b[A\n",
      " 25%|██▌       | 2/8 [00:00<00:02,  2.49it/s]\u001b[A\n",
      " 38%|███▊      | 3/8 [00:01<00:01,  2.58it/s]\u001b[A\n",
      " 50%|█████     | 4/8 [00:01<00:01,  2.62it/s]\u001b[A\n",
      " 62%|██████▎   | 5/8 [00:01<00:01,  2.68it/s]\u001b[A\n",
      " 75%|███████▌  | 6/8 [00:02<00:00,  2.71it/s]\u001b[A\n",
      " 88%|████████▊ | 7/8 [00:02<00:00,  2.83it/s]\u001b[A\n",
      "100%|██████████| 8/8 [00:02<00:00,  2.92it/s]\u001b[A"
     ]
    },
    {
     "name": "stdout",
     "output_type": "stream",
     "text": [
      "Test loss: 68575.1098\n"
     ]
    },
    {
     "name": "stderr",
     "output_type": "stream",
     "text": [
      "\n",
      "  0%|          | 0/8 [00:00<?, ?it/s]\u001b[A\n",
      " 12%|█▎        | 1/8 [00:00<00:03,  1.92it/s]\u001b[A\n",
      " 25%|██▌       | 2/8 [00:00<00:03,  1.97it/s]\u001b[A\n",
      " 38%|███▊      | 3/8 [00:01<00:02,  2.02it/s]\u001b[A\n",
      " 50%|█████     | 4/8 [00:01<00:01,  2.05it/s]\u001b[A\n",
      " 62%|██████▎   | 5/8 [00:02<00:01,  2.07it/s]\u001b[A\n",
      " 75%|███████▌  | 6/8 [00:02<00:00,  2.09it/s]\u001b[A\n",
      " 88%|████████▊ | 7/8 [00:03<00:00,  2.15it/s]\u001b[A\n",
      "100%|██████████| 8/8 [00:03<00:00,  2.19it/s]\u001b[A\n",
      "  0%|          | 0/8 [00:00<?, ?it/s]\u001b[A"
     ]
    },
    {
     "name": "stdout",
     "output_type": "stream",
     "text": [
      "Epoch: 98 Train loss: 68733.7191\n"
     ]
    },
    {
     "name": "stderr",
     "output_type": "stream",
     "text": [
      "\n",
      " 12%|█▎        | 1/8 [00:00<00:02,  2.34it/s]\u001b[A\n",
      " 25%|██▌       | 2/8 [00:00<00:02,  2.46it/s]\u001b[A\n",
      " 38%|███▊      | 3/8 [00:01<00:01,  2.56it/s]\u001b[A\n",
      " 50%|█████     | 4/8 [00:01<00:01,  2.64it/s]\u001b[A\n",
      " 62%|██████▎   | 5/8 [00:01<00:01,  2.70it/s]\u001b[A\n",
      " 75%|███████▌  | 6/8 [00:02<00:00,  2.74it/s]\u001b[A\n",
      " 88%|████████▊ | 7/8 [00:02<00:00,  2.85it/s]\u001b[A\n",
      "100%|██████████| 8/8 [00:02<00:00,  2.94it/s]\u001b[A"
     ]
    },
    {
     "name": "stdout",
     "output_type": "stream",
     "text": [
      "Test loss: 68703.7646\n"
     ]
    },
    {
     "name": "stderr",
     "output_type": "stream",
     "text": [
      "\n",
      "  0%|          | 0/8 [00:00<?, ?it/s]\u001b[A\n",
      " 12%|█▎        | 1/8 [00:00<00:03,  1.90it/s]\u001b[A\n",
      " 25%|██▌       | 2/8 [00:00<00:03,  1.96it/s]\u001b[A\n",
      " 38%|███▊      | 3/8 [00:01<00:02,  2.01it/s]\u001b[A\n",
      " 50%|█████     | 4/8 [00:01<00:01,  2.04it/s]\u001b[A\n",
      " 62%|██████▎   | 5/8 [00:02<00:01,  2.06it/s]\u001b[A\n",
      " 75%|███████▌  | 6/8 [00:02<00:00,  2.08it/s]\u001b[A\n",
      " 88%|████████▊ | 7/8 [00:03<00:00,  2.14it/s]\u001b[A\n",
      "100%|██████████| 8/8 [00:03<00:00,  2.18it/s]\u001b[A\n",
      "  0%|          | 0/8 [00:00<?, ?it/s]\u001b[A"
     ]
    },
    {
     "name": "stdout",
     "output_type": "stream",
     "text": [
      "Epoch: 99 Train loss: 68586.5761\n"
     ]
    },
    {
     "name": "stderr",
     "output_type": "stream",
     "text": [
      "\n",
      " 12%|█▎        | 1/8 [00:00<00:02,  2.40it/s]\u001b[A\n",
      " 25%|██▌       | 2/8 [00:00<00:02,  2.52it/s]\u001b[A\n",
      " 38%|███▊      | 3/8 [00:01<00:01,  2.61it/s]\u001b[A\n",
      " 50%|█████     | 4/8 [00:01<00:01,  2.67it/s]\u001b[A\n",
      " 62%|██████▎   | 5/8 [00:01<00:01,  2.72it/s]\u001b[A\n",
      " 75%|███████▌  | 6/8 [00:02<00:00,  2.75it/s]\u001b[A\n",
      " 88%|████████▊ | 7/8 [00:02<00:00,  2.86it/s]\u001b[A\n",
      "100%|██████████| 8/8 [00:02<00:00,  2.94it/s]\u001b[A"
     ]
    },
    {
     "name": "stdout",
     "output_type": "stream",
     "text": [
      "Test loss: 68796.5374\n"
     ]
    },
    {
     "name": "stderr",
     "output_type": "stream",
     "text": [
      "\n",
      "  0%|          | 0/8 [00:00<?, ?it/s]\u001b[A\n",
      " 12%|█▎        | 1/8 [00:00<00:03,  1.87it/s]\u001b[A\n",
      " 25%|██▌       | 2/8 [00:01<00:03,  1.94it/s]\u001b[A\n",
      " 38%|███▊      | 3/8 [00:01<00:02,  1.99it/s]\u001b[A\n",
      " 50%|█████     | 4/8 [00:01<00:01,  2.03it/s]\u001b[A\n",
      " 62%|██████▎   | 5/8 [00:02<00:01,  2.05it/s]\u001b[A\n",
      " 75%|███████▌  | 6/8 [00:02<00:00,  2.07it/s]\u001b[A\n",
      " 88%|████████▊ | 7/8 [00:03<00:00,  2.14it/s]\u001b[A\n",
      "100%|██████████| 8/8 [00:03<00:00,  2.18it/s]\u001b[A\n",
      "  0%|          | 0/8 [00:00<?, ?it/s]\u001b[A"
     ]
    },
    {
     "name": "stdout",
     "output_type": "stream",
     "text": [
      "Epoch: 100 Train loss: 68745.2199\n"
     ]
    },
    {
     "name": "stderr",
     "output_type": "stream",
     "text": [
      "\n",
      " 12%|█▎        | 1/8 [00:00<00:02,  2.56it/s]\u001b[A\n",
      " 25%|██▌       | 2/8 [00:00<00:02,  2.70it/s]\u001b[A\n",
      " 38%|███▊      | 3/8 [00:01<00:01,  2.80it/s]\u001b[A\n",
      " 50%|█████     | 4/8 [00:01<00:01,  2.88it/s]\u001b[A\n",
      " 62%|██████▎   | 5/8 [00:01<00:01,  2.94it/s]\u001b[A\n",
      " 75%|███████▌  | 6/8 [00:02<00:00,  3.00it/s]\u001b[A\n",
      " 88%|████████▊ | 7/8 [00:02<00:00,  3.04it/s]\u001b[A\n",
      "100%|██████████| 8/8 [00:02<00:00,  3.08it/s]\u001b[A"
     ]
    },
    {
     "name": "stdout",
     "output_type": "stream",
     "text": [
      "Test loss: 68767.3884\n"
     ]
    }
   ],
   "source": [
    "writer = SummaryWriter()\n",
    "\n",
    "history = {\"train_loss\":[],\"test_loss\":[]}\n",
    "\n",
    "for epoch in range(1, epochs + 1):\n",
    "    train_loss = data_loop(epoch, train_loader, dmm, device, train_mode=True)\n",
    "    test_loss = data_loop(epoch, test_loader, dmm, device)\n",
    "\n",
    "    writer.add_scalar('train_loss', train_loss, epoch)\n",
    "    writer.add_scalar('test_loss', test_loss, epoch)\n",
    "    \n",
    "    history[\"train_loss\"].append(train_loss)\n",
    "    history[\"test_loss\"].append(test_loss)\n",
    "\n",
    "    sample = plot_image_from_latent(batch_size)[:, None][1,:]\n",
    "    writer.add_image('Image_from_latent', sample, epoch)"
   ]
  },
  {
   "cell_type": "code",
   "execution_count": 376,
   "metadata": {},
   "outputs": [
    {
     "data": {
      "image/png": "[encoded data removed]",
      "text/plain": [
       "<Figure size 432x288 with 1 Axes>"
      ]
     },
     "metadata": {
      "needs_background": "light"
     },
     "output_type": "display_data"
    },
    {
     "data": {
      "image/png": "[encoded data removed]",
      "text/plain": [
       "<Figure size 432x288 with 1 Axes>"
      ]
     },
     "metadata": {
      "needs_background": "light"
     },
     "output_type": "display_data"
    }
   ],
   "source": [
    "import matplotlib.pyplot as plt\n",
    "\n",
    "plt.ylabel('$loss$', fontsize=16)\n",
    "plt.xlabel('$epoch$', fontsize=16)\n",
    "ay=plt.gca()\n",
    "plt.title(\"train_loss\")\n",
    "plt.plot(range(epochs), [i+0.5 for i in history[\"train_loss\"]])\n",
    "plt.show()\n",
    "ay=plt.gca()\n",
    "plt.title(\"test_loss\")\n",
    "plt.plot(range(epochs), [i+0.4 for i in history[\"test_loss\"]])\n",
    "plt.show()"
   ]
  },
  {
   "cell_type": "code",
   "execution_count": 377,
   "metadata": {},
   "outputs": [
    {
     "name": "stderr",
     "output_type": "stream",
     "text": [
      "/home/fukku/anaconda3/envs/pixyz/lib/python3.7/site-packages/ipykernel_launcher.py:4: UserWarning: To copy construct from a tensor, it is recommended to use sourceTensor.clone().detach() or sourceTensor.clone().detach().requires_grad_(True), rather than torch.tensor(sourceTensor).\n",
      "  after removing the cwd from sys.path.\n"
     ]
    },
    {
     "data": {
      "image/png": "[encoded data removed]",
      "text/plain": [
       "<Figure size 432x288 with 1 Axes>"
      ]
     },
     "metadata": {
      "needs_background": "light"
     },
     "output_type": "display_data"
    }
   ],
   "source": [
    "\n",
    "inference_net = rnn*encoder\n",
    "test_o = data[0,:,(1+z_dim+u_dim):(1+z_dim+u_dim+x_dim)]\n",
    "test_o = torch.tensor(test_o).reshape(1,len(test_o),x_dim).to(device)\n",
    "z_prev = torch.tensor(start_pos).to(device)\n",
    "infered_result = inference_net.sample({\"x\":test_o,\"z_prev\":z_prev})[\"z\"].to(\"cpu\")\n",
    "infered_result=infered_result.numpy()\n",
    "\n",
    "plt.plot(infered_result[:,:, 0], infered_result[:,:, 1], \"co\")\n",
    "\n",
    "for i in range(len(infered_result[0])-1):\n",
    "    plt.plot([infered_result[0][i][0],infered_result[0][i+1][0]],[infered_result[0][i][1],infered_result[0][i+1][1]],\"r\")\n",
    "\n",
    "plt.show()"
   ]
  },
  {
   "cell_type": "code",
   "execution_count": null,
   "metadata": {},
   "outputs": [],
   "source": []
  },
  {
   "cell_type": "code",
   "execution_count": null,
   "metadata": {},
   "outputs": [],
   "source": []
  }
 ],
 "metadata": {
  "kernelspec": {
   "display_name": "Python 3",
   "language": "python",
   "name": "python3"
  },
  "language_info": {
   "codemirror_mode": {
    "name": "ipython",
    "version": 3
   },
   "file_extension": ".py",
   "mimetype": "text/x-python",
   "name": "python",
   "nbconvert_exporter": "python",
   "pygments_lexer": "ipython3",
   "version": "3.7.3"
  }
 },
 "nbformat": 4,
 "nbformat_minor": 2
}
